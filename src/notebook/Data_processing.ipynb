{
  "nbformat": 4,
  "nbformat_minor": 0,
  "metadata": {
    "colab": {
      "name": "Data processing.ipynb",
      "provenance": [],
      "collapsed_sections": [
        "RVdS8yLS6LKd",
        "M3R8U7pMFNOA",
        "99lIqoXO6mmI",
        "FibDXMMT7KNC",
        "qCttVAqsFGUu",
        "qcEwDPBBJFW3",
        "o2ZeDQBFJIUs"
      ],
      "toc_visible": true
    },
    "kernelspec": {
      "name": "python3",
      "display_name": "Python 3"
    },
    "language_info": {
      "name": "python"
    },
    "widgets": {
      "application/vnd.jupyter.widget-state+json": {
        "8a8995a673dd4d6abfa97fe468379e55": {
          "model_module": "@jupyter-widgets/controls",
          "model_name": "HBoxModel",
          "state": {
            "_view_name": "HBoxView",
            "_dom_classes": [],
            "_model_name": "HBoxModel",
            "_view_module": "@jupyter-widgets/controls",
            "_model_module_version": "1.5.0",
            "_view_count": null,
            "_view_module_version": "1.5.0",
            "box_style": "",
            "layout": "IPY_MODEL_1108bb460f55489cbc0e2b822eafdd3f",
            "_model_module": "@jupyter-widgets/controls",
            "children": [
              "IPY_MODEL_b1b36a41046f4e0988e5726a0f442c5d",
              "IPY_MODEL_8d316ba4dd8742cdad4655cce5d9a7a0"
            ]
          }
        },
        "1108bb460f55489cbc0e2b822eafdd3f": {
          "model_module": "@jupyter-widgets/base",
          "model_name": "LayoutModel",
          "state": {
            "_view_name": "LayoutView",
            "grid_template_rows": null,
            "right": null,
            "justify_content": null,
            "_view_module": "@jupyter-widgets/base",
            "overflow": null,
            "_model_module_version": "1.2.0",
            "_view_count": null,
            "flex_flow": null,
            "width": null,
            "min_width": null,
            "border": null,
            "align_items": null,
            "bottom": null,
            "_model_module": "@jupyter-widgets/base",
            "top": null,
            "grid_column": null,
            "overflow_y": null,
            "overflow_x": null,
            "grid_auto_flow": null,
            "grid_area": null,
            "grid_template_columns": null,
            "flex": null,
            "_model_name": "LayoutModel",
            "justify_items": null,
            "grid_row": null,
            "max_height": null,
            "align_content": null,
            "visibility": null,
            "align_self": null,
            "height": null,
            "min_height": null,
            "padding": null,
            "grid_auto_rows": null,
            "grid_gap": null,
            "max_width": null,
            "order": null,
            "_view_module_version": "1.2.0",
            "grid_template_areas": null,
            "object_position": null,
            "object_fit": null,
            "grid_auto_columns": null,
            "margin": null,
            "display": null,
            "left": null
          }
        },
        "b1b36a41046f4e0988e5726a0f442c5d": {
          "model_module": "@jupyter-widgets/controls",
          "model_name": "FloatProgressModel",
          "state": {
            "_view_name": "ProgressView",
            "style": "IPY_MODEL_41d133b81d434158ab89fab90cb5ea4f",
            "_dom_classes": [],
            "description": "100%",
            "_model_name": "FloatProgressModel",
            "bar_style": "success",
            "max": 5622,
            "_view_module": "@jupyter-widgets/controls",
            "_model_module_version": "1.5.0",
            "value": 5622,
            "_view_count": null,
            "_view_module_version": "1.5.0",
            "orientation": "horizontal",
            "min": 0,
            "description_tooltip": null,
            "_model_module": "@jupyter-widgets/controls",
            "layout": "IPY_MODEL_d83d7509c244496396c3bf2e04ac5220"
          }
        },
        "8d316ba4dd8742cdad4655cce5d9a7a0": {
          "model_module": "@jupyter-widgets/controls",
          "model_name": "HTMLModel",
          "state": {
            "_view_name": "HTMLView",
            "style": "IPY_MODEL_c1c119f3a45f4596aab8bb6ee5570f12",
            "_dom_classes": [],
            "description": "",
            "_model_name": "HTMLModel",
            "placeholder": "​",
            "_view_module": "@jupyter-widgets/controls",
            "_model_module_version": "1.5.0",
            "value": " 5622/5622 [14:57&lt;00:00,  6.26it/s]",
            "_view_count": null,
            "_view_module_version": "1.5.0",
            "description_tooltip": null,
            "_model_module": "@jupyter-widgets/controls",
            "layout": "IPY_MODEL_345a5dd1cfb74e8c9ba1ff6754f25b17"
          }
        },
        "41d133b81d434158ab89fab90cb5ea4f": {
          "model_module": "@jupyter-widgets/controls",
          "model_name": "ProgressStyleModel",
          "state": {
            "_view_name": "StyleView",
            "_model_name": "ProgressStyleModel",
            "description_width": "initial",
            "_view_module": "@jupyter-widgets/base",
            "_model_module_version": "1.5.0",
            "_view_count": null,
            "_view_module_version": "1.2.0",
            "bar_color": null,
            "_model_module": "@jupyter-widgets/controls"
          }
        },
        "d83d7509c244496396c3bf2e04ac5220": {
          "model_module": "@jupyter-widgets/base",
          "model_name": "LayoutModel",
          "state": {
            "_view_name": "LayoutView",
            "grid_template_rows": null,
            "right": null,
            "justify_content": null,
            "_view_module": "@jupyter-widgets/base",
            "overflow": null,
            "_model_module_version": "1.2.0",
            "_view_count": null,
            "flex_flow": null,
            "width": null,
            "min_width": null,
            "border": null,
            "align_items": null,
            "bottom": null,
            "_model_module": "@jupyter-widgets/base",
            "top": null,
            "grid_column": null,
            "overflow_y": null,
            "overflow_x": null,
            "grid_auto_flow": null,
            "grid_area": null,
            "grid_template_columns": null,
            "flex": null,
            "_model_name": "LayoutModel",
            "justify_items": null,
            "grid_row": null,
            "max_height": null,
            "align_content": null,
            "visibility": null,
            "align_self": null,
            "height": null,
            "min_height": null,
            "padding": null,
            "grid_auto_rows": null,
            "grid_gap": null,
            "max_width": null,
            "order": null,
            "_view_module_version": "1.2.0",
            "grid_template_areas": null,
            "object_position": null,
            "object_fit": null,
            "grid_auto_columns": null,
            "margin": null,
            "display": null,
            "left": null
          }
        },
        "c1c119f3a45f4596aab8bb6ee5570f12": {
          "model_module": "@jupyter-widgets/controls",
          "model_name": "DescriptionStyleModel",
          "state": {
            "_view_name": "StyleView",
            "_model_name": "DescriptionStyleModel",
            "description_width": "",
            "_view_module": "@jupyter-widgets/base",
            "_model_module_version": "1.5.0",
            "_view_count": null,
            "_view_module_version": "1.2.0",
            "_model_module": "@jupyter-widgets/controls"
          }
        },
        "345a5dd1cfb74e8c9ba1ff6754f25b17": {
          "model_module": "@jupyter-widgets/base",
          "model_name": "LayoutModel",
          "state": {
            "_view_name": "LayoutView",
            "grid_template_rows": null,
            "right": null,
            "justify_content": null,
            "_view_module": "@jupyter-widgets/base",
            "overflow": null,
            "_model_module_version": "1.2.0",
            "_view_count": null,
            "flex_flow": null,
            "width": null,
            "min_width": null,
            "border": null,
            "align_items": null,
            "bottom": null,
            "_model_module": "@jupyter-widgets/base",
            "top": null,
            "grid_column": null,
            "overflow_y": null,
            "overflow_x": null,
            "grid_auto_flow": null,
            "grid_area": null,
            "grid_template_columns": null,
            "flex": null,
            "_model_name": "LayoutModel",
            "justify_items": null,
            "grid_row": null,
            "max_height": null,
            "align_content": null,
            "visibility": null,
            "align_self": null,
            "height": null,
            "min_height": null,
            "padding": null,
            "grid_auto_rows": null,
            "grid_gap": null,
            "max_width": null,
            "order": null,
            "_view_module_version": "1.2.0",
            "grid_template_areas": null,
            "object_position": null,
            "object_fit": null,
            "grid_auto_columns": null,
            "margin": null,
            "display": null,
            "left": null
          }
        },
        "c123fcff42ac4ada9a6ddc8c0791cfad": {
          "model_module": "@jupyter-widgets/controls",
          "model_name": "HBoxModel",
          "state": {
            "_view_name": "HBoxView",
            "_dom_classes": [],
            "_model_name": "HBoxModel",
            "_view_module": "@jupyter-widgets/controls",
            "_model_module_version": "1.5.0",
            "_view_count": null,
            "_view_module_version": "1.5.0",
            "box_style": "",
            "layout": "IPY_MODEL_1bb7ab1902154d7986ed1d6e3afec543",
            "_model_module": "@jupyter-widgets/controls",
            "children": [
              "IPY_MODEL_aec5cbefc3924ddaadd1488037c6a259",
              "IPY_MODEL_6b4d10c74b954c6e97cdafa33086e4b1"
            ]
          }
        },
        "1bb7ab1902154d7986ed1d6e3afec543": {
          "model_module": "@jupyter-widgets/base",
          "model_name": "LayoutModel",
          "state": {
            "_view_name": "LayoutView",
            "grid_template_rows": null,
            "right": null,
            "justify_content": null,
            "_view_module": "@jupyter-widgets/base",
            "overflow": null,
            "_model_module_version": "1.2.0",
            "_view_count": null,
            "flex_flow": null,
            "width": null,
            "min_width": null,
            "border": null,
            "align_items": null,
            "bottom": null,
            "_model_module": "@jupyter-widgets/base",
            "top": null,
            "grid_column": null,
            "overflow_y": null,
            "overflow_x": null,
            "grid_auto_flow": null,
            "grid_area": null,
            "grid_template_columns": null,
            "flex": null,
            "_model_name": "LayoutModel",
            "justify_items": null,
            "grid_row": null,
            "max_height": null,
            "align_content": null,
            "visibility": null,
            "align_self": null,
            "height": null,
            "min_height": null,
            "padding": null,
            "grid_auto_rows": null,
            "grid_gap": null,
            "max_width": null,
            "order": null,
            "_view_module_version": "1.2.0",
            "grid_template_areas": null,
            "object_position": null,
            "object_fit": null,
            "grid_auto_columns": null,
            "margin": null,
            "display": null,
            "left": null
          }
        },
        "aec5cbefc3924ddaadd1488037c6a259": {
          "model_module": "@jupyter-widgets/controls",
          "model_name": "FloatProgressModel",
          "state": {
            "_view_name": "ProgressView",
            "style": "IPY_MODEL_b6282f0d58464a799250041d37785971",
            "_dom_classes": [],
            "description": "100%",
            "_model_name": "FloatProgressModel",
            "bar_style": "success",
            "max": 5604,
            "_view_module": "@jupyter-widgets/controls",
            "_model_module_version": "1.5.0",
            "value": 5604,
            "_view_count": null,
            "_view_module_version": "1.5.0",
            "orientation": "horizontal",
            "min": 0,
            "description_tooltip": null,
            "_model_module": "@jupyter-widgets/controls",
            "layout": "IPY_MODEL_91912c900b62481f9f78bacef5c50c0d"
          }
        },
        "6b4d10c74b954c6e97cdafa33086e4b1": {
          "model_module": "@jupyter-widgets/controls",
          "model_name": "HTMLModel",
          "state": {
            "_view_name": "HTMLView",
            "style": "IPY_MODEL_6c030fa08cf84f95b4b8629078c85800",
            "_dom_classes": [],
            "description": "",
            "_model_name": "HTMLModel",
            "placeholder": "​",
            "_view_module": "@jupyter-widgets/controls",
            "_model_module_version": "1.5.0",
            "value": " 5604/5604 [03:16&lt;00:00, 28.48it/s]",
            "_view_count": null,
            "_view_module_version": "1.5.0",
            "description_tooltip": null,
            "_model_module": "@jupyter-widgets/controls",
            "layout": "IPY_MODEL_b33a5b2bc756444488938f3e92cf3520"
          }
        },
        "b6282f0d58464a799250041d37785971": {
          "model_module": "@jupyter-widgets/controls",
          "model_name": "ProgressStyleModel",
          "state": {
            "_view_name": "StyleView",
            "_model_name": "ProgressStyleModel",
            "description_width": "initial",
            "_view_module": "@jupyter-widgets/base",
            "_model_module_version": "1.5.0",
            "_view_count": null,
            "_view_module_version": "1.2.0",
            "bar_color": null,
            "_model_module": "@jupyter-widgets/controls"
          }
        },
        "91912c900b62481f9f78bacef5c50c0d": {
          "model_module": "@jupyter-widgets/base",
          "model_name": "LayoutModel",
          "state": {
            "_view_name": "LayoutView",
            "grid_template_rows": null,
            "right": null,
            "justify_content": null,
            "_view_module": "@jupyter-widgets/base",
            "overflow": null,
            "_model_module_version": "1.2.0",
            "_view_count": null,
            "flex_flow": null,
            "width": null,
            "min_width": null,
            "border": null,
            "align_items": null,
            "bottom": null,
            "_model_module": "@jupyter-widgets/base",
            "top": null,
            "grid_column": null,
            "overflow_y": null,
            "overflow_x": null,
            "grid_auto_flow": null,
            "grid_area": null,
            "grid_template_columns": null,
            "flex": null,
            "_model_name": "LayoutModel",
            "justify_items": null,
            "grid_row": null,
            "max_height": null,
            "align_content": null,
            "visibility": null,
            "align_self": null,
            "height": null,
            "min_height": null,
            "padding": null,
            "grid_auto_rows": null,
            "grid_gap": null,
            "max_width": null,
            "order": null,
            "_view_module_version": "1.2.0",
            "grid_template_areas": null,
            "object_position": null,
            "object_fit": null,
            "grid_auto_columns": null,
            "margin": null,
            "display": null,
            "left": null
          }
        },
        "6c030fa08cf84f95b4b8629078c85800": {
          "model_module": "@jupyter-widgets/controls",
          "model_name": "DescriptionStyleModel",
          "state": {
            "_view_name": "StyleView",
            "_model_name": "DescriptionStyleModel",
            "description_width": "",
            "_view_module": "@jupyter-widgets/base",
            "_model_module_version": "1.5.0",
            "_view_count": null,
            "_view_module_version": "1.2.0",
            "_model_module": "@jupyter-widgets/controls"
          }
        },
        "b33a5b2bc756444488938f3e92cf3520": {
          "model_module": "@jupyter-widgets/base",
          "model_name": "LayoutModel",
          "state": {
            "_view_name": "LayoutView",
            "grid_template_rows": null,
            "right": null,
            "justify_content": null,
            "_view_module": "@jupyter-widgets/base",
            "overflow": null,
            "_model_module_version": "1.2.0",
            "_view_count": null,
            "flex_flow": null,
            "width": null,
            "min_width": null,
            "border": null,
            "align_items": null,
            "bottom": null,
            "_model_module": "@jupyter-widgets/base",
            "top": null,
            "grid_column": null,
            "overflow_y": null,
            "overflow_x": null,
            "grid_auto_flow": null,
            "grid_area": null,
            "grid_template_columns": null,
            "flex": null,
            "_model_name": "LayoutModel",
            "justify_items": null,
            "grid_row": null,
            "max_height": null,
            "align_content": null,
            "visibility": null,
            "align_self": null,
            "height": null,
            "min_height": null,
            "padding": null,
            "grid_auto_rows": null,
            "grid_gap": null,
            "max_width": null,
            "order": null,
            "_view_module_version": "1.2.0",
            "grid_template_areas": null,
            "object_position": null,
            "object_fit": null,
            "grid_auto_columns": null,
            "margin": null,
            "display": null,
            "left": null
          }
        },
        "40179dccf3ac4870ae628ee145ca1807": {
          "model_module": "@jupyter-widgets/controls",
          "model_name": "HBoxModel",
          "state": {
            "_view_name": "HBoxView",
            "_dom_classes": [],
            "_model_name": "HBoxModel",
            "_view_module": "@jupyter-widgets/controls",
            "_model_module_version": "1.5.0",
            "_view_count": null,
            "_view_module_version": "1.5.0",
            "box_style": "",
            "layout": "IPY_MODEL_728a083c488945bd980cc9e47bbba801",
            "_model_module": "@jupyter-widgets/controls",
            "children": [
              "IPY_MODEL_bfde00005e364eb2946eb07389a7a374",
              "IPY_MODEL_bd8c6efc968843899560bb7248e6ee8b"
            ]
          }
        },
        "728a083c488945bd980cc9e47bbba801": {
          "model_module": "@jupyter-widgets/base",
          "model_name": "LayoutModel",
          "state": {
            "_view_name": "LayoutView",
            "grid_template_rows": null,
            "right": null,
            "justify_content": null,
            "_view_module": "@jupyter-widgets/base",
            "overflow": null,
            "_model_module_version": "1.2.0",
            "_view_count": null,
            "flex_flow": null,
            "width": null,
            "min_width": null,
            "border": null,
            "align_items": null,
            "bottom": null,
            "_model_module": "@jupyter-widgets/base",
            "top": null,
            "grid_column": null,
            "overflow_y": null,
            "overflow_x": null,
            "grid_auto_flow": null,
            "grid_area": null,
            "grid_template_columns": null,
            "flex": null,
            "_model_name": "LayoutModel",
            "justify_items": null,
            "grid_row": null,
            "max_height": null,
            "align_content": null,
            "visibility": null,
            "align_self": null,
            "height": null,
            "min_height": null,
            "padding": null,
            "grid_auto_rows": null,
            "grid_gap": null,
            "max_width": null,
            "order": null,
            "_view_module_version": "1.2.0",
            "grid_template_areas": null,
            "object_position": null,
            "object_fit": null,
            "grid_auto_columns": null,
            "margin": null,
            "display": null,
            "left": null
          }
        },
        "bfde00005e364eb2946eb07389a7a374": {
          "model_module": "@jupyter-widgets/controls",
          "model_name": "FloatProgressModel",
          "state": {
            "_view_name": "ProgressView",
            "style": "IPY_MODEL_937e6559672e459f8e58312148da5b0b",
            "_dom_classes": [],
            "description": "100%",
            "_model_name": "FloatProgressModel",
            "bar_style": "success",
            "max": 5604,
            "_view_module": "@jupyter-widgets/controls",
            "_model_module_version": "1.5.0",
            "value": 5604,
            "_view_count": null,
            "_view_module_version": "1.5.0",
            "orientation": "horizontal",
            "min": 0,
            "description_tooltip": null,
            "_model_module": "@jupyter-widgets/controls",
            "layout": "IPY_MODEL_c9d8a2f48fad461781e991edee93f8c5"
          }
        },
        "bd8c6efc968843899560bb7248e6ee8b": {
          "model_module": "@jupyter-widgets/controls",
          "model_name": "HTMLModel",
          "state": {
            "_view_name": "HTMLView",
            "style": "IPY_MODEL_faeed85a7ab4481e960e711e08a4a3cd",
            "_dom_classes": [],
            "description": "",
            "_model_name": "HTMLModel",
            "placeholder": "​",
            "_view_module": "@jupyter-widgets/controls",
            "_model_module_version": "1.5.0",
            "value": " 5604/5604 [02:56&lt;00:00, 31.75it/s]",
            "_view_count": null,
            "_view_module_version": "1.5.0",
            "description_tooltip": null,
            "_model_module": "@jupyter-widgets/controls",
            "layout": "IPY_MODEL_4274b66ae6f14747817f369abcb28eed"
          }
        },
        "937e6559672e459f8e58312148da5b0b": {
          "model_module": "@jupyter-widgets/controls",
          "model_name": "ProgressStyleModel",
          "state": {
            "_view_name": "StyleView",
            "_model_name": "ProgressStyleModel",
            "description_width": "initial",
            "_view_module": "@jupyter-widgets/base",
            "_model_module_version": "1.5.0",
            "_view_count": null,
            "_view_module_version": "1.2.0",
            "bar_color": null,
            "_model_module": "@jupyter-widgets/controls"
          }
        },
        "c9d8a2f48fad461781e991edee93f8c5": {
          "model_module": "@jupyter-widgets/base",
          "model_name": "LayoutModel",
          "state": {
            "_view_name": "LayoutView",
            "grid_template_rows": null,
            "right": null,
            "justify_content": null,
            "_view_module": "@jupyter-widgets/base",
            "overflow": null,
            "_model_module_version": "1.2.0",
            "_view_count": null,
            "flex_flow": null,
            "width": null,
            "min_width": null,
            "border": null,
            "align_items": null,
            "bottom": null,
            "_model_module": "@jupyter-widgets/base",
            "top": null,
            "grid_column": null,
            "overflow_y": null,
            "overflow_x": null,
            "grid_auto_flow": null,
            "grid_area": null,
            "grid_template_columns": null,
            "flex": null,
            "_model_name": "LayoutModel",
            "justify_items": null,
            "grid_row": null,
            "max_height": null,
            "align_content": null,
            "visibility": null,
            "align_self": null,
            "height": null,
            "min_height": null,
            "padding": null,
            "grid_auto_rows": null,
            "grid_gap": null,
            "max_width": null,
            "order": null,
            "_view_module_version": "1.2.0",
            "grid_template_areas": null,
            "object_position": null,
            "object_fit": null,
            "grid_auto_columns": null,
            "margin": null,
            "display": null,
            "left": null
          }
        },
        "faeed85a7ab4481e960e711e08a4a3cd": {
          "model_module": "@jupyter-widgets/controls",
          "model_name": "DescriptionStyleModel",
          "state": {
            "_view_name": "StyleView",
            "_model_name": "DescriptionStyleModel",
            "description_width": "",
            "_view_module": "@jupyter-widgets/base",
            "_model_module_version": "1.5.0",
            "_view_count": null,
            "_view_module_version": "1.2.0",
            "_model_module": "@jupyter-widgets/controls"
          }
        },
        "4274b66ae6f14747817f369abcb28eed": {
          "model_module": "@jupyter-widgets/base",
          "model_name": "LayoutModel",
          "state": {
            "_view_name": "LayoutView",
            "grid_template_rows": null,
            "right": null,
            "justify_content": null,
            "_view_module": "@jupyter-widgets/base",
            "overflow": null,
            "_model_module_version": "1.2.0",
            "_view_count": null,
            "flex_flow": null,
            "width": null,
            "min_width": null,
            "border": null,
            "align_items": null,
            "bottom": null,
            "_model_module": "@jupyter-widgets/base",
            "top": null,
            "grid_column": null,
            "overflow_y": null,
            "overflow_x": null,
            "grid_auto_flow": null,
            "grid_area": null,
            "grid_template_columns": null,
            "flex": null,
            "_model_name": "LayoutModel",
            "justify_items": null,
            "grid_row": null,
            "max_height": null,
            "align_content": null,
            "visibility": null,
            "align_self": null,
            "height": null,
            "min_height": null,
            "padding": null,
            "grid_auto_rows": null,
            "grid_gap": null,
            "max_width": null,
            "order": null,
            "_view_module_version": "1.2.0",
            "grid_template_areas": null,
            "object_position": null,
            "object_fit": null,
            "grid_auto_columns": null,
            "margin": null,
            "display": null,
            "left": null
          }
        },
        "3ea3675d272f4c5bafb4ec20324c8bb3": {
          "model_module": "@jupyter-widgets/controls",
          "model_name": "HBoxModel",
          "state": {
            "_view_name": "HBoxView",
            "_dom_classes": [],
            "_model_name": "HBoxModel",
            "_view_module": "@jupyter-widgets/controls",
            "_model_module_version": "1.5.0",
            "_view_count": null,
            "_view_module_version": "1.5.0",
            "box_style": "",
            "layout": "IPY_MODEL_d3a38d9b09104898ad14f57e4cb3e665",
            "_model_module": "@jupyter-widgets/controls",
            "children": [
              "IPY_MODEL_5b813ada73ba4b64a420d3174f038e7e",
              "IPY_MODEL_5d327eb438f14d46b74796898c5c6179"
            ]
          }
        },
        "d3a38d9b09104898ad14f57e4cb3e665": {
          "model_module": "@jupyter-widgets/base",
          "model_name": "LayoutModel",
          "state": {
            "_view_name": "LayoutView",
            "grid_template_rows": null,
            "right": null,
            "justify_content": null,
            "_view_module": "@jupyter-widgets/base",
            "overflow": null,
            "_model_module_version": "1.2.0",
            "_view_count": null,
            "flex_flow": null,
            "width": null,
            "min_width": null,
            "border": null,
            "align_items": null,
            "bottom": null,
            "_model_module": "@jupyter-widgets/base",
            "top": null,
            "grid_column": null,
            "overflow_y": null,
            "overflow_x": null,
            "grid_auto_flow": null,
            "grid_area": null,
            "grid_template_columns": null,
            "flex": null,
            "_model_name": "LayoutModel",
            "justify_items": null,
            "grid_row": null,
            "max_height": null,
            "align_content": null,
            "visibility": null,
            "align_self": null,
            "height": null,
            "min_height": null,
            "padding": null,
            "grid_auto_rows": null,
            "grid_gap": null,
            "max_width": null,
            "order": null,
            "_view_module_version": "1.2.0",
            "grid_template_areas": null,
            "object_position": null,
            "object_fit": null,
            "grid_auto_columns": null,
            "margin": null,
            "display": null,
            "left": null
          }
        },
        "5b813ada73ba4b64a420d3174f038e7e": {
          "model_module": "@jupyter-widgets/controls",
          "model_name": "FloatProgressModel",
          "state": {
            "_view_name": "ProgressView",
            "style": "IPY_MODEL_07b93d0ee80c4520886f2f3e5ab210ab",
            "_dom_classes": [],
            "description": "100%",
            "_model_name": "FloatProgressModel",
            "bar_style": "success",
            "max": 5609,
            "_view_module": "@jupyter-widgets/controls",
            "_model_module_version": "1.5.0",
            "value": 5609,
            "_view_count": null,
            "_view_module_version": "1.5.0",
            "orientation": "horizontal",
            "min": 0,
            "description_tooltip": null,
            "_model_module": "@jupyter-widgets/controls",
            "layout": "IPY_MODEL_d7cfa176057c4e3a93a42866981e60f8"
          }
        },
        "5d327eb438f14d46b74796898c5c6179": {
          "model_module": "@jupyter-widgets/controls",
          "model_name": "HTMLModel",
          "state": {
            "_view_name": "HTMLView",
            "style": "IPY_MODEL_46650ce0d2004bd098aa7382c349515a",
            "_dom_classes": [],
            "description": "",
            "_model_name": "HTMLModel",
            "placeholder": "​",
            "_view_module": "@jupyter-widgets/controls",
            "_model_module_version": "1.5.0",
            "value": " 5609/5609 [01:58&lt;00:00, 47.20it/s]",
            "_view_count": null,
            "_view_module_version": "1.5.0",
            "description_tooltip": null,
            "_model_module": "@jupyter-widgets/controls",
            "layout": "IPY_MODEL_ca525863b0244b389c442b9440dc7309"
          }
        },
        "07b93d0ee80c4520886f2f3e5ab210ab": {
          "model_module": "@jupyter-widgets/controls",
          "model_name": "ProgressStyleModel",
          "state": {
            "_view_name": "StyleView",
            "_model_name": "ProgressStyleModel",
            "description_width": "initial",
            "_view_module": "@jupyter-widgets/base",
            "_model_module_version": "1.5.0",
            "_view_count": null,
            "_view_module_version": "1.2.0",
            "bar_color": null,
            "_model_module": "@jupyter-widgets/controls"
          }
        },
        "d7cfa176057c4e3a93a42866981e60f8": {
          "model_module": "@jupyter-widgets/base",
          "model_name": "LayoutModel",
          "state": {
            "_view_name": "LayoutView",
            "grid_template_rows": null,
            "right": null,
            "justify_content": null,
            "_view_module": "@jupyter-widgets/base",
            "overflow": null,
            "_model_module_version": "1.2.0",
            "_view_count": null,
            "flex_flow": null,
            "width": null,
            "min_width": null,
            "border": null,
            "align_items": null,
            "bottom": null,
            "_model_module": "@jupyter-widgets/base",
            "top": null,
            "grid_column": null,
            "overflow_y": null,
            "overflow_x": null,
            "grid_auto_flow": null,
            "grid_area": null,
            "grid_template_columns": null,
            "flex": null,
            "_model_name": "LayoutModel",
            "justify_items": null,
            "grid_row": null,
            "max_height": null,
            "align_content": null,
            "visibility": null,
            "align_self": null,
            "height": null,
            "min_height": null,
            "padding": null,
            "grid_auto_rows": null,
            "grid_gap": null,
            "max_width": null,
            "order": null,
            "_view_module_version": "1.2.0",
            "grid_template_areas": null,
            "object_position": null,
            "object_fit": null,
            "grid_auto_columns": null,
            "margin": null,
            "display": null,
            "left": null
          }
        },
        "46650ce0d2004bd098aa7382c349515a": {
          "model_module": "@jupyter-widgets/controls",
          "model_name": "DescriptionStyleModel",
          "state": {
            "_view_name": "StyleView",
            "_model_name": "DescriptionStyleModel",
            "description_width": "",
            "_view_module": "@jupyter-widgets/base",
            "_model_module_version": "1.5.0",
            "_view_count": null,
            "_view_module_version": "1.2.0",
            "_model_module": "@jupyter-widgets/controls"
          }
        },
        "ca525863b0244b389c442b9440dc7309": {
          "model_module": "@jupyter-widgets/base",
          "model_name": "LayoutModel",
          "state": {
            "_view_name": "LayoutView",
            "grid_template_rows": null,
            "right": null,
            "justify_content": null,
            "_view_module": "@jupyter-widgets/base",
            "overflow": null,
            "_model_module_version": "1.2.0",
            "_view_count": null,
            "flex_flow": null,
            "width": null,
            "min_width": null,
            "border": null,
            "align_items": null,
            "bottom": null,
            "_model_module": "@jupyter-widgets/base",
            "top": null,
            "grid_column": null,
            "overflow_y": null,
            "overflow_x": null,
            "grid_auto_flow": null,
            "grid_area": null,
            "grid_template_columns": null,
            "flex": null,
            "_model_name": "LayoutModel",
            "justify_items": null,
            "grid_row": null,
            "max_height": null,
            "align_content": null,
            "visibility": null,
            "align_self": null,
            "height": null,
            "min_height": null,
            "padding": null,
            "grid_auto_rows": null,
            "grid_gap": null,
            "max_width": null,
            "order": null,
            "_view_module_version": "1.2.0",
            "grid_template_areas": null,
            "object_position": null,
            "object_fit": null,
            "grid_auto_columns": null,
            "margin": null,
            "display": null,
            "left": null
          }
        },
        "bf159ffd23264786812f49b0db9f2a7a": {
          "model_module": "@jupyter-widgets/controls",
          "model_name": "HBoxModel",
          "state": {
            "_view_name": "HBoxView",
            "_dom_classes": [],
            "_model_name": "HBoxModel",
            "_view_module": "@jupyter-widgets/controls",
            "_model_module_version": "1.5.0",
            "_view_count": null,
            "_view_module_version": "1.5.0",
            "box_style": "",
            "layout": "IPY_MODEL_daba0840293346cdbe246ca889688f35",
            "_model_module": "@jupyter-widgets/controls",
            "children": [
              "IPY_MODEL_b2f1fc8057b84d708954b947e1182fa7",
              "IPY_MODEL_d7f09e79c7a447d5be08c8b27206b1ff"
            ]
          }
        },
        "daba0840293346cdbe246ca889688f35": {
          "model_module": "@jupyter-widgets/base",
          "model_name": "LayoutModel",
          "state": {
            "_view_name": "LayoutView",
            "grid_template_rows": null,
            "right": null,
            "justify_content": null,
            "_view_module": "@jupyter-widgets/base",
            "overflow": null,
            "_model_module_version": "1.2.0",
            "_view_count": null,
            "flex_flow": null,
            "width": null,
            "min_width": null,
            "border": null,
            "align_items": null,
            "bottom": null,
            "_model_module": "@jupyter-widgets/base",
            "top": null,
            "grid_column": null,
            "overflow_y": null,
            "overflow_x": null,
            "grid_auto_flow": null,
            "grid_area": null,
            "grid_template_columns": null,
            "flex": null,
            "_model_name": "LayoutModel",
            "justify_items": null,
            "grid_row": null,
            "max_height": null,
            "align_content": null,
            "visibility": null,
            "align_self": null,
            "height": null,
            "min_height": null,
            "padding": null,
            "grid_auto_rows": null,
            "grid_gap": null,
            "max_width": null,
            "order": null,
            "_view_module_version": "1.2.0",
            "grid_template_areas": null,
            "object_position": null,
            "object_fit": null,
            "grid_auto_columns": null,
            "margin": null,
            "display": null,
            "left": null
          }
        },
        "b2f1fc8057b84d708954b947e1182fa7": {
          "model_module": "@jupyter-widgets/controls",
          "model_name": "FloatProgressModel",
          "state": {
            "_view_name": "ProgressView",
            "style": "IPY_MODEL_75043fc860ab40de9c68d66ddf2269fd",
            "_dom_classes": [],
            "description": "100%",
            "_model_name": "FloatProgressModel",
            "bar_style": "success",
            "max": 5609,
            "_view_module": "@jupyter-widgets/controls",
            "_model_module_version": "1.5.0",
            "value": 5609,
            "_view_count": null,
            "_view_module_version": "1.5.0",
            "orientation": "horizontal",
            "min": 0,
            "description_tooltip": null,
            "_model_module": "@jupyter-widgets/controls",
            "layout": "IPY_MODEL_e2212b9e056d4eccaac8b4744aeeb2cb"
          }
        },
        "d7f09e79c7a447d5be08c8b27206b1ff": {
          "model_module": "@jupyter-widgets/controls",
          "model_name": "HTMLModel",
          "state": {
            "_view_name": "HTMLView",
            "style": "IPY_MODEL_39ad3ef60e5742bca9e83fe2c96959a9",
            "_dom_classes": [],
            "description": "",
            "_model_name": "HTMLModel",
            "placeholder": "​",
            "_view_module": "@jupyter-widgets/controls",
            "_model_module_version": "1.5.0",
            "value": " 5609/5609 [00:58&lt;00:00, 96.65it/s]",
            "_view_count": null,
            "_view_module_version": "1.5.0",
            "description_tooltip": null,
            "_model_module": "@jupyter-widgets/controls",
            "layout": "IPY_MODEL_d45303c716114acbad6197b3883b78a3"
          }
        },
        "75043fc860ab40de9c68d66ddf2269fd": {
          "model_module": "@jupyter-widgets/controls",
          "model_name": "ProgressStyleModel",
          "state": {
            "_view_name": "StyleView",
            "_model_name": "ProgressStyleModel",
            "description_width": "initial",
            "_view_module": "@jupyter-widgets/base",
            "_model_module_version": "1.5.0",
            "_view_count": null,
            "_view_module_version": "1.2.0",
            "bar_color": null,
            "_model_module": "@jupyter-widgets/controls"
          }
        },
        "e2212b9e056d4eccaac8b4744aeeb2cb": {
          "model_module": "@jupyter-widgets/base",
          "model_name": "LayoutModel",
          "state": {
            "_view_name": "LayoutView",
            "grid_template_rows": null,
            "right": null,
            "justify_content": null,
            "_view_module": "@jupyter-widgets/base",
            "overflow": null,
            "_model_module_version": "1.2.0",
            "_view_count": null,
            "flex_flow": null,
            "width": null,
            "min_width": null,
            "border": null,
            "align_items": null,
            "bottom": null,
            "_model_module": "@jupyter-widgets/base",
            "top": null,
            "grid_column": null,
            "overflow_y": null,
            "overflow_x": null,
            "grid_auto_flow": null,
            "grid_area": null,
            "grid_template_columns": null,
            "flex": null,
            "_model_name": "LayoutModel",
            "justify_items": null,
            "grid_row": null,
            "max_height": null,
            "align_content": null,
            "visibility": null,
            "align_self": null,
            "height": null,
            "min_height": null,
            "padding": null,
            "grid_auto_rows": null,
            "grid_gap": null,
            "max_width": null,
            "order": null,
            "_view_module_version": "1.2.0",
            "grid_template_areas": null,
            "object_position": null,
            "object_fit": null,
            "grid_auto_columns": null,
            "margin": null,
            "display": null,
            "left": null
          }
        },
        "39ad3ef60e5742bca9e83fe2c96959a9": {
          "model_module": "@jupyter-widgets/controls",
          "model_name": "DescriptionStyleModel",
          "state": {
            "_view_name": "StyleView",
            "_model_name": "DescriptionStyleModel",
            "description_width": "",
            "_view_module": "@jupyter-widgets/base",
            "_model_module_version": "1.5.0",
            "_view_count": null,
            "_view_module_version": "1.2.0",
            "_model_module": "@jupyter-widgets/controls"
          }
        },
        "d45303c716114acbad6197b3883b78a3": {
          "model_module": "@jupyter-widgets/base",
          "model_name": "LayoutModel",
          "state": {
            "_view_name": "LayoutView",
            "grid_template_rows": null,
            "right": null,
            "justify_content": null,
            "_view_module": "@jupyter-widgets/base",
            "overflow": null,
            "_model_module_version": "1.2.0",
            "_view_count": null,
            "flex_flow": null,
            "width": null,
            "min_width": null,
            "border": null,
            "align_items": null,
            "bottom": null,
            "_model_module": "@jupyter-widgets/base",
            "top": null,
            "grid_column": null,
            "overflow_y": null,
            "overflow_x": null,
            "grid_auto_flow": null,
            "grid_area": null,
            "grid_template_columns": null,
            "flex": null,
            "_model_name": "LayoutModel",
            "justify_items": null,
            "grid_row": null,
            "max_height": null,
            "align_content": null,
            "visibility": null,
            "align_self": null,
            "height": null,
            "min_height": null,
            "padding": null,
            "grid_auto_rows": null,
            "grid_gap": null,
            "max_width": null,
            "order": null,
            "_view_module_version": "1.2.0",
            "grid_template_areas": null,
            "object_position": null,
            "object_fit": null,
            "grid_auto_columns": null,
            "margin": null,
            "display": null,
            "left": null
          }
        },
        "201a57b771794587b70fa535db6925bb": {
          "model_module": "@jupyter-widgets/controls",
          "model_name": "HBoxModel",
          "state": {
            "_view_name": "HBoxView",
            "_dom_classes": [],
            "_model_name": "HBoxModel",
            "_view_module": "@jupyter-widgets/controls",
            "_model_module_version": "1.5.0",
            "_view_count": null,
            "_view_module_version": "1.5.0",
            "box_style": "",
            "layout": "IPY_MODEL_ffa9ce61f908451fa2528e2b8233466b",
            "_model_module": "@jupyter-widgets/controls",
            "children": [
              "IPY_MODEL_35f758947d5e4c8b94bdca935ec647c0",
              "IPY_MODEL_6a398567de8f443e9dda304c0c3a0a0a"
            ]
          }
        },
        "ffa9ce61f908451fa2528e2b8233466b": {
          "model_module": "@jupyter-widgets/base",
          "model_name": "LayoutModel",
          "state": {
            "_view_name": "LayoutView",
            "grid_template_rows": null,
            "right": null,
            "justify_content": null,
            "_view_module": "@jupyter-widgets/base",
            "overflow": null,
            "_model_module_version": "1.2.0",
            "_view_count": null,
            "flex_flow": null,
            "width": null,
            "min_width": null,
            "border": null,
            "align_items": null,
            "bottom": null,
            "_model_module": "@jupyter-widgets/base",
            "top": null,
            "grid_column": null,
            "overflow_y": null,
            "overflow_x": null,
            "grid_auto_flow": null,
            "grid_area": null,
            "grid_template_columns": null,
            "flex": null,
            "_model_name": "LayoutModel",
            "justify_items": null,
            "grid_row": null,
            "max_height": null,
            "align_content": null,
            "visibility": null,
            "align_self": null,
            "height": null,
            "min_height": null,
            "padding": null,
            "grid_auto_rows": null,
            "grid_gap": null,
            "max_width": null,
            "order": null,
            "_view_module_version": "1.2.0",
            "grid_template_areas": null,
            "object_position": null,
            "object_fit": null,
            "grid_auto_columns": null,
            "margin": null,
            "display": null,
            "left": null
          }
        },
        "35f758947d5e4c8b94bdca935ec647c0": {
          "model_module": "@jupyter-widgets/controls",
          "model_name": "FloatProgressModel",
          "state": {
            "_view_name": "ProgressView",
            "style": "IPY_MODEL_c2a663facc7e4eedba00eba12b7e6ae4",
            "_dom_classes": [],
            "description": "100%",
            "_model_name": "FloatProgressModel",
            "bar_style": "success",
            "max": 5604,
            "_view_module": "@jupyter-widgets/controls",
            "_model_module_version": "1.5.0",
            "value": 5604,
            "_view_count": null,
            "_view_module_version": "1.5.0",
            "orientation": "horizontal",
            "min": 0,
            "description_tooltip": null,
            "_model_module": "@jupyter-widgets/controls",
            "layout": "IPY_MODEL_0bc4327ba2af4e1fa6c861d1f09f8bf2"
          }
        },
        "6a398567de8f443e9dda304c0c3a0a0a": {
          "model_module": "@jupyter-widgets/controls",
          "model_name": "HTMLModel",
          "state": {
            "_view_name": "HTMLView",
            "style": "IPY_MODEL_80b112563a424370a4d77329d22cafee",
            "_dom_classes": [],
            "description": "",
            "_model_name": "HTMLModel",
            "placeholder": "​",
            "_view_module": "@jupyter-widgets/controls",
            "_model_module_version": "1.5.0",
            "value": " 5604/5604 [00:03&lt;00:00, 1708.86it/s]",
            "_view_count": null,
            "_view_module_version": "1.5.0",
            "description_tooltip": null,
            "_model_module": "@jupyter-widgets/controls",
            "layout": "IPY_MODEL_f48b2efb11a34a3a8c89407d63b5b5bc"
          }
        },
        "c2a663facc7e4eedba00eba12b7e6ae4": {
          "model_module": "@jupyter-widgets/controls",
          "model_name": "ProgressStyleModel",
          "state": {
            "_view_name": "StyleView",
            "_model_name": "ProgressStyleModel",
            "description_width": "initial",
            "_view_module": "@jupyter-widgets/base",
            "_model_module_version": "1.5.0",
            "_view_count": null,
            "_view_module_version": "1.2.0",
            "bar_color": null,
            "_model_module": "@jupyter-widgets/controls"
          }
        },
        "0bc4327ba2af4e1fa6c861d1f09f8bf2": {
          "model_module": "@jupyter-widgets/base",
          "model_name": "LayoutModel",
          "state": {
            "_view_name": "LayoutView",
            "grid_template_rows": null,
            "right": null,
            "justify_content": null,
            "_view_module": "@jupyter-widgets/base",
            "overflow": null,
            "_model_module_version": "1.2.0",
            "_view_count": null,
            "flex_flow": null,
            "width": null,
            "min_width": null,
            "border": null,
            "align_items": null,
            "bottom": null,
            "_model_module": "@jupyter-widgets/base",
            "top": null,
            "grid_column": null,
            "overflow_y": null,
            "overflow_x": null,
            "grid_auto_flow": null,
            "grid_area": null,
            "grid_template_columns": null,
            "flex": null,
            "_model_name": "LayoutModel",
            "justify_items": null,
            "grid_row": null,
            "max_height": null,
            "align_content": null,
            "visibility": null,
            "align_self": null,
            "height": null,
            "min_height": null,
            "padding": null,
            "grid_auto_rows": null,
            "grid_gap": null,
            "max_width": null,
            "order": null,
            "_view_module_version": "1.2.0",
            "grid_template_areas": null,
            "object_position": null,
            "object_fit": null,
            "grid_auto_columns": null,
            "margin": null,
            "display": null,
            "left": null
          }
        },
        "80b112563a424370a4d77329d22cafee": {
          "model_module": "@jupyter-widgets/controls",
          "model_name": "DescriptionStyleModel",
          "state": {
            "_view_name": "StyleView",
            "_model_name": "DescriptionStyleModel",
            "description_width": "",
            "_view_module": "@jupyter-widgets/base",
            "_model_module_version": "1.5.0",
            "_view_count": null,
            "_view_module_version": "1.2.0",
            "_model_module": "@jupyter-widgets/controls"
          }
        },
        "f48b2efb11a34a3a8c89407d63b5b5bc": {
          "model_module": "@jupyter-widgets/base",
          "model_name": "LayoutModel",
          "state": {
            "_view_name": "LayoutView",
            "grid_template_rows": null,
            "right": null,
            "justify_content": null,
            "_view_module": "@jupyter-widgets/base",
            "overflow": null,
            "_model_module_version": "1.2.0",
            "_view_count": null,
            "flex_flow": null,
            "width": null,
            "min_width": null,
            "border": null,
            "align_items": null,
            "bottom": null,
            "_model_module": "@jupyter-widgets/base",
            "top": null,
            "grid_column": null,
            "overflow_y": null,
            "overflow_x": null,
            "grid_auto_flow": null,
            "grid_area": null,
            "grid_template_columns": null,
            "flex": null,
            "_model_name": "LayoutModel",
            "justify_items": null,
            "grid_row": null,
            "max_height": null,
            "align_content": null,
            "visibility": null,
            "align_self": null,
            "height": null,
            "min_height": null,
            "padding": null,
            "grid_auto_rows": null,
            "grid_gap": null,
            "max_width": null,
            "order": null,
            "_view_module_version": "1.2.0",
            "grid_template_areas": null,
            "object_position": null,
            "object_fit": null,
            "grid_auto_columns": null,
            "margin": null,
            "display": null,
            "left": null
          }
        },
        "b471a25343664583b027e773b9d9396f": {
          "model_module": "@jupyter-widgets/controls",
          "model_name": "HBoxModel",
          "state": {
            "_view_name": "HBoxView",
            "_dom_classes": [],
            "_model_name": "HBoxModel",
            "_view_module": "@jupyter-widgets/controls",
            "_model_module_version": "1.5.0",
            "_view_count": null,
            "_view_module_version": "1.5.0",
            "box_style": "",
            "layout": "IPY_MODEL_696d5457ce684be6a6038fd4e7c0974d",
            "_model_module": "@jupyter-widgets/controls",
            "children": [
              "IPY_MODEL_011d5807d8b7464f96873bfe1c8fcaa7",
              "IPY_MODEL_f49e4b5fc29e4923b0c507df94406493"
            ]
          }
        },
        "696d5457ce684be6a6038fd4e7c0974d": {
          "model_module": "@jupyter-widgets/base",
          "model_name": "LayoutModel",
          "state": {
            "_view_name": "LayoutView",
            "grid_template_rows": null,
            "right": null,
            "justify_content": null,
            "_view_module": "@jupyter-widgets/base",
            "overflow": null,
            "_model_module_version": "1.2.0",
            "_view_count": null,
            "flex_flow": null,
            "width": null,
            "min_width": null,
            "border": null,
            "align_items": null,
            "bottom": null,
            "_model_module": "@jupyter-widgets/base",
            "top": null,
            "grid_column": null,
            "overflow_y": null,
            "overflow_x": null,
            "grid_auto_flow": null,
            "grid_area": null,
            "grid_template_columns": null,
            "flex": null,
            "_model_name": "LayoutModel",
            "justify_items": null,
            "grid_row": null,
            "max_height": null,
            "align_content": null,
            "visibility": null,
            "align_self": null,
            "height": null,
            "min_height": null,
            "padding": null,
            "grid_auto_rows": null,
            "grid_gap": null,
            "max_width": null,
            "order": null,
            "_view_module_version": "1.2.0",
            "grid_template_areas": null,
            "object_position": null,
            "object_fit": null,
            "grid_auto_columns": null,
            "margin": null,
            "display": null,
            "left": null
          }
        },
        "011d5807d8b7464f96873bfe1c8fcaa7": {
          "model_module": "@jupyter-widgets/controls",
          "model_name": "FloatProgressModel",
          "state": {
            "_view_name": "ProgressView",
            "style": "IPY_MODEL_4c22244f46134aadb623f48b5c128126",
            "_dom_classes": [],
            "description": "100%",
            "_model_name": "FloatProgressModel",
            "bar_style": "success",
            "max": 5604,
            "_view_module": "@jupyter-widgets/controls",
            "_model_module_version": "1.5.0",
            "value": 5604,
            "_view_count": null,
            "_view_module_version": "1.5.0",
            "orientation": "horizontal",
            "min": 0,
            "description_tooltip": null,
            "_model_module": "@jupyter-widgets/controls",
            "layout": "IPY_MODEL_344940287a674ef4a619ead472d72f14"
          }
        },
        "f49e4b5fc29e4923b0c507df94406493": {
          "model_module": "@jupyter-widgets/controls",
          "model_name": "HTMLModel",
          "state": {
            "_view_name": "HTMLView",
            "style": "IPY_MODEL_ed91cb03a749414e8f28fdd9d13e8474",
            "_dom_classes": [],
            "description": "",
            "_model_name": "HTMLModel",
            "placeholder": "​",
            "_view_module": "@jupyter-widgets/controls",
            "_model_module_version": "1.5.0",
            "value": " 5604/5604 [08:13&lt;00:00, 11.36it/s]",
            "_view_count": null,
            "_view_module_version": "1.5.0",
            "description_tooltip": null,
            "_model_module": "@jupyter-widgets/controls",
            "layout": "IPY_MODEL_019fc7d231e04a01929d2b61809633aa"
          }
        },
        "4c22244f46134aadb623f48b5c128126": {
          "model_module": "@jupyter-widgets/controls",
          "model_name": "ProgressStyleModel",
          "state": {
            "_view_name": "StyleView",
            "_model_name": "ProgressStyleModel",
            "description_width": "initial",
            "_view_module": "@jupyter-widgets/base",
            "_model_module_version": "1.5.0",
            "_view_count": null,
            "_view_module_version": "1.2.0",
            "bar_color": null,
            "_model_module": "@jupyter-widgets/controls"
          }
        },
        "344940287a674ef4a619ead472d72f14": {
          "model_module": "@jupyter-widgets/base",
          "model_name": "LayoutModel",
          "state": {
            "_view_name": "LayoutView",
            "grid_template_rows": null,
            "right": null,
            "justify_content": null,
            "_view_module": "@jupyter-widgets/base",
            "overflow": null,
            "_model_module_version": "1.2.0",
            "_view_count": null,
            "flex_flow": null,
            "width": null,
            "min_width": null,
            "border": null,
            "align_items": null,
            "bottom": null,
            "_model_module": "@jupyter-widgets/base",
            "top": null,
            "grid_column": null,
            "overflow_y": null,
            "overflow_x": null,
            "grid_auto_flow": null,
            "grid_area": null,
            "grid_template_columns": null,
            "flex": null,
            "_model_name": "LayoutModel",
            "justify_items": null,
            "grid_row": null,
            "max_height": null,
            "align_content": null,
            "visibility": null,
            "align_self": null,
            "height": null,
            "min_height": null,
            "padding": null,
            "grid_auto_rows": null,
            "grid_gap": null,
            "max_width": null,
            "order": null,
            "_view_module_version": "1.2.0",
            "grid_template_areas": null,
            "object_position": null,
            "object_fit": null,
            "grid_auto_columns": null,
            "margin": null,
            "display": null,
            "left": null
          }
        },
        "ed91cb03a749414e8f28fdd9d13e8474": {
          "model_module": "@jupyter-widgets/controls",
          "model_name": "DescriptionStyleModel",
          "state": {
            "_view_name": "StyleView",
            "_model_name": "DescriptionStyleModel",
            "description_width": "",
            "_view_module": "@jupyter-widgets/base",
            "_model_module_version": "1.5.0",
            "_view_count": null,
            "_view_module_version": "1.2.0",
            "_model_module": "@jupyter-widgets/controls"
          }
        },
        "019fc7d231e04a01929d2b61809633aa": {
          "model_module": "@jupyter-widgets/base",
          "model_name": "LayoutModel",
          "state": {
            "_view_name": "LayoutView",
            "grid_template_rows": null,
            "right": null,
            "justify_content": null,
            "_view_module": "@jupyter-widgets/base",
            "overflow": null,
            "_model_module_version": "1.2.0",
            "_view_count": null,
            "flex_flow": null,
            "width": null,
            "min_width": null,
            "border": null,
            "align_items": null,
            "bottom": null,
            "_model_module": "@jupyter-widgets/base",
            "top": null,
            "grid_column": null,
            "overflow_y": null,
            "overflow_x": null,
            "grid_auto_flow": null,
            "grid_area": null,
            "grid_template_columns": null,
            "flex": null,
            "_model_name": "LayoutModel",
            "justify_items": null,
            "grid_row": null,
            "max_height": null,
            "align_content": null,
            "visibility": null,
            "align_self": null,
            "height": null,
            "min_height": null,
            "padding": null,
            "grid_auto_rows": null,
            "grid_gap": null,
            "max_width": null,
            "order": null,
            "_view_module_version": "1.2.0",
            "grid_template_areas": null,
            "object_position": null,
            "object_fit": null,
            "grid_auto_columns": null,
            "margin": null,
            "display": null,
            "left": null
          }
        },
        "b8ca422dfe8340fda975545669054bd4": {
          "model_module": "@jupyter-widgets/controls",
          "model_name": "HBoxModel",
          "state": {
            "_view_name": "HBoxView",
            "_dom_classes": [],
            "_model_name": "HBoxModel",
            "_view_module": "@jupyter-widgets/controls",
            "_model_module_version": "1.5.0",
            "_view_count": null,
            "_view_module_version": "1.5.0",
            "box_style": "",
            "layout": "IPY_MODEL_06dd162ceb3047139dae3600eda680f3",
            "_model_module": "@jupyter-widgets/controls",
            "children": [
              "IPY_MODEL_23f426b8b2df49bf93bf9534fad32057",
              "IPY_MODEL_b01a62b998d243aaa6177a9421218b4e"
            ]
          }
        },
        "06dd162ceb3047139dae3600eda680f3": {
          "model_module": "@jupyter-widgets/base",
          "model_name": "LayoutModel",
          "state": {
            "_view_name": "LayoutView",
            "grid_template_rows": null,
            "right": null,
            "justify_content": null,
            "_view_module": "@jupyter-widgets/base",
            "overflow": null,
            "_model_module_version": "1.2.0",
            "_view_count": null,
            "flex_flow": null,
            "width": null,
            "min_width": null,
            "border": null,
            "align_items": null,
            "bottom": null,
            "_model_module": "@jupyter-widgets/base",
            "top": null,
            "grid_column": null,
            "overflow_y": null,
            "overflow_x": null,
            "grid_auto_flow": null,
            "grid_area": null,
            "grid_template_columns": null,
            "flex": null,
            "_model_name": "LayoutModel",
            "justify_items": null,
            "grid_row": null,
            "max_height": null,
            "align_content": null,
            "visibility": null,
            "align_self": null,
            "height": null,
            "min_height": null,
            "padding": null,
            "grid_auto_rows": null,
            "grid_gap": null,
            "max_width": null,
            "order": null,
            "_view_module_version": "1.2.0",
            "grid_template_areas": null,
            "object_position": null,
            "object_fit": null,
            "grid_auto_columns": null,
            "margin": null,
            "display": null,
            "left": null
          }
        },
        "23f426b8b2df49bf93bf9534fad32057": {
          "model_module": "@jupyter-widgets/controls",
          "model_name": "FloatProgressModel",
          "state": {
            "_view_name": "ProgressView",
            "style": "IPY_MODEL_4da80d8b672940e282583f480e90685f",
            "_dom_classes": [],
            "description": "100%",
            "_model_name": "FloatProgressModel",
            "bar_style": "success",
            "max": 5604,
            "_view_module": "@jupyter-widgets/controls",
            "_model_module_version": "1.5.0",
            "value": 5604,
            "_view_count": null,
            "_view_module_version": "1.5.0",
            "orientation": "horizontal",
            "min": 0,
            "description_tooltip": null,
            "_model_module": "@jupyter-widgets/controls",
            "layout": "IPY_MODEL_c2e023cb0f994e868b31f73b14b42d61"
          }
        },
        "b01a62b998d243aaa6177a9421218b4e": {
          "model_module": "@jupyter-widgets/controls",
          "model_name": "HTMLModel",
          "state": {
            "_view_name": "HTMLView",
            "style": "IPY_MODEL_4b7c78f09d304fb39be88d0bd1b34b74",
            "_dom_classes": [],
            "description": "",
            "_model_name": "HTMLModel",
            "placeholder": "​",
            "_view_module": "@jupyter-widgets/controls",
            "_model_module_version": "1.5.0",
            "value": " 5604/5604 [05:49&lt;00:00, 16.06it/s]",
            "_view_count": null,
            "_view_module_version": "1.5.0",
            "description_tooltip": null,
            "_model_module": "@jupyter-widgets/controls",
            "layout": "IPY_MODEL_4dd93a5dcb234ee79ff0a0124cae2c7f"
          }
        },
        "4da80d8b672940e282583f480e90685f": {
          "model_module": "@jupyter-widgets/controls",
          "model_name": "ProgressStyleModel",
          "state": {
            "_view_name": "StyleView",
            "_model_name": "ProgressStyleModel",
            "description_width": "initial",
            "_view_module": "@jupyter-widgets/base",
            "_model_module_version": "1.5.0",
            "_view_count": null,
            "_view_module_version": "1.2.0",
            "bar_color": null,
            "_model_module": "@jupyter-widgets/controls"
          }
        },
        "c2e023cb0f994e868b31f73b14b42d61": {
          "model_module": "@jupyter-widgets/base",
          "model_name": "LayoutModel",
          "state": {
            "_view_name": "LayoutView",
            "grid_template_rows": null,
            "right": null,
            "justify_content": null,
            "_view_module": "@jupyter-widgets/base",
            "overflow": null,
            "_model_module_version": "1.2.0",
            "_view_count": null,
            "flex_flow": null,
            "width": null,
            "min_width": null,
            "border": null,
            "align_items": null,
            "bottom": null,
            "_model_module": "@jupyter-widgets/base",
            "top": null,
            "grid_column": null,
            "overflow_y": null,
            "overflow_x": null,
            "grid_auto_flow": null,
            "grid_area": null,
            "grid_template_columns": null,
            "flex": null,
            "_model_name": "LayoutModel",
            "justify_items": null,
            "grid_row": null,
            "max_height": null,
            "align_content": null,
            "visibility": null,
            "align_self": null,
            "height": null,
            "min_height": null,
            "padding": null,
            "grid_auto_rows": null,
            "grid_gap": null,
            "max_width": null,
            "order": null,
            "_view_module_version": "1.2.0",
            "grid_template_areas": null,
            "object_position": null,
            "object_fit": null,
            "grid_auto_columns": null,
            "margin": null,
            "display": null,
            "left": null
          }
        },
        "4b7c78f09d304fb39be88d0bd1b34b74": {
          "model_module": "@jupyter-widgets/controls",
          "model_name": "DescriptionStyleModel",
          "state": {
            "_view_name": "StyleView",
            "_model_name": "DescriptionStyleModel",
            "description_width": "",
            "_view_module": "@jupyter-widgets/base",
            "_model_module_version": "1.5.0",
            "_view_count": null,
            "_view_module_version": "1.2.0",
            "_model_module": "@jupyter-widgets/controls"
          }
        },
        "4dd93a5dcb234ee79ff0a0124cae2c7f": {
          "model_module": "@jupyter-widgets/base",
          "model_name": "LayoutModel",
          "state": {
            "_view_name": "LayoutView",
            "grid_template_rows": null,
            "right": null,
            "justify_content": null,
            "_view_module": "@jupyter-widgets/base",
            "overflow": null,
            "_model_module_version": "1.2.0",
            "_view_count": null,
            "flex_flow": null,
            "width": null,
            "min_width": null,
            "border": null,
            "align_items": null,
            "bottom": null,
            "_model_module": "@jupyter-widgets/base",
            "top": null,
            "grid_column": null,
            "overflow_y": null,
            "overflow_x": null,
            "grid_auto_flow": null,
            "grid_area": null,
            "grid_template_columns": null,
            "flex": null,
            "_model_name": "LayoutModel",
            "justify_items": null,
            "grid_row": null,
            "max_height": null,
            "align_content": null,
            "visibility": null,
            "align_self": null,
            "height": null,
            "min_height": null,
            "padding": null,
            "grid_auto_rows": null,
            "grid_gap": null,
            "max_width": null,
            "order": null,
            "_view_module_version": "1.2.0",
            "grid_template_areas": null,
            "object_position": null,
            "object_fit": null,
            "grid_auto_columns": null,
            "margin": null,
            "display": null,
            "left": null
          }
        },
        "4dbb7453da9042508ba6a823f776d5db": {
          "model_module": "@jupyter-widgets/controls",
          "model_name": "HBoxModel",
          "state": {
            "_view_name": "HBoxView",
            "_dom_classes": [],
            "_model_name": "HBoxModel",
            "_view_module": "@jupyter-widgets/controls",
            "_model_module_version": "1.5.0",
            "_view_count": null,
            "_view_module_version": "1.5.0",
            "box_style": "",
            "layout": "IPY_MODEL_8ef04e1e7bbc4579a0804b410b1e21b4",
            "_model_module": "@jupyter-widgets/controls",
            "children": [
              "IPY_MODEL_b3616de3e96d4016932baa94b35d6ef2",
              "IPY_MODEL_939ebeff4651488886351c9ac723d338"
            ]
          }
        },
        "8ef04e1e7bbc4579a0804b410b1e21b4": {
          "model_module": "@jupyter-widgets/base",
          "model_name": "LayoutModel",
          "state": {
            "_view_name": "LayoutView",
            "grid_template_rows": null,
            "right": null,
            "justify_content": null,
            "_view_module": "@jupyter-widgets/base",
            "overflow": null,
            "_model_module_version": "1.2.0",
            "_view_count": null,
            "flex_flow": null,
            "width": null,
            "min_width": null,
            "border": null,
            "align_items": null,
            "bottom": null,
            "_model_module": "@jupyter-widgets/base",
            "top": null,
            "grid_column": null,
            "overflow_y": null,
            "overflow_x": null,
            "grid_auto_flow": null,
            "grid_area": null,
            "grid_template_columns": null,
            "flex": null,
            "_model_name": "LayoutModel",
            "justify_items": null,
            "grid_row": null,
            "max_height": null,
            "align_content": null,
            "visibility": null,
            "align_self": null,
            "height": null,
            "min_height": null,
            "padding": null,
            "grid_auto_rows": null,
            "grid_gap": null,
            "max_width": null,
            "order": null,
            "_view_module_version": "1.2.0",
            "grid_template_areas": null,
            "object_position": null,
            "object_fit": null,
            "grid_auto_columns": null,
            "margin": null,
            "display": null,
            "left": null
          }
        },
        "b3616de3e96d4016932baa94b35d6ef2": {
          "model_module": "@jupyter-widgets/controls",
          "model_name": "FloatProgressModel",
          "state": {
            "_view_name": "ProgressView",
            "style": "IPY_MODEL_dd933252916b4135896b3ad485d4d0d0",
            "_dom_classes": [],
            "description": "100%",
            "_model_name": "FloatProgressModel",
            "bar_style": "success",
            "max": 5609,
            "_view_module": "@jupyter-widgets/controls",
            "_model_module_version": "1.5.0",
            "value": 5609,
            "_view_count": null,
            "_view_module_version": "1.5.0",
            "orientation": "horizontal",
            "min": 0,
            "description_tooltip": null,
            "_model_module": "@jupyter-widgets/controls",
            "layout": "IPY_MODEL_e426d81344094c978983bb3e9ff9003a"
          }
        },
        "939ebeff4651488886351c9ac723d338": {
          "model_module": "@jupyter-widgets/controls",
          "model_name": "HTMLModel",
          "state": {
            "_view_name": "HTMLView",
            "style": "IPY_MODEL_7991a429e6da4caa9d5ae2ea4ed72ee1",
            "_dom_classes": [],
            "description": "",
            "_model_name": "HTMLModel",
            "placeholder": "​",
            "_view_module": "@jupyter-widgets/controls",
            "_model_module_version": "1.5.0",
            "value": " 5609/5609 [00:42&lt;00:00, 131.66it/s]",
            "_view_count": null,
            "_view_module_version": "1.5.0",
            "description_tooltip": null,
            "_model_module": "@jupyter-widgets/controls",
            "layout": "IPY_MODEL_66e49cf25e7445808253c367afb3fc9d"
          }
        },
        "dd933252916b4135896b3ad485d4d0d0": {
          "model_module": "@jupyter-widgets/controls",
          "model_name": "ProgressStyleModel",
          "state": {
            "_view_name": "StyleView",
            "_model_name": "ProgressStyleModel",
            "description_width": "initial",
            "_view_module": "@jupyter-widgets/base",
            "_model_module_version": "1.5.0",
            "_view_count": null,
            "_view_module_version": "1.2.0",
            "bar_color": null,
            "_model_module": "@jupyter-widgets/controls"
          }
        },
        "e426d81344094c978983bb3e9ff9003a": {
          "model_module": "@jupyter-widgets/base",
          "model_name": "LayoutModel",
          "state": {
            "_view_name": "LayoutView",
            "grid_template_rows": null,
            "right": null,
            "justify_content": null,
            "_view_module": "@jupyter-widgets/base",
            "overflow": null,
            "_model_module_version": "1.2.0",
            "_view_count": null,
            "flex_flow": null,
            "width": null,
            "min_width": null,
            "border": null,
            "align_items": null,
            "bottom": null,
            "_model_module": "@jupyter-widgets/base",
            "top": null,
            "grid_column": null,
            "overflow_y": null,
            "overflow_x": null,
            "grid_auto_flow": null,
            "grid_area": null,
            "grid_template_columns": null,
            "flex": null,
            "_model_name": "LayoutModel",
            "justify_items": null,
            "grid_row": null,
            "max_height": null,
            "align_content": null,
            "visibility": null,
            "align_self": null,
            "height": null,
            "min_height": null,
            "padding": null,
            "grid_auto_rows": null,
            "grid_gap": null,
            "max_width": null,
            "order": null,
            "_view_module_version": "1.2.0",
            "grid_template_areas": null,
            "object_position": null,
            "object_fit": null,
            "grid_auto_columns": null,
            "margin": null,
            "display": null,
            "left": null
          }
        },
        "7991a429e6da4caa9d5ae2ea4ed72ee1": {
          "model_module": "@jupyter-widgets/controls",
          "model_name": "DescriptionStyleModel",
          "state": {
            "_view_name": "StyleView",
            "_model_name": "DescriptionStyleModel",
            "description_width": "",
            "_view_module": "@jupyter-widgets/base",
            "_model_module_version": "1.5.0",
            "_view_count": null,
            "_view_module_version": "1.2.0",
            "_model_module": "@jupyter-widgets/controls"
          }
        },
        "66e49cf25e7445808253c367afb3fc9d": {
          "model_module": "@jupyter-widgets/base",
          "model_name": "LayoutModel",
          "state": {
            "_view_name": "LayoutView",
            "grid_template_rows": null,
            "right": null,
            "justify_content": null,
            "_view_module": "@jupyter-widgets/base",
            "overflow": null,
            "_model_module_version": "1.2.0",
            "_view_count": null,
            "flex_flow": null,
            "width": null,
            "min_width": null,
            "border": null,
            "align_items": null,
            "bottom": null,
            "_model_module": "@jupyter-widgets/base",
            "top": null,
            "grid_column": null,
            "overflow_y": null,
            "overflow_x": null,
            "grid_auto_flow": null,
            "grid_area": null,
            "grid_template_columns": null,
            "flex": null,
            "_model_name": "LayoutModel",
            "justify_items": null,
            "grid_row": null,
            "max_height": null,
            "align_content": null,
            "visibility": null,
            "align_self": null,
            "height": null,
            "min_height": null,
            "padding": null,
            "grid_auto_rows": null,
            "grid_gap": null,
            "max_width": null,
            "order": null,
            "_view_module_version": "1.2.0",
            "grid_template_areas": null,
            "object_position": null,
            "object_fit": null,
            "grid_auto_columns": null,
            "margin": null,
            "display": null,
            "left": null
          }
        },
        "7ebc811178824c028b4198fa34ee34d5": {
          "model_module": "@jupyter-widgets/controls",
          "model_name": "HBoxModel",
          "state": {
            "_view_name": "HBoxView",
            "_dom_classes": [],
            "_model_name": "HBoxModel",
            "_view_module": "@jupyter-widgets/controls",
            "_model_module_version": "1.5.0",
            "_view_count": null,
            "_view_module_version": "1.5.0",
            "box_style": "",
            "layout": "IPY_MODEL_196b4ace5d62455e91f70f04d825fa54",
            "_model_module": "@jupyter-widgets/controls",
            "children": [
              "IPY_MODEL_b179fea66e7548a1a38ffe092f151f66",
              "IPY_MODEL_51d9c8bc0deb4fae93188c99ff6834de"
            ]
          }
        },
        "196b4ace5d62455e91f70f04d825fa54": {
          "model_module": "@jupyter-widgets/base",
          "model_name": "LayoutModel",
          "state": {
            "_view_name": "LayoutView",
            "grid_template_rows": null,
            "right": null,
            "justify_content": null,
            "_view_module": "@jupyter-widgets/base",
            "overflow": null,
            "_model_module_version": "1.2.0",
            "_view_count": null,
            "flex_flow": null,
            "width": null,
            "min_width": null,
            "border": null,
            "align_items": null,
            "bottom": null,
            "_model_module": "@jupyter-widgets/base",
            "top": null,
            "grid_column": null,
            "overflow_y": null,
            "overflow_x": null,
            "grid_auto_flow": null,
            "grid_area": null,
            "grid_template_columns": null,
            "flex": null,
            "_model_name": "LayoutModel",
            "justify_items": null,
            "grid_row": null,
            "max_height": null,
            "align_content": null,
            "visibility": null,
            "align_self": null,
            "height": null,
            "min_height": null,
            "padding": null,
            "grid_auto_rows": null,
            "grid_gap": null,
            "max_width": null,
            "order": null,
            "_view_module_version": "1.2.0",
            "grid_template_areas": null,
            "object_position": null,
            "object_fit": null,
            "grid_auto_columns": null,
            "margin": null,
            "display": null,
            "left": null
          }
        },
        "b179fea66e7548a1a38ffe092f151f66": {
          "model_module": "@jupyter-widgets/controls",
          "model_name": "FloatProgressModel",
          "state": {
            "_view_name": "ProgressView",
            "style": "IPY_MODEL_c84f6dfa0b9a4de295e8a327c590aca2",
            "_dom_classes": [],
            "description": "100%",
            "_model_name": "FloatProgressModel",
            "bar_style": "success",
            "max": 5604,
            "_view_module": "@jupyter-widgets/controls",
            "_model_module_version": "1.5.0",
            "value": 5604,
            "_view_count": null,
            "_view_module_version": "1.5.0",
            "orientation": "horizontal",
            "min": 0,
            "description_tooltip": null,
            "_model_module": "@jupyter-widgets/controls",
            "layout": "IPY_MODEL_a3548d6857fd4cddb79cbcf2111f5d54"
          }
        },
        "51d9c8bc0deb4fae93188c99ff6834de": {
          "model_module": "@jupyter-widgets/controls",
          "model_name": "HTMLModel",
          "state": {
            "_view_name": "HTMLView",
            "style": "IPY_MODEL_597364c4d3a94b32ac31c4fc56cdc6d8",
            "_dom_classes": [],
            "description": "",
            "_model_name": "HTMLModel",
            "placeholder": "​",
            "_view_module": "@jupyter-widgets/controls",
            "_model_module_version": "1.5.0",
            "value": " 5604/5604 [00:03&lt;00:00, 1828.36it/s]",
            "_view_count": null,
            "_view_module_version": "1.5.0",
            "description_tooltip": null,
            "_model_module": "@jupyter-widgets/controls",
            "layout": "IPY_MODEL_90acb83dd4df4aa19b7ac8876911ce76"
          }
        },
        "c84f6dfa0b9a4de295e8a327c590aca2": {
          "model_module": "@jupyter-widgets/controls",
          "model_name": "ProgressStyleModel",
          "state": {
            "_view_name": "StyleView",
            "_model_name": "ProgressStyleModel",
            "description_width": "initial",
            "_view_module": "@jupyter-widgets/base",
            "_model_module_version": "1.5.0",
            "_view_count": null,
            "_view_module_version": "1.2.0",
            "bar_color": null,
            "_model_module": "@jupyter-widgets/controls"
          }
        },
        "a3548d6857fd4cddb79cbcf2111f5d54": {
          "model_module": "@jupyter-widgets/base",
          "model_name": "LayoutModel",
          "state": {
            "_view_name": "LayoutView",
            "grid_template_rows": null,
            "right": null,
            "justify_content": null,
            "_view_module": "@jupyter-widgets/base",
            "overflow": null,
            "_model_module_version": "1.2.0",
            "_view_count": null,
            "flex_flow": null,
            "width": null,
            "min_width": null,
            "border": null,
            "align_items": null,
            "bottom": null,
            "_model_module": "@jupyter-widgets/base",
            "top": null,
            "grid_column": null,
            "overflow_y": null,
            "overflow_x": null,
            "grid_auto_flow": null,
            "grid_area": null,
            "grid_template_columns": null,
            "flex": null,
            "_model_name": "LayoutModel",
            "justify_items": null,
            "grid_row": null,
            "max_height": null,
            "align_content": null,
            "visibility": null,
            "align_self": null,
            "height": null,
            "min_height": null,
            "padding": null,
            "grid_auto_rows": null,
            "grid_gap": null,
            "max_width": null,
            "order": null,
            "_view_module_version": "1.2.0",
            "grid_template_areas": null,
            "object_position": null,
            "object_fit": null,
            "grid_auto_columns": null,
            "margin": null,
            "display": null,
            "left": null
          }
        },
        "597364c4d3a94b32ac31c4fc56cdc6d8": {
          "model_module": "@jupyter-widgets/controls",
          "model_name": "DescriptionStyleModel",
          "state": {
            "_view_name": "StyleView",
            "_model_name": "DescriptionStyleModel",
            "description_width": "",
            "_view_module": "@jupyter-widgets/base",
            "_model_module_version": "1.5.0",
            "_view_count": null,
            "_view_module_version": "1.2.0",
            "_model_module": "@jupyter-widgets/controls"
          }
        },
        "90acb83dd4df4aa19b7ac8876911ce76": {
          "model_module": "@jupyter-widgets/base",
          "model_name": "LayoutModel",
          "state": {
            "_view_name": "LayoutView",
            "grid_template_rows": null,
            "right": null,
            "justify_content": null,
            "_view_module": "@jupyter-widgets/base",
            "overflow": null,
            "_model_module_version": "1.2.0",
            "_view_count": null,
            "flex_flow": null,
            "width": null,
            "min_width": null,
            "border": null,
            "align_items": null,
            "bottom": null,
            "_model_module": "@jupyter-widgets/base",
            "top": null,
            "grid_column": null,
            "overflow_y": null,
            "overflow_x": null,
            "grid_auto_flow": null,
            "grid_area": null,
            "grid_template_columns": null,
            "flex": null,
            "_model_name": "LayoutModel",
            "justify_items": null,
            "grid_row": null,
            "max_height": null,
            "align_content": null,
            "visibility": null,
            "align_self": null,
            "height": null,
            "min_height": null,
            "padding": null,
            "grid_auto_rows": null,
            "grid_gap": null,
            "max_width": null,
            "order": null,
            "_view_module_version": "1.2.0",
            "grid_template_areas": null,
            "object_position": null,
            "object_fit": null,
            "grid_auto_columns": null,
            "margin": null,
            "display": null,
            "left": null
          }
        },
        "ebf3f79e550a4135999288a7c816ac2e": {
          "model_module": "@jupyter-widgets/controls",
          "model_name": "HBoxModel",
          "state": {
            "_view_name": "HBoxView",
            "_dom_classes": [],
            "_model_name": "HBoxModel",
            "_view_module": "@jupyter-widgets/controls",
            "_model_module_version": "1.5.0",
            "_view_count": null,
            "_view_module_version": "1.5.0",
            "box_style": "",
            "layout": "IPY_MODEL_c84431f610a2429a9a33f5aa98df53d5",
            "_model_module": "@jupyter-widgets/controls",
            "children": [
              "IPY_MODEL_0ac12f40a1864c0fbb15ed9ddd2292bb",
              "IPY_MODEL_b902ea4963b9440198f582177017377a"
            ]
          }
        },
        "c84431f610a2429a9a33f5aa98df53d5": {
          "model_module": "@jupyter-widgets/base",
          "model_name": "LayoutModel",
          "state": {
            "_view_name": "LayoutView",
            "grid_template_rows": null,
            "right": null,
            "justify_content": null,
            "_view_module": "@jupyter-widgets/base",
            "overflow": null,
            "_model_module_version": "1.2.0",
            "_view_count": null,
            "flex_flow": null,
            "width": null,
            "min_width": null,
            "border": null,
            "align_items": null,
            "bottom": null,
            "_model_module": "@jupyter-widgets/base",
            "top": null,
            "grid_column": null,
            "overflow_y": null,
            "overflow_x": null,
            "grid_auto_flow": null,
            "grid_area": null,
            "grid_template_columns": null,
            "flex": null,
            "_model_name": "LayoutModel",
            "justify_items": null,
            "grid_row": null,
            "max_height": null,
            "align_content": null,
            "visibility": null,
            "align_self": null,
            "height": null,
            "min_height": null,
            "padding": null,
            "grid_auto_rows": null,
            "grid_gap": null,
            "max_width": null,
            "order": null,
            "_view_module_version": "1.2.0",
            "grid_template_areas": null,
            "object_position": null,
            "object_fit": null,
            "grid_auto_columns": null,
            "margin": null,
            "display": null,
            "left": null
          }
        },
        "0ac12f40a1864c0fbb15ed9ddd2292bb": {
          "model_module": "@jupyter-widgets/controls",
          "model_name": "FloatProgressModel",
          "state": {
            "_view_name": "ProgressView",
            "style": "IPY_MODEL_de9dac8a7c2b4463bdbfa39b4af45027",
            "_dom_classes": [],
            "description": "100%",
            "_model_name": "FloatProgressModel",
            "bar_style": "success",
            "max": 5604,
            "_view_module": "@jupyter-widgets/controls",
            "_model_module_version": "1.5.0",
            "value": 5604,
            "_view_count": null,
            "_view_module_version": "1.5.0",
            "orientation": "horizontal",
            "min": 0,
            "description_tooltip": null,
            "_model_module": "@jupyter-widgets/controls",
            "layout": "IPY_MODEL_4e34b575ae8c4002abf6d3dd9ab567f5"
          }
        },
        "b902ea4963b9440198f582177017377a": {
          "model_module": "@jupyter-widgets/controls",
          "model_name": "HTMLModel",
          "state": {
            "_view_name": "HTMLView",
            "style": "IPY_MODEL_d7312832068d4949b501f4d059aebb26",
            "_dom_classes": [],
            "description": "",
            "_model_name": "HTMLModel",
            "placeholder": "​",
            "_view_module": "@jupyter-widgets/controls",
            "_model_module_version": "1.5.0",
            "value": " 5604/5604 [00:00&lt;00:00, 12495.40it/s]",
            "_view_count": null,
            "_view_module_version": "1.5.0",
            "description_tooltip": null,
            "_model_module": "@jupyter-widgets/controls",
            "layout": "IPY_MODEL_bf62430466754f5ea7b74bf53a91edf4"
          }
        },
        "de9dac8a7c2b4463bdbfa39b4af45027": {
          "model_module": "@jupyter-widgets/controls",
          "model_name": "ProgressStyleModel",
          "state": {
            "_view_name": "StyleView",
            "_model_name": "ProgressStyleModel",
            "description_width": "initial",
            "_view_module": "@jupyter-widgets/base",
            "_model_module_version": "1.5.0",
            "_view_count": null,
            "_view_module_version": "1.2.0",
            "bar_color": null,
            "_model_module": "@jupyter-widgets/controls"
          }
        },
        "4e34b575ae8c4002abf6d3dd9ab567f5": {
          "model_module": "@jupyter-widgets/base",
          "model_name": "LayoutModel",
          "state": {
            "_view_name": "LayoutView",
            "grid_template_rows": null,
            "right": null,
            "justify_content": null,
            "_view_module": "@jupyter-widgets/base",
            "overflow": null,
            "_model_module_version": "1.2.0",
            "_view_count": null,
            "flex_flow": null,
            "width": null,
            "min_width": null,
            "border": null,
            "align_items": null,
            "bottom": null,
            "_model_module": "@jupyter-widgets/base",
            "top": null,
            "grid_column": null,
            "overflow_y": null,
            "overflow_x": null,
            "grid_auto_flow": null,
            "grid_area": null,
            "grid_template_columns": null,
            "flex": null,
            "_model_name": "LayoutModel",
            "justify_items": null,
            "grid_row": null,
            "max_height": null,
            "align_content": null,
            "visibility": null,
            "align_self": null,
            "height": null,
            "min_height": null,
            "padding": null,
            "grid_auto_rows": null,
            "grid_gap": null,
            "max_width": null,
            "order": null,
            "_view_module_version": "1.2.0",
            "grid_template_areas": null,
            "object_position": null,
            "object_fit": null,
            "grid_auto_columns": null,
            "margin": null,
            "display": null,
            "left": null
          }
        },
        "d7312832068d4949b501f4d059aebb26": {
          "model_module": "@jupyter-widgets/controls",
          "model_name": "DescriptionStyleModel",
          "state": {
            "_view_name": "StyleView",
            "_model_name": "DescriptionStyleModel",
            "description_width": "",
            "_view_module": "@jupyter-widgets/base",
            "_model_module_version": "1.5.0",
            "_view_count": null,
            "_view_module_version": "1.2.0",
            "_model_module": "@jupyter-widgets/controls"
          }
        },
        "bf62430466754f5ea7b74bf53a91edf4": {
          "model_module": "@jupyter-widgets/base",
          "model_name": "LayoutModel",
          "state": {
            "_view_name": "LayoutView",
            "grid_template_rows": null,
            "right": null,
            "justify_content": null,
            "_view_module": "@jupyter-widgets/base",
            "overflow": null,
            "_model_module_version": "1.2.0",
            "_view_count": null,
            "flex_flow": null,
            "width": null,
            "min_width": null,
            "border": null,
            "align_items": null,
            "bottom": null,
            "_model_module": "@jupyter-widgets/base",
            "top": null,
            "grid_column": null,
            "overflow_y": null,
            "overflow_x": null,
            "grid_auto_flow": null,
            "grid_area": null,
            "grid_template_columns": null,
            "flex": null,
            "_model_name": "LayoutModel",
            "justify_items": null,
            "grid_row": null,
            "max_height": null,
            "align_content": null,
            "visibility": null,
            "align_self": null,
            "height": null,
            "min_height": null,
            "padding": null,
            "grid_auto_rows": null,
            "grid_gap": null,
            "max_width": null,
            "order": null,
            "_view_module_version": "1.2.0",
            "grid_template_areas": null,
            "object_position": null,
            "object_fit": null,
            "grid_auto_columns": null,
            "margin": null,
            "display": null,
            "left": null
          }
        },
        "d70e039605c943878d41a495462d2269": {
          "model_module": "@jupyter-widgets/controls",
          "model_name": "HBoxModel",
          "state": {
            "_view_name": "HBoxView",
            "_dom_classes": [],
            "_model_name": "HBoxModel",
            "_view_module": "@jupyter-widgets/controls",
            "_model_module_version": "1.5.0",
            "_view_count": null,
            "_view_module_version": "1.5.0",
            "box_style": "",
            "layout": "IPY_MODEL_d1cd2526bc4a47abbc3b7ad9028789cb",
            "_model_module": "@jupyter-widgets/controls",
            "children": [
              "IPY_MODEL_f6ef27f80d1545a68b59a2e914ddd7c9",
              "IPY_MODEL_21547ac82b12404ca7bb89fa629ed9d6"
            ]
          }
        },
        "d1cd2526bc4a47abbc3b7ad9028789cb": {
          "model_module": "@jupyter-widgets/base",
          "model_name": "LayoutModel",
          "state": {
            "_view_name": "LayoutView",
            "grid_template_rows": null,
            "right": null,
            "justify_content": null,
            "_view_module": "@jupyter-widgets/base",
            "overflow": null,
            "_model_module_version": "1.2.0",
            "_view_count": null,
            "flex_flow": null,
            "width": null,
            "min_width": null,
            "border": null,
            "align_items": null,
            "bottom": null,
            "_model_module": "@jupyter-widgets/base",
            "top": null,
            "grid_column": null,
            "overflow_y": null,
            "overflow_x": null,
            "grid_auto_flow": null,
            "grid_area": null,
            "grid_template_columns": null,
            "flex": null,
            "_model_name": "LayoutModel",
            "justify_items": null,
            "grid_row": null,
            "max_height": null,
            "align_content": null,
            "visibility": null,
            "align_self": null,
            "height": null,
            "min_height": null,
            "padding": null,
            "grid_auto_rows": null,
            "grid_gap": null,
            "max_width": null,
            "order": null,
            "_view_module_version": "1.2.0",
            "grid_template_areas": null,
            "object_position": null,
            "object_fit": null,
            "grid_auto_columns": null,
            "margin": null,
            "display": null,
            "left": null
          }
        },
        "f6ef27f80d1545a68b59a2e914ddd7c9": {
          "model_module": "@jupyter-widgets/controls",
          "model_name": "FloatProgressModel",
          "state": {
            "_view_name": "ProgressView",
            "style": "IPY_MODEL_0eb7eaac144b4d1195f35687fb8797ce",
            "_dom_classes": [],
            "description": "100%",
            "_model_name": "FloatProgressModel",
            "bar_style": "success",
            "max": 5604,
            "_view_module": "@jupyter-widgets/controls",
            "_model_module_version": "1.5.0",
            "value": 5604,
            "_view_count": null,
            "_view_module_version": "1.5.0",
            "orientation": "horizontal",
            "min": 0,
            "description_tooltip": null,
            "_model_module": "@jupyter-widgets/controls",
            "layout": "IPY_MODEL_e10729acd02f4b7ca7e0edd07659313c"
          }
        },
        "21547ac82b12404ca7bb89fa629ed9d6": {
          "model_module": "@jupyter-widgets/controls",
          "model_name": "HTMLModel",
          "state": {
            "_view_name": "HTMLView",
            "style": "IPY_MODEL_7833e12b55934ac8809e1236686f4f71",
            "_dom_classes": [],
            "description": "",
            "_model_name": "HTMLModel",
            "placeholder": "​",
            "_view_module": "@jupyter-widgets/controls",
            "_model_module_version": "1.5.0",
            "value": " 5604/5604 [00:00&lt;00:00, 6054.13it/s]",
            "_view_count": null,
            "_view_module_version": "1.5.0",
            "description_tooltip": null,
            "_model_module": "@jupyter-widgets/controls",
            "layout": "IPY_MODEL_fe255fef13bd4887a97511e25da1540b"
          }
        },
        "0eb7eaac144b4d1195f35687fb8797ce": {
          "model_module": "@jupyter-widgets/controls",
          "model_name": "ProgressStyleModel",
          "state": {
            "_view_name": "StyleView",
            "_model_name": "ProgressStyleModel",
            "description_width": "initial",
            "_view_module": "@jupyter-widgets/base",
            "_model_module_version": "1.5.0",
            "_view_count": null,
            "_view_module_version": "1.2.0",
            "bar_color": null,
            "_model_module": "@jupyter-widgets/controls"
          }
        },
        "e10729acd02f4b7ca7e0edd07659313c": {
          "model_module": "@jupyter-widgets/base",
          "model_name": "LayoutModel",
          "state": {
            "_view_name": "LayoutView",
            "grid_template_rows": null,
            "right": null,
            "justify_content": null,
            "_view_module": "@jupyter-widgets/base",
            "overflow": null,
            "_model_module_version": "1.2.0",
            "_view_count": null,
            "flex_flow": null,
            "width": null,
            "min_width": null,
            "border": null,
            "align_items": null,
            "bottom": null,
            "_model_module": "@jupyter-widgets/base",
            "top": null,
            "grid_column": null,
            "overflow_y": null,
            "overflow_x": null,
            "grid_auto_flow": null,
            "grid_area": null,
            "grid_template_columns": null,
            "flex": null,
            "_model_name": "LayoutModel",
            "justify_items": null,
            "grid_row": null,
            "max_height": null,
            "align_content": null,
            "visibility": null,
            "align_self": null,
            "height": null,
            "min_height": null,
            "padding": null,
            "grid_auto_rows": null,
            "grid_gap": null,
            "max_width": null,
            "order": null,
            "_view_module_version": "1.2.0",
            "grid_template_areas": null,
            "object_position": null,
            "object_fit": null,
            "grid_auto_columns": null,
            "margin": null,
            "display": null,
            "left": null
          }
        },
        "7833e12b55934ac8809e1236686f4f71": {
          "model_module": "@jupyter-widgets/controls",
          "model_name": "DescriptionStyleModel",
          "state": {
            "_view_name": "StyleView",
            "_model_name": "DescriptionStyleModel",
            "description_width": "",
            "_view_module": "@jupyter-widgets/base",
            "_model_module_version": "1.5.0",
            "_view_count": null,
            "_view_module_version": "1.2.0",
            "_model_module": "@jupyter-widgets/controls"
          }
        },
        "fe255fef13bd4887a97511e25da1540b": {
          "model_module": "@jupyter-widgets/base",
          "model_name": "LayoutModel",
          "state": {
            "_view_name": "LayoutView",
            "grid_template_rows": null,
            "right": null,
            "justify_content": null,
            "_view_module": "@jupyter-widgets/base",
            "overflow": null,
            "_model_module_version": "1.2.0",
            "_view_count": null,
            "flex_flow": null,
            "width": null,
            "min_width": null,
            "border": null,
            "align_items": null,
            "bottom": null,
            "_model_module": "@jupyter-widgets/base",
            "top": null,
            "grid_column": null,
            "overflow_y": null,
            "overflow_x": null,
            "grid_auto_flow": null,
            "grid_area": null,
            "grid_template_columns": null,
            "flex": null,
            "_model_name": "LayoutModel",
            "justify_items": null,
            "grid_row": null,
            "max_height": null,
            "align_content": null,
            "visibility": null,
            "align_self": null,
            "height": null,
            "min_height": null,
            "padding": null,
            "grid_auto_rows": null,
            "grid_gap": null,
            "max_width": null,
            "order": null,
            "_view_module_version": "1.2.0",
            "grid_template_areas": null,
            "object_position": null,
            "object_fit": null,
            "grid_auto_columns": null,
            "margin": null,
            "display": null,
            "left": null
          }
        },
        "f7a389f0a69647708ca087590fb61bbf": {
          "model_module": "@jupyter-widgets/controls",
          "model_name": "HBoxModel",
          "state": {
            "_view_name": "HBoxView",
            "_dom_classes": [],
            "_model_name": "HBoxModel",
            "_view_module": "@jupyter-widgets/controls",
            "_model_module_version": "1.5.0",
            "_view_count": null,
            "_view_module_version": "1.5.0",
            "box_style": "",
            "layout": "IPY_MODEL_c9f054fe4f64429189479b2f00dcee1b",
            "_model_module": "@jupyter-widgets/controls",
            "children": [
              "IPY_MODEL_4e69f3d2af4f43278ea08fa605f4448c",
              "IPY_MODEL_77869a214ca94d24b5ca303e3d1a664c"
            ]
          }
        },
        "c9f054fe4f64429189479b2f00dcee1b": {
          "model_module": "@jupyter-widgets/base",
          "model_name": "LayoutModel",
          "state": {
            "_view_name": "LayoutView",
            "grid_template_rows": null,
            "right": null,
            "justify_content": null,
            "_view_module": "@jupyter-widgets/base",
            "overflow": null,
            "_model_module_version": "1.2.0",
            "_view_count": null,
            "flex_flow": null,
            "width": null,
            "min_width": null,
            "border": null,
            "align_items": null,
            "bottom": null,
            "_model_module": "@jupyter-widgets/base",
            "top": null,
            "grid_column": null,
            "overflow_y": null,
            "overflow_x": null,
            "grid_auto_flow": null,
            "grid_area": null,
            "grid_template_columns": null,
            "flex": null,
            "_model_name": "LayoutModel",
            "justify_items": null,
            "grid_row": null,
            "max_height": null,
            "align_content": null,
            "visibility": null,
            "align_self": null,
            "height": null,
            "min_height": null,
            "padding": null,
            "grid_auto_rows": null,
            "grid_gap": null,
            "max_width": null,
            "order": null,
            "_view_module_version": "1.2.0",
            "grid_template_areas": null,
            "object_position": null,
            "object_fit": null,
            "grid_auto_columns": null,
            "margin": null,
            "display": null,
            "left": null
          }
        },
        "4e69f3d2af4f43278ea08fa605f4448c": {
          "model_module": "@jupyter-widgets/controls",
          "model_name": "FloatProgressModel",
          "state": {
            "_view_name": "ProgressView",
            "style": "IPY_MODEL_4f103f145516494c8694798d4d8ab3da",
            "_dom_classes": [],
            "description": "100%",
            "_model_name": "FloatProgressModel",
            "bar_style": "success",
            "max": 5609,
            "_view_module": "@jupyter-widgets/controls",
            "_model_module_version": "1.5.0",
            "value": 5609,
            "_view_count": null,
            "_view_module_version": "1.5.0",
            "orientation": "horizontal",
            "min": 0,
            "description_tooltip": null,
            "_model_module": "@jupyter-widgets/controls",
            "layout": "IPY_MODEL_7d4f8bb95a6440ada3316b6b1d98e9cd"
          }
        },
        "77869a214ca94d24b5ca303e3d1a664c": {
          "model_module": "@jupyter-widgets/controls",
          "model_name": "HTMLModel",
          "state": {
            "_view_name": "HTMLView",
            "style": "IPY_MODEL_1588f72ce8514bd094f7babaffa2d3e9",
            "_dom_classes": [],
            "description": "",
            "_model_name": "HTMLModel",
            "placeholder": "​",
            "_view_module": "@jupyter-widgets/controls",
            "_model_module_version": "1.5.0",
            "value": " 5609/5609 [00:01&lt;00:00, 3287.64it/s]",
            "_view_count": null,
            "_view_module_version": "1.5.0",
            "description_tooltip": null,
            "_model_module": "@jupyter-widgets/controls",
            "layout": "IPY_MODEL_b5688124292642d49cb455dc1375ea7a"
          }
        },
        "4f103f145516494c8694798d4d8ab3da": {
          "model_module": "@jupyter-widgets/controls",
          "model_name": "ProgressStyleModel",
          "state": {
            "_view_name": "StyleView",
            "_model_name": "ProgressStyleModel",
            "description_width": "initial",
            "_view_module": "@jupyter-widgets/base",
            "_model_module_version": "1.5.0",
            "_view_count": null,
            "_view_module_version": "1.2.0",
            "bar_color": null,
            "_model_module": "@jupyter-widgets/controls"
          }
        },
        "7d4f8bb95a6440ada3316b6b1d98e9cd": {
          "model_module": "@jupyter-widgets/base",
          "model_name": "LayoutModel",
          "state": {
            "_view_name": "LayoutView",
            "grid_template_rows": null,
            "right": null,
            "justify_content": null,
            "_view_module": "@jupyter-widgets/base",
            "overflow": null,
            "_model_module_version": "1.2.0",
            "_view_count": null,
            "flex_flow": null,
            "width": null,
            "min_width": null,
            "border": null,
            "align_items": null,
            "bottom": null,
            "_model_module": "@jupyter-widgets/base",
            "top": null,
            "grid_column": null,
            "overflow_y": null,
            "overflow_x": null,
            "grid_auto_flow": null,
            "grid_area": null,
            "grid_template_columns": null,
            "flex": null,
            "_model_name": "LayoutModel",
            "justify_items": null,
            "grid_row": null,
            "max_height": null,
            "align_content": null,
            "visibility": null,
            "align_self": null,
            "height": null,
            "min_height": null,
            "padding": null,
            "grid_auto_rows": null,
            "grid_gap": null,
            "max_width": null,
            "order": null,
            "_view_module_version": "1.2.0",
            "grid_template_areas": null,
            "object_position": null,
            "object_fit": null,
            "grid_auto_columns": null,
            "margin": null,
            "display": null,
            "left": null
          }
        },
        "1588f72ce8514bd094f7babaffa2d3e9": {
          "model_module": "@jupyter-widgets/controls",
          "model_name": "DescriptionStyleModel",
          "state": {
            "_view_name": "StyleView",
            "_model_name": "DescriptionStyleModel",
            "description_width": "",
            "_view_module": "@jupyter-widgets/base",
            "_model_module_version": "1.5.0",
            "_view_count": null,
            "_view_module_version": "1.2.0",
            "_model_module": "@jupyter-widgets/controls"
          }
        },
        "b5688124292642d49cb455dc1375ea7a": {
          "model_module": "@jupyter-widgets/base",
          "model_name": "LayoutModel",
          "state": {
            "_view_name": "LayoutView",
            "grid_template_rows": null,
            "right": null,
            "justify_content": null,
            "_view_module": "@jupyter-widgets/base",
            "overflow": null,
            "_model_module_version": "1.2.0",
            "_view_count": null,
            "flex_flow": null,
            "width": null,
            "min_width": null,
            "border": null,
            "align_items": null,
            "bottom": null,
            "_model_module": "@jupyter-widgets/base",
            "top": null,
            "grid_column": null,
            "overflow_y": null,
            "overflow_x": null,
            "grid_auto_flow": null,
            "grid_area": null,
            "grid_template_columns": null,
            "flex": null,
            "_model_name": "LayoutModel",
            "justify_items": null,
            "grid_row": null,
            "max_height": null,
            "align_content": null,
            "visibility": null,
            "align_self": null,
            "height": null,
            "min_height": null,
            "padding": null,
            "grid_auto_rows": null,
            "grid_gap": null,
            "max_width": null,
            "order": null,
            "_view_module_version": "1.2.0",
            "grid_template_areas": null,
            "object_position": null,
            "object_fit": null,
            "grid_auto_columns": null,
            "margin": null,
            "display": null,
            "left": null
          }
        }
      }
    }
  },
  "cells": [
    {
      "cell_type": "markdown",
      "metadata": {
        "id": "gU_iIoyfxrEw"
      },
      "source": [
        "# Content"
      ]
    },
    {
      "cell_type": "markdown",
      "metadata": {
        "id": "Wfr4C9SBxw2P"
      },
      "source": [
        "- Code các phần liên quan tới xử lý text:\n",
        "    1. Từ raw data => xử lý lấy 512 token đầu, bỏ câu ngắn => json\n",
        "    2. Abtrac2Extract gen nhãn cho từng câu trong multi doc => Chuyển từ multi doc => single doc => đưa qua model finetune bert1\n",
        "    3. Predict cho từng single doc => từ top 7 sentence mỗi single doc gộp lại lấy 512 token bằng hàm đã tạo (Multi doc -> single doc)\n",
        "    4. Generate nhãn cho văn bản đã gộp => finetune bert2"
      ]
    },
    {
      "cell_type": "markdown",
      "metadata": {
        "id": "LGSBz0WM_utx"
      },
      "source": [
        "# Config"
      ]
    },
    {
      "cell_type": "code",
      "metadata": {
        "id": "I-q4fDz2_xfJ"
      },
      "source": [
        "class DataConfig():\n",
        "    oracle_mode = 'greedy'  # ['combination', 'greedy']\n",
        "    min_src_ntokens = 5\n",
        "    max_src_ntokens = 200  # check laij, 80 ok roi\n",
        "    min_nsents = 3\n",
        "    max_nsents = 100"
      ],
      "execution_count": null,
      "outputs": []
    },
    {
      "cell_type": "code",
      "metadata": {
        "id": "1O7GD7y1_zeq"
      },
      "source": [
        "class ModelConfig():\n",
        "    encoder = 'classifier'  # choices=['classifier','transformer','rnn','baseline']\n",
        "    mode = 'train'  # choices=['train','validate','test']\n",
        "    temp_dir = '../temp'\n",
        "    batch_size = 64\n",
        "    hidden_size = 128\n",
        "    ff_size = 512\n",
        "    heads = 4\n",
        "    inter_layers = 2\n",
        "    rnn_size = 512\n",
        "\n",
        "    param_init = 0.0\n",
        "    param_init_glorot = False\n",
        "    dropout = 0.1\n",
        "    optim = 'adam'\n",
        "    lr = 1e-3\n",
        "    beta1 = 0.9\n",
        "    beta2 = 0.999\n",
        "    warmup_steps = 5000\n",
        "    max_grad_norm = 30\n",
        "\n",
        "\n",
        "    accum_count = 1\n",
        "    world_size = 1"
      ],
      "execution_count": null,
      "outputs": []
    },
    {
      "cell_type": "code",
      "metadata": {
        "id": "07vrdnsn_1f7"
      },
      "source": [
        "bert_config_uncased_base = {\n",
        "  \"attention_probs_dropout_prob\": 0.1,\n",
        "  \"hidden_act\": \"gelu\",\n",
        "  \"hidden_dropout_prob\": 0.1,\n",
        "  \"hidden_size\": 768,\n",
        "  \"initializer_range\": 0.02,\n",
        "  \"intermediate_size\": 3072,\n",
        "  \"max_position_embeddings\": 512,\n",
        "  \"num_attention_heads\": 12,\n",
        "  \"num_hidden_layers\": 12,\n",
        "  \"type_vocab_size\": 2,\n",
        "  \"vocab_size\": 30522\n",
        "}"
      ],
      "execution_count": null,
      "outputs": []
    },
    {
      "cell_type": "markdown",
      "metadata": {
        "id": "2cEidlAB1ZAg"
      },
      "source": [
        "# Import requirements and download data"
      ]
    },
    {
      "cell_type": "markdown",
      "metadata": {
        "id": "adaa4fDnpjAf"
      },
      "source": [
        "## Install pyrouge"
      ]
    },
    {
      "cell_type": "code",
      "metadata": {
        "id": "P9RHZINuplOi"
      },
      "source": [
        "!pip install -q pyrouge --upgrade\n",
        "!pip install -q https://github.com/bheinzerling/pyrouge/archive/master.zip\n",
        "!pip install -q pyrouge\n",
        "# !pip show pyrouge\n",
        "!git clone https://github.com/andersjo/pyrouge.git\n",
        "from pyrouge import Rouge155\n",
        "!pyrouge_set_rouge_path '/content/pyrouge/tools/ROUGE-1.5.5'\n",
        "\n",
        "!sudo apt-get install -qq libxml-parser-perl"
      ],
      "execution_count": null,
      "outputs": []
    },
    {
      "cell_type": "code",
      "metadata": {
        "id": "nfhVHgGlpsXC"
      },
      "source": [
        "%%shell\n",
        "cd pyrouge/tools/ROUGE-1.5.5/data\n",
        "rm WordNet-2.0.exc.db # only if exist\n",
        "cd WordNet-2.0-Exceptions\n",
        "rm WordNet-2.0.exc.db # only if exist\n",
        "\n",
        "./buildExeptionDB.pl . exc WordNet-2.0.exc.db\n",
        "cd ../\n",
        "ln -s WordNet-2.0-Exceptions/WordNet-2.0.exc.db WordNet-2.0.exc.db"
      ],
      "execution_count": null,
      "outputs": []
    },
    {
      "cell_type": "code",
      "metadata": {
        "colab": {
          "base_uri": "https://localhost:8080/"
        },
        "id": "IEi8iOyC1Xd9",
        "outputId": "3eb0e258-24d6-49cf-f2de-d0ed07ac6d50"
      },
      "source": [
        "!pip install -q folium==0.2.1 urllib3==1.25.4 pytorch_pretrained_bert tensorboardX"
      ],
      "execution_count": null,
      "outputs": [
        {
          "output_type": "stream",
          "text": [
            "\u001b[K     |████████████████████████████████| 71kB 4.1MB/s \n",
            "\u001b[K     |████████████████████████████████| 133kB 12.1MB/s \n",
            "\u001b[K     |████████████████████████████████| 133kB 14.6MB/s \n",
            "\u001b[K     |████████████████████████████████| 122kB 16.0MB/s \n",
            "\u001b[K     |████████████████████████████████| 133kB 14.6MB/s \n",
            "\u001b[K     |████████████████████████████████| 81kB 6.8MB/s \n",
            "\u001b[K     |████████████████████████████████| 7.5MB 15.4MB/s \n",
            "\u001b[?25h  Building wheel for folium (setup.py) ... \u001b[?25l\u001b[?25hdone\n"
          ],
          "name": "stdout"
        }
      ]
    },
    {
      "cell_type": "code",
      "metadata": {
        "colab": {
          "base_uri": "https://localhost:8080/"
        },
        "id": "AKLfD21X1iKH",
        "outputId": "34580f78-1801-43f3-e733-19ba84e0cd6f"
      },
      "source": [
        "# Train\n",
        "!gdown --id 1vWfhWIj-UpV_bY-zcu7lw4m9z8hLkF0r\n",
        "!gdown --id 1QVgswwhVTkd3VLCzajK6eVkcrSWEK6kq\n",
        "# Valid\n",
        "!gdown --id 1L2dk4ThZ-Bau9rIQpMG8I75R15FpLE-B\n",
        "!gdown --id 1Y1lBbBU5Q0aJMqLhYEOdEtTqQ85XnRRM\n",
        "# Test\n",
        "!gdown --id 1_jyJOVkAfRafJQkH2HLYhw4NTKU5f4bq\n",
        "!gdown --id 1CX_YcgQ3WwNC1fXBpMfwMXFPCqsd9Lbp"
      ],
      "execution_count": null,
      "outputs": [
        {
          "output_type": "stream",
          "text": [
            "Downloading...\n",
            "From: https://drive.google.com/uc?id=1vWfhWIj-UpV_bY-zcu7lw4m9z8hLkF0r\n",
            "To: /content/train.src\n",
            "550MB [00:03, 165MB/s]\n",
            "Downloading...\n",
            "From: https://drive.google.com/uc?id=1QVgswwhVTkd3VLCzajK6eVkcrSWEK6kq\n",
            "To: /content/train.tgt\n",
            "58.8MB [00:00, 112MB/s] \n",
            "Downloading...\n",
            "From: https://drive.google.com/uc?id=1L2dk4ThZ-Bau9rIQpMG8I75R15FpLE-B\n",
            "To: /content/val.src\n",
            "67.2MB [00:00, 145MB/s] \n",
            "Downloading...\n",
            "From: https://drive.google.com/uc?id=1Y1lBbBU5Q0aJMqLhYEOdEtTqQ85XnRRM\n",
            "To: /content/val.tgt\n",
            "7.30MB [00:00, 34.1MB/s]\n",
            "Downloading...\n",
            "From: https://drive.google.com/uc?id=1_jyJOVkAfRafJQkH2HLYhw4NTKU5f4bq\n",
            "To: /content/test.src\n",
            "69.4MB [00:00, 84.5MB/s]\n",
            "Downloading...\n",
            "From: https://drive.google.com/uc?id=1CX_YcgQ3WwNC1fXBpMfwMXFPCqsd9Lbp\n",
            "To: /content/test.tgt\n",
            "7.31MB [00:00, 44.6MB/s]\n"
          ],
          "name": "stdout"
        }
      ]
    },
    {
      "cell_type": "code",
      "metadata": {
        "id": "JoFjGqWyqV4A"
      },
      "source": [
        "!cp -r /content/drive/MyDrive/BertSumExt/BertSum ."
      ],
      "execution_count": null,
      "outputs": []
    },
    {
      "cell_type": "code",
      "metadata": {
        "colab": {
          "base_uri": "https://localhost:8080/"
        },
        "id": "opoK1hMx1_pQ",
        "outputId": "e9342cea-4fc3-43b0-bec5-06f671ad8483"
      },
      "source": [
        "%load_ext autoreload\n",
        "%autoreload 2\n",
        "\n",
        "import torch\n",
        "import json\n",
        "import os\n",
        "import nltk\n",
        "import gc\n",
        "import re\n",
        "import joblib\n",
        "import numpy as np\n",
        "from nltk import word_tokenize, sent_tokenize\n",
        "nltk.download('punkt')\n",
        "\n",
        "from copy import deepcopy\n",
        "from tqdm.notebook import tqdm\n",
        "from pytorch_pretrained_bert import BertTokenizer\n",
        "\n",
        "!mkdir src\n",
        "!cp /content/drive/MyDrive/Colab\\ Notebooks/20202/src/*.py src/"
      ],
      "execution_count": null,
      "outputs": [
        {
          "output_type": "stream",
          "text": [
            "[nltk_data] Downloading package punkt to /root/nltk_data...\n",
            "[nltk_data]   Unzipping tokenizers/punkt.zip.\n"
          ],
          "name": "stdout"
        }
      ]
    },
    {
      "cell_type": "code",
      "metadata": {
        "id": "hFlIZbbuqvUN"
      },
      "source": [
        "import sys\n",
        "sys.path.append('/content/BertSum/src')"
      ],
      "execution_count": null,
      "outputs": []
    },
    {
      "cell_type": "code",
      "metadata": {
        "id": "fB1ti4O_rFsL"
      },
      "source": [
        "from others.utils import test_rouge, rouge_results_to_str"
      ],
      "execution_count": null,
      "outputs": []
    },
    {
      "cell_type": "markdown",
      "metadata": {
        "id": "ost4Dru21Ibr"
      },
      "source": [
        "# Truncate single doc"
      ]
    },
    {
      "cell_type": "code",
      "metadata": {
        "id": "m80e9-yTxvan"
      },
      "source": [
        "from src import abtract2extract\n",
        "summary_size = 4\n",
        "def greedy_extract(train_src, train_tgt, is_test=False):\n",
        "    data = {}\n",
        "    doc_list = train_src.replace('NEWLINE_CHAR', '\\n').split('|||||')  # pag\n",
        "\n",
        "    doc_list = [d for d in doc_list if len(d.split()) > 3]\n",
        "    # keep 510 first token\n",
        "    n = 510   #// len(doc_list) => for keep 510 // S\n",
        "    doc_list = [' '.join(word_tokenize(d)[:n]) for d in doc_list]\n",
        "\n",
        "    doc_sent_list = []\n",
        "    for doc in doc_list: # min 5 word for a sent\n",
        "        doc_sent_list.append([word_tokenize(x) for x in sent_tokenize(doc)\\\n",
        "                              if len(word_tokenize(x))>4])\n",
        "        \n",
        "    \n",
        "    doc_sent_list = [d for d in doc_sent_list if len(d) > 2] # min sent = 3 sent for each paragraph\n",
        "    full_sent_list = [sent for pag in doc_sent_list for sent in pag]\n",
        "\n",
        "    abstract_sent_list = [word_tokenize(x) for x in sent_tokenize(train_tgt)]\n",
        "\n",
        "    num_sent_extract = len(sent_tokenize(train_tgt))+1  # todo: +1 or not\n",
        "    if is_test:\n",
        "        num_sent_extract = 10 # for test\n",
        "    idx_extract = abtract2extract.greedy_selection(full_sent_list,\\\n",
        "                                                   abstract_sent_list, num_sent_extract)\n",
        "\n",
        "    data['src_doc_sent_list'] = deepcopy(doc_sent_list)\n",
        "    assert data['src_doc_sent_list'] == doc_sent_list, 'Copy src bug!'\n",
        "\n",
        "    data['tgt_sent_list'] = deepcopy(abstract_sent_list)\n",
        "    assert data['tgt_sent_list'] == abstract_sent_list, 'Copy tgt bug!'\n",
        "\n",
        "    data['idx_extract'] = sorted(deepcopy(idx_extract))\n",
        "    assert deepcopy(idx_extract) == idx_extract, 'Copy idx extract bug!'\n",
        "   \n",
        "    return data"
      ],
      "execution_count": null,
      "outputs": []
    },
    {
      "cell_type": "code",
      "metadata": {
        "id": "JWoclCRK28kz"
      },
      "source": [
        "with open('val.src', 'r') as file:\n",
        "    train_src = file.readlines()\n",
        "\n",
        "with open('val.tgt', 'r') as file:\n",
        "    train_tgt = file.readlines()"
      ],
      "execution_count": null,
      "outputs": []
    },
    {
      "cell_type": "code",
      "metadata": {
        "colab": {
          "base_uri": "https://localhost:8080/",
          "height": 372,
          "referenced_widgets": [
            "8a8995a673dd4d6abfa97fe468379e55",
            "1108bb460f55489cbc0e2b822eafdd3f",
            "b1b36a41046f4e0988e5726a0f442c5d",
            "8d316ba4dd8742cdad4655cce5d9a7a0",
            "41d133b81d434158ab89fab90cb5ea4f",
            "d83d7509c244496396c3bf2e04ac5220",
            "c1c119f3a45f4596aab8bb6ee5570f12",
            "345a5dd1cfb74e8c9ba1ff6754f25b17"
          ]
        },
        "id": "InuL65aI3CAi",
        "outputId": "babab773-bc51-4031-9a6d-c5121ec9858d"
      },
      "source": [
        "processed_data = []\n",
        "k = 0\n",
        "for i, (src, tgt) in tqdm(enumerate(zip(train_src[k:], train_tgt[k:])), total=len(train_src)):\n",
        "    data = greedy_extract(src, tgt)\n",
        "    if data['idx_extract']:\n",
        "        processed_data.append(data)\n",
        "    else:\n",
        "        print(f\"Filter out multidoc {i}\")"
      ],
      "execution_count": null,
      "outputs": [
        {
          "output_type": "display_data",
          "data": {
            "application/vnd.jupyter.widget-view+json": {
              "model_id": "8a8995a673dd4d6abfa97fe468379e55",
              "version_minor": 0,
              "version_major": 2
            },
            "text/plain": [
              "HBox(children=(FloatProgress(value=0.0, max=5622.0), HTML(value='')))"
            ]
          },
          "metadata": {
            "tags": []
          }
        },
        {
          "output_type": "stream",
          "text": [
            "Filter out multidoc 161\n",
            "Filter out multidoc 308\n",
            "Filter out multidoc 405\n",
            "Filter out multidoc 715\n",
            "Filter out multidoc 1082\n",
            "Filter out multidoc 1110\n",
            "Filter out multidoc 1736\n",
            "Filter out multidoc 2134\n",
            "Filter out multidoc 2303\n",
            "Filter out multidoc 2304\n",
            "Filter out multidoc 2732\n",
            "Filter out multidoc 2831\n",
            "Filter out multidoc 2949\n",
            "Filter out multidoc 3792\n",
            "Filter out multidoc 3977\n",
            "Filter out multidoc 4187\n",
            "Filter out multidoc 4850\n",
            "Filter out multidoc 5387\n",
            "\n"
          ],
          "name": "stdout"
        }
      ]
    },
    {
      "cell_type": "code",
      "metadata": {
        "id": "--MUfZzx8qXH"
      },
      "source": [
        "# with open('/content/drive/MyDrive/Colab Notebooks/20202/data/data_val_extract_filter_512.json', 'w') as file:\n",
        "#     json.dump(processed_data, file)"
      ],
      "execution_count": null,
      "outputs": []
    },
    {
      "cell_type": "code",
      "metadata": {
        "id": "f-x2JVdE96gq"
      },
      "source": [
        "with open('/content/data_val_extract_filter_512.json', 'w') as file:\n",
        "    json.dump(processed_data, file)"
      ],
      "execution_count": null,
      "outputs": []
    },
    {
      "cell_type": "markdown",
      "metadata": {
        "id": "RVdS8yLS6LKd"
      },
      "source": [
        "## Test rouge on generated label"
      ]
    },
    {
      "cell_type": "markdown",
      "metadata": {
        "id": "M3R8U7pMFNOA"
      },
      "source": [
        "### Pyrouge"
      ]
    },
    {
      "cell_type": "code",
      "metadata": {
        "colab": {
          "base_uri": "https://localhost:8080/"
        },
        "id": "WL6vKUU7u0pl",
        "outputId": "08cdaf8e-4331-4bd5-cb5b-cd7ced7e294d"
      },
      "source": [
        "# for pyrouge test\n",
        "# processed_data[0].keys()\n",
        "file_cand = open('candidate.txt', 'w')\n",
        "file_ref = open('reference.txt', 'w')\n",
        "for doc in tqdm(processed_data):\n",
        "    full_sent_list = [sent for pag in doc['src_doc_sent_list'] for sent in pag]\n",
        "    sent_extracted = [full_sent_list[i] for i in doc['idx_extract']]\n",
        "    \n",
        "    cand = ' '.join([' '.join(s) for s in sent_extracted])\n",
        "    ref = ' '.join([' '.join(s) for s in doc['tgt_sent_list']])\n",
        "    file_cand.write(cand+'\\n')\n",
        "    file_ref.write(ref+'\\n')\n",
        "file_cand.close()\n",
        "file_ref.close()\n",
        "!mkdir '/content/temp'\n",
        "test_rouge('/content/temp', '/content/candidate.txt', '/content/reference.txt')"
      ],
      "execution_count": null,
      "outputs": [
        {
          "output_type": "stream",
          "text": [
            "mkdir: cannot create directory ‘/content/temp’: File exists\n",
            "5604\n",
            "5604\n"
          ],
          "name": "stdout"
        },
        {
          "output_type": "stream",
          "text": [
            "2021-05-07 08:29:45,398 [MainThread  ] [INFO ]  Writing summaries.\n",
            "2021-05-07 08:29:45,401 [MainThread  ] [INFO ]  Processing summaries. Saving system files to /content/temp/tmpm3_v_egu/system and model files to /content/temp/tmpm3_v_egu/model.\n",
            "2021-05-07 08:29:45,406 [MainThread  ] [INFO ]  Processing files in /content/temp/rouge-tmp-2021-05-07-08-29-44/candidate/.\n",
            "2021-05-07 08:29:46,175 [MainThread  ] [INFO ]  Saved processed files to /content/temp/tmpm3_v_egu/system.\n",
            "2021-05-07 08:29:46,178 [MainThread  ] [INFO ]  Processing files in /content/temp/rouge-tmp-2021-05-07-08-29-44/reference/.\n",
            "2021-05-07 08:29:47,065 [MainThread  ] [INFO ]  Saved processed files to /content/temp/tmpm3_v_egu/model.\n",
            "2021-05-07 08:29:47,127 [MainThread  ] [INFO ]  Written ROUGE configuration to /content/temp/tmpmxb9rwrr/rouge_conf.xml\n",
            "2021-05-07 08:29:47,129 [MainThread  ] [INFO ]  Running ROUGE with command /content/pyrouge/tools/ROUGE-1.5.5/ROUGE-1.5.5.pl -e /content/pyrouge/tools/ROUGE-1.5.5/data -c 95 -m -r 1000 -n 2 -a /content/temp/tmpmxb9rwrr/rouge_conf.xml\n"
          ],
          "name": "stderr"
        },
        {
          "output_type": "stream",
          "text": [
            "---------------------------------------------\n",
            "1 ROUGE-1 Average_R: 0.53704 (95%-conf.int. 0.53398 - 0.53997)\n",
            "1 ROUGE-1 Average_P: 0.63339 (95%-conf.int. 0.62979 - 0.63696)\n",
            "1 ROUGE-1 Average_F: 0.57215 (95%-conf.int. 0.56946 - 0.57473)\n",
            "---------------------------------------------\n",
            "1 ROUGE-2 Average_R: 0.27851 (95%-conf.int. 0.27496 - 0.28220)\n",
            "1 ROUGE-2 Average_P: 0.33759 (95%-conf.int. 0.33277 - 0.34249)\n",
            "1 ROUGE-2 Average_F: 0.30034 (95%-conf.int. 0.29651 - 0.30447)\n",
            "---------------------------------------------\n",
            "1 ROUGE-L Average_R: 0.28279 (95%-conf.int. 0.27969 - 0.28602)\n",
            "1 ROUGE-L Average_P: 0.34171 (95%-conf.int. 0.33727 - 0.34599)\n",
            "1 ROUGE-L Average_F: 0.30434 (95%-conf.int. 0.30102 - 0.30778)\n",
            "\n"
          ],
          "name": "stdout"
        },
        {
          "output_type": "execute_result",
          "data": {
            "text/plain": [
              "{'rouge_1_f_score': 0.57215,\n",
              " 'rouge_1_f_score_cb': 0.56946,\n",
              " 'rouge_1_f_score_ce': 0.57473,\n",
              " 'rouge_1_precision': 0.63339,\n",
              " 'rouge_1_precision_cb': 0.62979,\n",
              " 'rouge_1_precision_ce': 0.63696,\n",
              " 'rouge_1_recall': 0.53704,\n",
              " 'rouge_1_recall_cb': 0.53398,\n",
              " 'rouge_1_recall_ce': 0.53997,\n",
              " 'rouge_2_f_score': 0.30034,\n",
              " 'rouge_2_f_score_cb': 0.29651,\n",
              " 'rouge_2_f_score_ce': 0.30447,\n",
              " 'rouge_2_precision': 0.33759,\n",
              " 'rouge_2_precision_cb': 0.33277,\n",
              " 'rouge_2_precision_ce': 0.34249,\n",
              " 'rouge_2_recall': 0.27851,\n",
              " 'rouge_2_recall_cb': 0.27496,\n",
              " 'rouge_2_recall_ce': 0.2822,\n",
              " 'rouge_l_f_score': 0.30434,\n",
              " 'rouge_l_f_score_cb': 0.30102,\n",
              " 'rouge_l_f_score_ce': 0.30778,\n",
              " 'rouge_l_precision': 0.34171,\n",
              " 'rouge_l_precision_cb': 0.33727,\n",
              " 'rouge_l_precision_ce': 0.34599,\n",
              " 'rouge_l_recall': 0.28279,\n",
              " 'rouge_l_recall_cb': 0.27969,\n",
              " 'rouge_l_recall_ce': 0.28602}"
            ]
          },
          "metadata": {
            "tags": []
          },
          "execution_count": 37
        }
      ]
    },
    {
      "cell_type": "markdown",
      "metadata": {
        "id": "99lIqoXO6mmI"
      },
      "source": [
        "### Rouge on origin - my rouge"
      ]
    },
    {
      "cell_type": "code",
      "metadata": {
        "colab": {
          "base_uri": "https://localhost:8080/",
          "height": 117,
          "referenced_widgets": [
            "c123fcff42ac4ada9a6ddc8c0791cfad",
            "1bb7ab1902154d7986ed1d6e3afec543",
            "aec5cbefc3924ddaadd1488037c6a259",
            "6b4d10c74b954c6e97cdafa33086e4b1",
            "b6282f0d58464a799250041d37785971",
            "91912c900b62481f9f78bacef5c50c0d",
            "6c030fa08cf84f95b4b8629078c85800",
            "b33a5b2bc756444488938f3e92cf3520"
          ]
        },
        "id": "giCEApnH3NNp",
        "outputId": "755db9d5-e54b-496e-dc42-8ef3d0f5a440"
      },
      "source": [
        "# evaluate abtract2extract peformance\n",
        "f1 = []\n",
        "p = []\n",
        "r = []\n",
        "\n",
        "for i, data in tqdm(enumerate(processed_data), total=len(processed_data)):\n",
        "    full_sent_list = [sent for pag in data['src_doc_sent_list'] for sent in pag]\n",
        "    sent_extracted = [full_sent_list[i] for i in data['idx_extract']]\n",
        "\n",
        "    candidate = set.union(*map(set, sent_extracted))\n",
        "    gold = set.union(*map(set, data['tgt_sent_list']))\n",
        "\n",
        "    f1.append(abtract2extract.cal_rouge(candidate, gold)['f'])\n",
        "    p.append(abtract2extract.cal_rouge(candidate, gold)['p'])\n",
        "    r.append(abtract2extract.cal_rouge(candidate, gold)['r'])\n",
        "\n",
        "print(f'F1: {np.mean(f1)}\\nPrecidion: {np.mean(p)}\\nRecall: {np.mean(r)}')"
      ],
      "execution_count": null,
      "outputs": [
        {
          "output_type": "display_data",
          "data": {
            "application/vnd.jupyter.widget-view+json": {
              "model_id": "c123fcff42ac4ada9a6ddc8c0791cfad",
              "version_minor": 0,
              "version_major": 2
            },
            "text/plain": [
              "HBox(children=(FloatProgress(value=0.0, max=5604.0), HTML(value='')))"
            ]
          },
          "metadata": {
            "tags": []
          }
        },
        {
          "output_type": "stream",
          "text": [
            "\n",
            "F1: 0.5337158984544684\n",
            "Precidion: 0.5856361582834588\n",
            "Recall: 0.4990845447154862\n"
          ],
          "name": "stdout"
        }
      ]
    },
    {
      "cell_type": "markdown",
      "metadata": {
        "id": "FibDXMMT7KNC"
      },
      "source": [
        "### Prepocessing before caculate rouge"
      ]
    },
    {
      "cell_type": "code",
      "metadata": {
        "colab": {
          "base_uri": "https://localhost:8080/",
          "height": 117,
          "referenced_widgets": [
            "40179dccf3ac4870ae628ee145ca1807",
            "728a083c488945bd980cc9e47bbba801",
            "bfde00005e364eb2946eb07389a7a374",
            "bd8c6efc968843899560bb7248e6ee8b",
            "937e6559672e459f8e58312148da5b0b",
            "c9d8a2f48fad461781e991edee93f8c5",
            "faeed85a7ab4481e960e711e08a4a3cd",
            "4274b66ae6f14747817f369abcb28eed"
          ]
        },
        "id": "YngX7uUq6RXG",
        "outputId": "da6200a2-ccba-4616-eaa5-6431c8c6449c"
      },
      "source": [
        "f1 = []\n",
        "p = []\n",
        "r = []\n",
        "\n",
        "for i, data in tqdm(enumerate(processed_data), total=len(processed_data)):\n",
        "    full_sent_list = [sent for pag in data['src_doc_sent_list'] for sent in pag]\n",
        "    sent_extracted = [full_sent_list[i] for i in data['idx_extract']]\n",
        "\n",
        "    candidate = set.union(*map(set, sent_extracted))\n",
        "    candidate = set([x.lower() for x in candidate if x.isalpha() or x.isdigit()])\n",
        "\n",
        "    gold = set.union(*map(set, data['tgt_sent_list']))\n",
        "    gold = set([x.lower() for x in gold if x.isalpha() or x.isdigit()])\n",
        "\n",
        "    f1.append(abtract2extract.cal_rouge(candidate, gold)['f'])\n",
        "    p.append(abtract2extract.cal_rouge(candidate, gold)['p'])\n",
        "    r.append(abtract2extract.cal_rouge(candidate, gold)['r'])\n",
        "\n",
        "print(f'F1: {np.mean(f1)}\\nPrecidion: {np.mean(p)}\\nRecall: {np.mean(r)}')"
      ],
      "execution_count": null,
      "outputs": [
        {
          "output_type": "display_data",
          "data": {
            "application/vnd.jupyter.widget-view+json": {
              "model_id": "40179dccf3ac4870ae628ee145ca1807",
              "version_minor": 0,
              "version_major": 2
            },
            "text/plain": [
              "HBox(children=(FloatProgress(value=0.0, max=5604.0), HTML(value='')))"
            ]
          },
          "metadata": {
            "tags": []
          }
        },
        {
          "output_type": "stream",
          "text": [
            "\n",
            "F1: 0.5475245169678181\n",
            "Precidion: 0.6010439280885476\n",
            "Recall: 0.511928539707526\n"
          ],
          "name": "stdout"
        }
      ]
    },
    {
      "cell_type": "markdown",
      "metadata": {
        "id": "WEtFpTmq9MPx"
      },
      "source": [
        "# Generate label for bert extract finetune 1\n",
        " "
      ]
    },
    {
      "cell_type": "markdown",
      "metadata": {
        "id": "AXMm7ICZ-Fd4"
      },
      "source": [
        "## Multi doc to single doc"
      ]
    },
    {
      "cell_type": "code",
      "metadata": {
        "id": "QLBWhRaC6TfM"
      },
      "source": [
        "def json2bert_single(json_file):\n",
        "    \"\"\"\n",
        "    Convert từ multidoc + label ban đầu - dataset gốc => single doc + label tương ứng\n",
        "    \"\"\"\n",
        "\n",
        "    with open(json_file, 'r') as file:\n",
        "        json_data = json.load(file)\n",
        "        \n",
        "    sigle_doc_format = []\n",
        "    for i, data in tqdm(enumerate(json_data), total=len(json_data)):\n",
        "        idx_start = 0\n",
        "        total_doc = len(data['src_doc_sent_list'])\n",
        "        for j, parag in enumerate(data['src_doc_sent_list']):\n",
        "            # if len(parag) < 3:  # Chỉ lấy đoạn có số câu >2\n",
        "            #     continue\n",
        "            sent_idx_extract = []\n",
        "            # origin_sent_idx_extract = []\n",
        "            single_doc = {}\n",
        "            n = len(parag)\n",
        "            for idx in data['idx_extract']:\n",
        "                if idx_start <= idx < idx_start+n:\n",
        "                    sent_idx_extract.append(idx-idx_start)\n",
        "                    # origin_sent_idx_extract.append(idx)\n",
        "            \n",
        "            single_doc['src'] = deepcopy(parag)\n",
        "            single_doc['idx_start'] = idx_start\n",
        "            single_doc['idx_extract'] = sorted(deepcopy(sent_idx_extract))\n",
        "            # single_doc['origin_idx_extract'] = sorted(deepcopy(origin_sent_idx_extract))\n",
        "            single_doc['id'] = f\"{i}_{j}\"\n",
        "            single_doc['n_sent'] = n\n",
        "            single_doc['total_doc'] = total_doc\n",
        "            single_doc['multi_idx_extract'] = sorted(deepcopy(data['idx_extract']))\n",
        "            sigle_doc_format.append(deepcopy(single_doc))\n",
        "\n",
        "            idx_start += n\n",
        "        # break\n",
        "    return sigle_doc_format\n"
      ],
      "execution_count": null,
      "outputs": []
    },
    {
      "cell_type": "code",
      "metadata": {
        "colab": {
          "base_uri": "https://localhost:8080/",
          "height": 66,
          "referenced_widgets": [
            "3ea3675d272f4c5bafb4ec20324c8bb3",
            "d3a38d9b09104898ad14f57e4cb3e665",
            "5b813ada73ba4b64a420d3174f038e7e",
            "5d327eb438f14d46b74796898c5c6179",
            "07b93d0ee80c4520886f2f3e5ab210ab",
            "d7cfa176057c4e3a93a42866981e60f8",
            "46650ce0d2004bd098aa7382c349515a",
            "ca525863b0244b389c442b9440dc7309"
          ]
        },
        "id": "ggIuOo2X78kp",
        "outputId": "9f7b3e58-c7b9-4882-965b-b9ea5e36c9c9"
      },
      "source": [
        "# sigle_doc_format = json2bert_single('/content/data_val_extract_filter_512.json')\n",
        "sigle_doc_format = json2bert_single('/content/drive/MyDrive/Colab Notebooks/20202/data/data_test_extract_filter_512.json')\n"
      ],
      "execution_count": null,
      "outputs": [
        {
          "output_type": "display_data",
          "data": {
            "application/vnd.jupyter.widget-view+json": {
              "model_id": "3ea3675d272f4c5bafb4ec20324c8bb3",
              "version_minor": 0,
              "version_major": 2
            },
            "text/plain": [
              "HBox(children=(FloatProgress(value=0.0, max=5609.0), HTML(value='')))"
            ]
          },
          "metadata": {
            "tags": []
          }
        },
        {
          "output_type": "stream",
          "text": [
            "\n"
          ],
          "name": "stdout"
        }
      ]
    },
    {
      "cell_type": "code",
      "metadata": {
        "colab": {
          "base_uri": "https://localhost:8080/"
        },
        "id": "UxHIa3Qa-7lo",
        "outputId": "0549abaf-7095-4703-cabf-2ba6b50f77be"
      },
      "source": [
        "len(sigle_doc_format)"
      ],
      "execution_count": null,
      "outputs": [
        {
          "output_type": "execute_result",
          "data": {
            "text/plain": [
              "14232"
            ]
          },
          "metadata": {
            "tags": []
          },
          "execution_count": 43
        }
      ]
    },
    {
      "cell_type": "code",
      "metadata": {
        "colab": {
          "base_uri": "https://localhost:8080/"
        },
        "id": "uJhghHmf_Aqf",
        "outputId": "ec6ac2d7-922e-4218-9f95-bd7ae7c024bd"
      },
      "source": [
        "sigle_doc_format[1].keys()\n",
        "# => fine tune bert chỉ dùng tới src và idx_extract"
      ],
      "execution_count": null,
      "outputs": [
        {
          "output_type": "execute_result",
          "data": {
            "text/plain": [
              "dict_keys(['src', 'idx_start', 'idx_extract', 'id', 'n_sent', 'total_doc', 'multi_idx_extract'])"
            ]
          },
          "metadata": {
            "tags": []
          },
          "execution_count": 69
        }
      ]
    },
    {
      "cell_type": "markdown",
      "metadata": {
        "id": "Ymx4T1bJ_eCs"
      },
      "source": [
        "## Convert to bert data format for finetuning"
      ]
    },
    {
      "cell_type": "code",
      "metadata": {
        "id": "ZBNBl9z__DUn"
      },
      "source": [
        "class BertData():\n",
        "    def __init__(self, args):\n",
        "        self.args = args\n",
        "        self.tokenizer = BertTokenizer.from_pretrained('bert-base-uncased', do_lower_case=True)\n",
        "        self.sep_vid = self.tokenizer.vocab['[SEP]']\n",
        "        self.cls_vid = self.tokenizer.vocab['[CLS]']\n",
        "        self.pad_vid = self.tokenizer.vocab['[PAD]']\n",
        "\n",
        "    def preprocess(self, src, oracle_ids=[]):\n",
        "        # Test => oracle_ids=[]\n",
        "        if (len(src) == 0):\n",
        "            return None\n",
        "\n",
        "        original_src_txt = [' '.join(s) for s in src]\n",
        "\n",
        "        labels = [0] * len(src)\n",
        "        for l in oracle_ids:\n",
        "            labels[l] = 1\n",
        "\n",
        "        idxs = [i for i, s in enumerate(src) if (len(s) >= self.args.min_src_ntokens)]\n",
        "\n",
        "        src = [src[i][:self.args.max_src_ntokens] for i in idxs]  # token toi da cua 1 cau\n",
        "        labels = [labels[i] for i in idxs] # bỏ câu ngắn\n",
        "        src = src[:self.args.max_nsents]\n",
        "        labels = labels[:self.args.max_nsents] # cắt bớt đoạn dài\n",
        "\n",
        "        if (len(src) < self.args.min_nsents):\n",
        "            return None\n",
        "        if (len(labels) == 0):\n",
        "            return None\n",
        "\n",
        "        src_txt = [' '.join(sent) for sent in src]\n",
        "        # text = [' '.join(ex['src_txt'][i].split()[:self.args.max_src_ntokens]) for i in idxs]\n",
        "        # text = [_clean(t) for t in text]\n",
        "        text = ' [SEP] [CLS] '.join(src_txt)\n",
        "        src_subtokens = self.tokenizer.tokenize(text)\n",
        "        src_subtokens = src_subtokens[:510]\n",
        "        src_subtokens = ['[CLS]'] + src_subtokens + ['[SEP]']\n",
        "\n",
        "        src_subtoken_idxs = self.tokenizer.convert_tokens_to_ids(src_subtokens)\n",
        "        _segs = [-1] + [i for i, t in enumerate(src_subtoken_idxs) if t == self.sep_vid]\n",
        "        segs = [_segs[i] - _segs[i - 1] for i in range(1, len(_segs))]\n",
        "        segments_ids = []\n",
        "        for i, s in enumerate(segs):\n",
        "            if (i % 2 == 0):\n",
        "                segments_ids += s * [0]\n",
        "            else:\n",
        "                segments_ids += s * [1]\n",
        "        cls_ids = [i for i, t in enumerate(src_subtoken_idxs) if t == self.cls_vid]\n",
        "        labels = labels[:len(cls_ids)]\n",
        "\n",
        "        # tgt_txt = '<q>'.join([' '.join(tt) for tt in tgt])\n",
        "        src_txt = [original_src_txt[i] for i in idxs]\n",
        "        return src_subtoken_idxs, labels, segments_ids, cls_ids,# src_txt, tgt_txt"
      ],
      "execution_count": null,
      "outputs": []
    },
    {
      "cell_type": "code",
      "metadata": {
        "colab": {
          "base_uri": "https://localhost:8080/"
        },
        "id": "z08KYNrc_tNJ",
        "outputId": "a3c1857a-9f72-4250-e006-2dbdbbf37c1d"
      },
      "source": [
        "bert_data_config = DataConfig()\n",
        "bert_data = BertData(bert_data_config)"
      ],
      "execution_count": null,
      "outputs": [
        {
          "output_type": "stream",
          "text": [
            "100%|██████████| 231508/231508 [00:00<00:00, 889934.75B/s]\n"
          ],
          "name": "stderr"
        }
      ]
    },
    {
      "cell_type": "code",
      "metadata": {
        "id": "WoO6F-jw_-qi"
      },
      "source": [
        "test_data = []\n",
        "for i in tqdm(range(len(sigle_doc_format))):\n",
        "    data = bert_data.preprocess(sigle_doc_format[i]['src'], sigle_doc_format[i]['idx_extract'])\n",
        "    assert data is not None, 'Data after preprocess must be not None!'\n",
        "    test_data.append(data)"
      ],
      "execution_count": null,
      "outputs": []
    },
    {
      "cell_type": "code",
      "metadata": {
        "colab": {
          "base_uri": "https://localhost:8080/"
        },
        "id": "hIkM9FQX9_ct",
        "outputId": "34cd9432-0e6d-423d-b6d1-0509d79a7b09"
      },
      "source": [
        "gc.collect()"
      ],
      "execution_count": null,
      "outputs": [
        {
          "output_type": "execute_result",
          "data": {
            "text/plain": [
              "0"
            ]
          },
          "metadata": {
            "tags": []
          },
          "execution_count": 18
        }
      ]
    },
    {
      "cell_type": "code",
      "metadata": {
        "id": "vij2M7HMAYCZ"
      },
      "source": [
        "# with open('/content/drive/MyDrive/Colab Notebooks/20202/data/bert_format_val_512.json', 'w') as file:\n",
        "#     json.dump(test_data, file)\n",
        "with open('/content/drive/MyDrive/Colab Notebooks/20202/data/bert_format_val_512.json', 'r') as file:\n",
        "    test_data = json.load(file)"
      ],
      "execution_count": null,
      "outputs": []
    },
    {
      "cell_type": "code",
      "metadata": {
        "id": "rbb-VdGNCF2I"
      },
      "source": [
        "# dùng data này để finetune luôn\n",
        "with open('/content/bert_format_val_512.json', 'w') as file:\n",
        "    json.dump(test_data, file)"
      ],
      "execution_count": null,
      "outputs": []
    },
    {
      "cell_type": "code",
      "metadata": {
        "id": "N6rRtTz-CJIC"
      },
      "source": [
        ""
      ],
      "execution_count": null,
      "outputs": []
    },
    {
      "cell_type": "markdown",
      "metadata": {
        "id": "jhGbVC_cCgUN"
      },
      "source": [
        "# Truncate data from multidoc => 512 token"
      ]
    },
    {
      "cell_type": "markdown",
      "metadata": {
        "id": "JnYFxUzGDK9T"
      },
      "source": [
        "Đầu vào:\n",
        "\n",
        "    - File single doc\n",
        "    - Kết quả predict của bert single\n",
        "\n",
        "Đầu ra:\n",
        "\n",
        "    - Single doc <=512 token"
      ]
    },
    {
      "cell_type": "code",
      "metadata": {
        "colab": {
          "base_uri": "https://localhost:8080/"
        },
        "id": "tLLkYpmqiIUf",
        "outputId": "3e71b4b9-2afa-4ce3-d324-25e751d86af2"
      },
      "source": [
        "gc.collect()"
      ],
      "execution_count": null,
      "outputs": [
        {
          "output_type": "execute_result",
          "data": {
            "text/plain": [
              "466"
            ]
          },
          "metadata": {
            "tags": []
          },
          "execution_count": 65
        }
      ]
    },
    {
      "cell_type": "code",
      "metadata": {
        "id": "WC3oBrn0Cju_"
      },
      "source": [
        "result_single = joblib.load('/content/drive/MyDrive/Colab Notebooks/20202/data/result_total_test7.joblib')\n",
        "arg_sent = []\n",
        "for rs in result_single:\n",
        "    arg_sent.append(np.argsort(-rs, axis=1)[:, :7])\n",
        "arg_sent = np.concatenate(arg_sent)"
      ],
      "execution_count": null,
      "outputs": []
    },
    {
      "cell_type": "code",
      "metadata": {
        "colab": {
          "base_uri": "https://localhost:8080/"
        },
        "id": "K50J9eLYGH2U",
        "outputId": "a83a43b8-45e6-4abc-8481-8589e42c568f"
      },
      "source": [
        "len(sigle_doc_format), arg_sent.shape"
      ],
      "execution_count": null,
      "outputs": [
        {
          "output_type": "execute_result",
          "data": {
            "text/plain": [
              "(14232, (14232, 7))"
            ]
          },
          "metadata": {
            "tags": []
          },
          "execution_count": 45
        }
      ]
    },
    {
      "cell_type": "code",
      "metadata": {
        "id": "mBx_Pd84Djry"
      },
      "source": [
        "# sigle_doc_format = json2bert_single('/content/data_val_extract_filter_512.json')\n",
        "for doc, idx_predict in zip(sigle_doc_format, arg_sent[:len(sigle_doc_format)]):\n",
        "    doc['idx_predict'] = list(map(int, idx_predict))  # decrease priority"
      ],
      "execution_count": null,
      "outputs": []
    },
    {
      "cell_type": "markdown",
      "metadata": {
        "id": "jgKtv4kcHQXd"
      },
      "source": [
        "### Single doc to multi doc"
      ]
    },
    {
      "cell_type": "code",
      "metadata": {
        "id": "62z6NpuxHT9F"
      },
      "source": [
        "def single2multi(single_docs):\n",
        "    \"\"\"\n",
        "    list single doc to multi docs\n",
        "    \"\"\"\n",
        "    multi_docs = []\n",
        "    for doc in single_docs:\n",
        "        para_infor = {'src': doc['src'],\\\n",
        "                      'selected_index':doc['idx_predict'],\\\n",
        "                      'p_id': doc['id']}\n",
        "        if doc['idx_start'] == 0:  # new paragraph\n",
        "            multi_docs.append([para_infor])\n",
        "        else:\n",
        "            multi_docs[-1].append(para_infor)\n",
        "    return multi_docs\n"
      ],
      "execution_count": null,
      "outputs": []
    },
    {
      "cell_type": "markdown",
      "metadata": {
        "id": "EKWVPHWaG--m"
      },
      "source": [
        "### Caculate sentence similarity"
      ]
    },
    {
      "cell_type": "code",
      "metadata": {
        "id": "m03nP5D_GDZa"
      },
      "source": [
        "def get_similarity(k_sent, q_sent):\n",
        "    # q_sent, k_sent: list of word\n",
        "    # q_sent: candidate sentence, k_sent: selected sentence\n",
        "    sent1 = ' '.join(k_sent)\n",
        "    sent2 = ' '.join(q_sent)\n",
        "\n",
        "    sent1 = sent1.lower()\n",
        "    sent2 = sent2.lower()\n",
        "    sent1 = re.sub(r'[^a-zA-Z0-9 ]', '', sent1)\n",
        "    sent2 = re.sub(r'[^a-zA-Z0-9 ]', '', sent2)\n",
        "\n",
        "    set_word1 = set([w.strip() for w in sent1.split(' ')]) - {''}\n",
        "    set_word2 = set([w.strip() for w in sent2.split(' ')]) - {''}\n",
        "\n",
        "    if len(set_word2) == 0:  # ['ताज़ातरीन', 'ख़बरों', 'और', 'वीडियो', 'के', 'लिए', 'आजतक.इन', 'पर', 'आएं', '.']\n",
        "        return 1\n",
        "    # tính tỉ lệ từ trong câu mới đã xuất hiện trong câu đã chọn\n",
        "    # to do: ngram...\n",
        "    # print('set word query: ', set_word2)\n",
        "    # print('set word for key: ', set_word1)\n",
        "    \n",
        "    similarity = len(set_word2.intersection(set_word1)) / len(set_word2)\n",
        "\n",
        "    return similarity"
      ],
      "execution_count": null,
      "outputs": []
    },
    {
      "cell_type": "markdown",
      "metadata": {
        "id": "NGNBoU51HloT"
      },
      "source": [
        "### Truncate multi to single function"
      ]
    },
    {
      "cell_type": "code",
      "metadata": {
        "id": "sZQdllu1Hg-Y"
      },
      "source": [
        "def is_same_sentence(query, database, thresold=0.4):\n",
        "    # query, database: sentence object (id, sent)\n",
        "    max_similar = 0\n",
        "    for k_sent in database:\n",
        "        s = get_similarity(k_sent[1], query[1])  \n",
        "        max_similar = max(s, max_similar)\n",
        "    if max_similar >= thresold:\n",
        "        return True\n",
        "    else:\n",
        "        return False\n",
        "\n",
        "def reorder_sentence(sentences):\n",
        "    \"\"\"\n",
        "    sentence: (id, src) => origin order\n",
        "    return: sentence-reorder, paragraph segment\n",
        "    \"\"\"        \n",
        "    sentence_ordered = list(sorted(sentences, key=lambda x: x[0]))\n",
        "    segment = [int(x[0].split('_')[1]) for x in sentence_ordered]\n",
        "    sentence_id = [x[0].split('_')[2] for x in sentence_ordered]\n",
        "\n",
        "    sentence_ordered = [x[1] for x in sentence_ordered]\n",
        "    return {'src': sentence_ordered, 'p_seg': segment, 's_id': sentence_id}\n",
        "\n",
        "def truncate(multi_docs, max_token=512, debug=0):\n",
        "    \"\"\"\n",
        "    sentence: tuple(f\"{p_id}_{sent_id}\", sentence) => sort sentence => sort\n",
        "    \"\"\"\n",
        "    candidate_sentences = []  # list of sentence\n",
        "    for i in range(7):  # 7 from bert\n",
        "        for doc in multi_docs:\n",
        "            p_id = doc['p_id']\n",
        "            s_id = doc['selected_index'][i]\n",
        "            n_sent = len(doc['src'])\n",
        "            if s_id < n_sent:  # min = 3 word\n",
        "                candidate_sentences.append((f'{p_id}_{s_id}', doc['src'][s_id]))\n",
        "    # check token < 520 => ok luon, ko can lam buoc tiep theo\n",
        "    total_token = sum([len(s[1]) for s in candidate_sentences])\n",
        "    # print(total_token)\n",
        "    if total_token <= max_token:\n",
        "        if debug:\n",
        "            print('Keep all!')\n",
        "        return reorder_sentence(candidate_sentences)\n",
        "\n",
        "    selected = [False] * len(candidate_sentences)\n",
        "    selected_sentences = []  # list of sentence\n",
        "    \n",
        "    selected_sentences.append(candidate_sentences[0])  # todo: dynamic?\n",
        "    selected[0] = True\n",
        "    total_token_selected = len(candidate_sentences[0])\n",
        "    # print(type(candidate_sentences[0]), candidate_sentences[0])\n",
        "    for i in range(len(candidate_sentences)):\n",
        "        if not selected[i] and not is_same_sentence(candidate_sentences[i],\\\n",
        "                                                    selected_sentences, thresold=0.4):\n",
        "            selected[i] = True\n",
        "            selected_sentences.append(candidate_sentences[i])\n",
        "            total_token_selected += len(candidate_sentences[i])\n",
        "            if debug:\n",
        "                print('Select sentence ', i)\n",
        "        if total_token_selected >= max_token:\n",
        "            break\n",
        "    return reorder_sentence(selected_sentences)\n"
      ],
      "execution_count": null,
      "outputs": []
    },
    {
      "cell_type": "code",
      "metadata": {
        "colab": {
          "base_uri": "https://localhost:8080/",
          "height": 66,
          "referenced_widgets": [
            "bf159ffd23264786812f49b0db9f2a7a",
            "daba0840293346cdbe246ca889688f35",
            "b2f1fc8057b84d708954b947e1182fa7",
            "d7f09e79c7a447d5be08c8b27206b1ff",
            "75043fc860ab40de9c68d66ddf2269fd",
            "e2212b9e056d4eccaac8b4744aeeb2cb",
            "39ad3ef60e5742bca9e83fe2c96959a9",
            "d45303c716114acbad6197b3883b78a3"
          ]
        },
        "id": "-F42hRKVHqMo",
        "outputId": "f86fffb4-e301-4910-8bde-3852613b8ea0"
      },
      "source": [
        "multi_docs = single2multi(sigle_doc_format)\n",
        "paragraph_segment = []\n",
        "data_truncated = []\n",
        "for doc in tqdm(multi_docs):\n",
        "    doc_truncate = truncate(doc, max_token=512)\n",
        "    data_truncated.append(doc_truncate['src'])\n",
        "    paragraph_segment.append(doc_truncate['p_seg'])"
      ],
      "execution_count": null,
      "outputs": [
        {
          "output_type": "display_data",
          "data": {
            "application/vnd.jupyter.widget-view+json": {
              "model_id": "bf159ffd23264786812f49b0db9f2a7a",
              "version_minor": 0,
              "version_major": 2
            },
            "text/plain": [
              "HBox(children=(FloatProgress(value=0.0, max=5609.0), HTML(value='')))"
            ]
          },
          "metadata": {
            "tags": []
          }
        },
        {
          "output_type": "stream",
          "text": [
            "\n"
          ],
          "name": "stdout"
        }
      ]
    },
    {
      "cell_type": "code",
      "metadata": {
        "colab": {
          "base_uri": "https://localhost:8080/"
        },
        "id": "FkGihCRN_PCM",
        "outputId": "1be2212c-acd5-41c7-fe21-2ea423f176e4"
      },
      "source": [
        "paragraph_segment[0]"
      ],
      "execution_count": null,
      "outputs": [
        {
          "output_type": "execute_result",
          "data": {
            "text/plain": [
              "[0, 0, 0, 0, 0, 0, 0, 1, 1, 1, 1, 1, 1, 1]"
            ]
          },
          "metadata": {
            "tags": []
          },
          "execution_count": 60
        }
      ]
    },
    {
      "cell_type": "code",
      "metadata": {
        "colab": {
          "base_uri": "https://localhost:8080/"
        },
        "id": "Ck7lS4HbH1bf",
        "outputId": "906099da-be7d-4d90-d27d-8d48c69cf77d"
      },
      "source": [
        "len(data_truncated)"
      ],
      "execution_count": null,
      "outputs": [
        {
          "output_type": "execute_result",
          "data": {
            "text/plain": [
              "5604"
            ]
          },
          "metadata": {
            "tags": []
          },
          "execution_count": 37
        }
      ]
    },
    {
      "cell_type": "markdown",
      "metadata": {
        "id": "TYDZ4OvnIfB4"
      },
      "source": [
        "### Check rouge from keep top k each doc"
      ]
    },
    {
      "cell_type": "code",
      "metadata": {
        "id": "SFVseT6PBbRh"
      },
      "source": [
        "from src import abtract2extract"
      ],
      "execution_count": null,
      "outputs": []
    },
    {
      "cell_type": "code",
      "metadata": {
        "id": "feAq8M7OIuPv"
      },
      "source": [
        "# with open('/content/data_val_extract_filter_512.json', 'r') as file:\n",
        "with open('/content/drive/MyDrive/Colab Notebooks/20202/data/data_test_extract_filter_512.json', 'r') as file:\n",
        "    data_multi_origin = json.load(file)"
      ],
      "execution_count": null,
      "outputs": []
    },
    {
      "cell_type": "markdown",
      "metadata": {
        "id": "qCttVAqsFGUu"
      },
      "source": [
        "#### Pyrouge"
      ]
    },
    {
      "cell_type": "code",
      "metadata": {
        "colab": {
          "base_uri": "https://localhost:8080/",
          "height": 953,
          "referenced_widgets": [
            "201a57b771794587b70fa535db6925bb",
            "ffa9ce61f908451fa2528e2b8233466b",
            "35f758947d5e4c8b94bdca935ec647c0",
            "6a398567de8f443e9dda304c0c3a0a0a",
            "c2a663facc7e4eedba00eba12b7e6ae4",
            "0bc4327ba2af4e1fa6c861d1f09f8bf2",
            "80b112563a424370a4d77329d22cafee",
            "f48b2efb11a34a3a8c89407d63b5b5bc"
          ]
        },
        "id": "ToU4u4WQ_r4m",
        "outputId": "5d9b8500-5a86-4e1b-c185-13605fdfa86e"
      },
      "source": [
        "# for pyrouge test\n",
        "# processed_data[0].keys()\n",
        "file_cand = open('candidate.txt', 'w')\n",
        "file_ref = open('reference.txt', 'w')\n",
        "for pred, truth in tqdm(zip(data_truncated, data_multi_origin[:len(data_truncated)]), total=len(data_truncated)):\n",
        "    cand = ' '.join([' '.join(s) for s in pred])\n",
        "    ref = ' '.join([' '.join(s) for s in truth['tgt_sent_list']])\n",
        "    file_cand.write(cand+'\\n')\n",
        "    file_ref.write(ref+'\\n')\n",
        "file_cand.close()\n",
        "file_ref.close()\n",
        "!mkdir '/content/temp'\n",
        "test_rouge('/content/temp', '/content/candidate.txt', '/content/reference.txt')"
      ],
      "execution_count": null,
      "outputs": [
        {
          "output_type": "display_data",
          "data": {
            "application/vnd.jupyter.widget-view+json": {
              "model_id": "201a57b771794587b70fa535db6925bb",
              "version_minor": 0,
              "version_major": 2
            },
            "text/plain": [
              "HBox(children=(FloatProgress(value=0.0, max=5604.0), HTML(value='')))"
            ]
          },
          "metadata": {
            "tags": []
          }
        },
        {
          "output_type": "stream",
          "text": [
            "\n",
            "mkdir: cannot create directory ‘/content/temp’: File exists\n",
            "5604\n",
            "5604\n"
          ],
          "name": "stdout"
        },
        {
          "output_type": "stream",
          "text": [
            "2021-05-07 08:45:40,341 [MainThread  ] [INFO ]  Writing summaries.\n",
            "2021-05-07 08:45:40,345 [MainThread  ] [INFO ]  Processing summaries. Saving system files to /content/temp/tmpy_g6yiy7/system and model files to /content/temp/tmpy_g6yiy7/model.\n",
            "2021-05-07 08:45:40,349 [MainThread  ] [INFO ]  Processing files in /content/temp/rouge-tmp-2021-05-07-08-45-39/candidate/.\n",
            "2021-05-07 08:45:41,269 [MainThread  ] [INFO ]  Saved processed files to /content/temp/tmpy_g6yiy7/system.\n",
            "2021-05-07 08:45:41,273 [MainThread  ] [INFO ]  Processing files in /content/temp/rouge-tmp-2021-05-07-08-45-39/reference/.\n",
            "2021-05-07 08:45:42,141 [MainThread  ] [INFO ]  Saved processed files to /content/temp/tmpy_g6yiy7/model.\n",
            "2021-05-07 08:45:42,228 [MainThread  ] [INFO ]  Written ROUGE configuration to /content/temp/tmp7tfaegl1/rouge_conf.xml\n",
            "2021-05-07 08:45:42,237 [MainThread  ] [INFO ]  Running ROUGE with command /content/pyrouge/tools/ROUGE-1.5.5/ROUGE-1.5.5.pl -e /content/pyrouge/tools/ROUGE-1.5.5/data -c 95 -m -r 1000 -n 2 -a /content/temp/tmp7tfaegl1/rouge_conf.xml\n"
          ],
          "name": "stderr"
        },
        {
          "output_type": "stream",
          "text": [
            "---------------------------------------------\n",
            "1 ROUGE-1 Average_R: 0.60467 (95%-conf.int. 0.60161 - 0.60802)\n",
            "1 ROUGE-1 Average_P: 0.37915 (95%-conf.int. 0.37617 - 0.38205)\n",
            "1 ROUGE-1 Average_F: 0.44876 (95%-conf.int. 0.44645 - 0.45113)\n",
            "---------------------------------------------\n",
            "1 ROUGE-2 Average_R: 0.23998 (95%-conf.int. 0.23666 - 0.24351)\n",
            "1 ROUGE-2 Average_P: 0.14956 (95%-conf.int. 0.14718 - 0.15210)\n",
            "1 ROUGE-2 Average_F: 0.17749 (95%-conf.int. 0.17496 - 0.18013)\n",
            "---------------------------------------------\n",
            "1 ROUGE-L Average_R: 0.28529 (95%-conf.int. 0.28246 - 0.28821)\n",
            "1 ROUGE-L Average_P: 0.17773 (95%-conf.int. 0.17576 - 0.17983)\n",
            "1 ROUGE-L Average_F: 0.21034 (95%-conf.int. 0.20845 - 0.21242)\n",
            "\n"
          ],
          "name": "stdout"
        },
        {
          "output_type": "execute_result",
          "data": {
            "text/plain": [
              "{'rouge_1_f_score': 0.44876,\n",
              " 'rouge_1_f_score_cb': 0.44645,\n",
              " 'rouge_1_f_score_ce': 0.45113,\n",
              " 'rouge_1_precision': 0.37915,\n",
              " 'rouge_1_precision_cb': 0.37617,\n",
              " 'rouge_1_precision_ce': 0.38205,\n",
              " 'rouge_1_recall': 0.60467,\n",
              " 'rouge_1_recall_cb': 0.60161,\n",
              " 'rouge_1_recall_ce': 0.60802,\n",
              " 'rouge_2_f_score': 0.17749,\n",
              " 'rouge_2_f_score_cb': 0.17496,\n",
              " 'rouge_2_f_score_ce': 0.18013,\n",
              " 'rouge_2_precision': 0.14956,\n",
              " 'rouge_2_precision_cb': 0.14718,\n",
              " 'rouge_2_precision_ce': 0.1521,\n",
              " 'rouge_2_recall': 0.23998,\n",
              " 'rouge_2_recall_cb': 0.23666,\n",
              " 'rouge_2_recall_ce': 0.24351,\n",
              " 'rouge_l_f_score': 0.21034,\n",
              " 'rouge_l_f_score_cb': 0.20845,\n",
              " 'rouge_l_f_score_ce': 0.21242,\n",
              " 'rouge_l_precision': 0.17773,\n",
              " 'rouge_l_precision_cb': 0.17576,\n",
              " 'rouge_l_precision_ce': 0.17983,\n",
              " 'rouge_l_recall': 0.28529,\n",
              " 'rouge_l_recall_cb': 0.28246,\n",
              " 'rouge_l_recall_ce': 0.28821}"
            ]
          },
          "metadata": {
            "tags": []
          },
          "execution_count": 54
        }
      ]
    },
    {
      "cell_type": "markdown",
      "metadata": {
        "id": "qcEwDPBBJFW3"
      },
      "source": [
        "#### Rouge on origin"
      ]
    },
    {
      "cell_type": "code",
      "metadata": {
        "colab": {
          "base_uri": "https://localhost:8080/",
          "height": 117,
          "referenced_widgets": [
            "b471a25343664583b027e773b9d9396f",
            "696d5457ce684be6a6038fd4e7c0974d",
            "011d5807d8b7464f96873bfe1c8fcaa7",
            "f49e4b5fc29e4923b0c507df94406493",
            "4c22244f46134aadb623f48b5c128126",
            "344940287a674ef4a619ead472d72f14",
            "ed91cb03a749414e8f28fdd9d13e8474",
            "019fc7d231e04a01929d2b61809633aa"
          ]
        },
        "id": "QjdNStQ1IHun",
        "outputId": "88fb7ff5-4851-45d2-a9f1-f5e09a724157"
      },
      "source": [
        "f1 = []\n",
        "p = []\n",
        "r = []\n",
        "for pred, truth in tqdm(zip(data_truncated, data_multi_origin[:len(data_truncated)]), total=len(data_truncated)):\n",
        "    candidate = set.union(*map(set, pred))\n",
        "    gold = set.union(*map(set, truth['tgt_sent_list']))\n",
        "    rs_eval = abtract2extract.cal_rouge(candidate, gold)\n",
        "    f1.append(rs_eval['f'])\n",
        "    p.append(rs_eval['p'])\n",
        "    r.append(rs_eval['r'])\n",
        "    \n",
        "print(f'F1: {np.mean(f1)}\\nPrecidion: {np.mean(p)}\\nRecall: {np.mean(r)}')"
      ],
      "execution_count": null,
      "outputs": [
        {
          "output_type": "display_data",
          "data": {
            "application/vnd.jupyter.widget-view+json": {
              "model_id": "b471a25343664583b027e773b9d9396f",
              "version_minor": 0,
              "version_major": 2
            },
            "text/plain": [
              "HBox(children=(FloatProgress(value=0.0, max=5604.0), HTML(value='')))"
            ]
          },
          "metadata": {
            "tags": []
          }
        },
        {
          "output_type": "stream",
          "text": [
            "\n",
            "F1: 0.4037125501538618\n",
            "Precidion: 0.3598063554937476\n",
            "Recall: 0.4877809205162768\n"
          ],
          "name": "stdout"
        }
      ]
    },
    {
      "cell_type": "markdown",
      "metadata": {
        "id": "o2ZeDQBFJIUs"
      },
      "source": [
        "#### Rouge after preprocess"
      ]
    },
    {
      "cell_type": "code",
      "metadata": {
        "colab": {
          "base_uri": "https://localhost:8080/",
          "height": 117,
          "referenced_widgets": [
            "b8ca422dfe8340fda975545669054bd4",
            "06dd162ceb3047139dae3600eda680f3",
            "23f426b8b2df49bf93bf9534fad32057",
            "b01a62b998d243aaa6177a9421218b4e",
            "4da80d8b672940e282583f480e90685f",
            "c2e023cb0f994e868b31f73b14b42d61",
            "4b7c78f09d304fb39be88d0bd1b34b74",
            "4dd93a5dcb234ee79ff0a0124cae2c7f"
          ]
        },
        "id": "2bKXTp7FI62H",
        "outputId": "eb6a6956-428a-401f-d40d-fc1a9df4ab9e"
      },
      "source": [
        "f1 = []\n",
        "p = []\n",
        "r = []\n",
        "for pred, truth in tqdm(zip(data_truncated, data_multi_origin[:len(data_truncated)]), total=len(data_truncated)):\n",
        "    candidate = set.union(*map(set, pred))\n",
        "    candidate = set([x.lower() for x in candidate if x.isalpha() or x.isdigit()])\n",
        "\n",
        "    gold = set.union(*map(set, truth['tgt_sent_list']))\n",
        "    gold = set([x.lower() for x in gold if x.isalpha() or x.isdigit()])\n",
        "\n",
        "    rs_eval = abtract2extract.cal_rouge(candidate, gold)\n",
        "    f1.append(rs_eval['f'])\n",
        "    p.append(rs_eval['p'])\n",
        "    r.append(rs_eval['r'])\n",
        "\n",
        "print(f'F1: {np.mean(f1)}\\nPrecidion: {np.mean(p)}\\nRecall: {np.mean(r)}')"
      ],
      "execution_count": null,
      "outputs": [
        {
          "output_type": "display_data",
          "data": {
            "application/vnd.jupyter.widget-view+json": {
              "model_id": "b8ca422dfe8340fda975545669054bd4",
              "version_minor": 0,
              "version_major": 2
            },
            "text/plain": [
              "HBox(children=(FloatProgress(value=0.0, max=5604.0), HTML(value='')))"
            ]
          },
          "metadata": {
            "tags": []
          }
        },
        {
          "output_type": "stream",
          "text": [
            "\n",
            "F1: 0.41392495597299706\n",
            "Precidion: 0.3696112425292407\n",
            "Recall: 0.4997026878968699\n"
          ],
          "name": "stdout"
        }
      ]
    },
    {
      "cell_type": "markdown",
      "metadata": {
        "id": "V6shjhWxKEaG"
      },
      "source": [
        "## Generate label for truncated multidoc"
      ]
    },
    {
      "cell_type": "code",
      "metadata": {
        "colab": {
          "base_uri": "https://localhost:8080/",
          "height": 66,
          "referenced_widgets": [
            "4dbb7453da9042508ba6a823f776d5db",
            "8ef04e1e7bbc4579a0804b410b1e21b4",
            "b3616de3e96d4016932baa94b35d6ef2",
            "939ebeff4651488886351c9ac723d338",
            "dd933252916b4135896b3ad485d4d0d0",
            "e426d81344094c978983bb3e9ff9003a",
            "7991a429e6da4caa9d5ae2ea4ed72ee1",
            "66e49cf25e7445808253c367afb3fc9d"
          ]
        },
        "id": "fXT6ONPkJasj",
        "outputId": "c6871b68-9811-4947-e949-f5971fd74445"
      },
      "source": [
        "bert_sum_format = []\n",
        "mutidoc_extracted = []\n",
        "for pred, truth, p_seg in tqdm(zip(data_truncated, data_multi_origin, paragraph_segment),\\\n",
        "                          total=len(data_multi_origin)):\n",
        "    doc_infor = {}\n",
        "    selected_idx = sorted(abtract2extract.greedy_selection(pred, truth['tgt_sent_list'], 10))\n",
        "    sentences_selected = [pred[i] for i in selected_idx]\n",
        "    # p_segment = [p_seg[i] for i in selected_idx]\n",
        "    mutidoc_extracted.append(sentences_selected)\n",
        "\n",
        "    doc_infor['src_doc_sent_list'] = deepcopy(pred)\n",
        "    doc_infor['tgt_sent_list'] = deepcopy(truth['tgt_sent_list'])\n",
        "    doc_infor['idx_extract'] = deepcopy(selected_idx)\n",
        "    doc_infor['p_seg'] = deepcopy(p_seg)\n",
        "\n",
        "    bert_sum_format.append(doc_infor)"
      ],
      "execution_count": null,
      "outputs": [
        {
          "output_type": "display_data",
          "data": {
            "application/vnd.jupyter.widget-view+json": {
              "model_id": "4dbb7453da9042508ba6a823f776d5db",
              "version_minor": 0,
              "version_major": 2
            },
            "text/plain": [
              "HBox(children=(FloatProgress(value=0.0, max=5609.0), HTML(value='')))"
            ]
          },
          "metadata": {
            "tags": []
          }
        },
        {
          "output_type": "stream",
          "text": [
            "\n"
          ],
          "name": "stdout"
        }
      ]
    },
    {
      "cell_type": "code",
      "metadata": {
        "colab": {
          "base_uri": "https://localhost:8080/"
        },
        "id": "QyzX1RKIRnxv",
        "outputId": "22ec4c43-5736-47c8-e386-437afae116f6"
      },
      "source": [
        "len(bert_sum_format)"
      ],
      "execution_count": null,
      "outputs": [
        {
          "output_type": "execute_result",
          "data": {
            "text/plain": [
              "5609"
            ]
          },
          "metadata": {
            "tags": []
          },
          "execution_count": 63
        }
      ]
    },
    {
      "cell_type": "code",
      "metadata": {
        "colab": {
          "base_uri": "https://localhost:8080/"
        },
        "id": "-MSSZJ_uCY5o",
        "outputId": "db19358a-98f6-4b9e-8786-e55507c29d43"
      },
      "source": [
        "bert_sum_format[0]"
      ],
      "execution_count": null,
      "outputs": [
        {
          "output_type": "execute_result",
          "data": {
            "text/plain": [
              "{'idx_extract': [0, 1, 2, 11, 15, 18, 19],\n",
              " 'p_seg': [0, 0, 0, 0, 0, 0, 1, 1, 1, 1, 1, 2, 2, 2, 2, 2, 2, 3, 3, 3],\n",
              " 'src_doc_sent_list': [['Whether',\n",
              "   'a',\n",
              "   'sign',\n",
              "   'of',\n",
              "   'a',\n",
              "   'good',\n",
              "   'read',\n",
              "   ';',\n",
              "   'or',\n",
              "   'a',\n",
              "   'comment',\n",
              "   'on',\n",
              "   'the',\n",
              "   \"'pulp\",\n",
              "   \"'\",\n",
              "   'nature',\n",
              "   'of',\n",
              "   'some',\n",
              "   'genres',\n",
              "   'of',\n",
              "   'fiction',\n",
              "   ',',\n",
              "   'the',\n",
              "   'Oxfam',\n",
              "   'second-hand',\n",
              "   'book',\n",
              "   'charts',\n",
              "   'have',\n",
              "   'remained',\n",
              "   'in',\n",
              "   'The',\n",
              "   'Da',\n",
              "   'Vinci',\n",
              "   'Code',\n",
              "   'author',\n",
              "   \"'s\",\n",
              "   'favour',\n",
              "   'for',\n",
              "   'the',\n",
              "   'past',\n",
              "   'four',\n",
              "   'years',\n",
              "   '.'],\n",
              "  ['Dan',\n",
              "   'Brown',\n",
              "   'has',\n",
              "   'topped',\n",
              "   'Oxfam',\n",
              "   \"'s\",\n",
              "   \"'most\",\n",
              "   'donated',\n",
              "   \"'\",\n",
              "   'list',\n",
              "   'again',\n",
              "   ',',\n",
              "   'his',\n",
              "   'fourth',\n",
              "   'consecutive',\n",
              "   'year',\n",
              "   '.'],\n",
              "  ['Having',\n",
              "   'sold',\n",
              "   'more',\n",
              "   'than',\n",
              "   '80',\n",
              "   'million',\n",
              "   'copies',\n",
              "   'of',\n",
              "   'The',\n",
              "   'Da',\n",
              "   'Vinci',\n",
              "   'Code',\n",
              "   'and',\n",
              "   'had',\n",
              "   'all',\n",
              "   'four',\n",
              "   'of',\n",
              "   'his',\n",
              "   'novels',\n",
              "   'on',\n",
              "   'the',\n",
              "   'New',\n",
              "   'York',\n",
              "   'Times',\n",
              "   'bestseller',\n",
              "   'list',\n",
              "   'in',\n",
              "   'the',\n",
              "   'same',\n",
              "   'week',\n",
              "   ',',\n",
              "   'it',\n",
              "   \"'s\",\n",
              "   'hardly',\n",
              "   'surprising',\n",
              "   'that',\n",
              "   'Brown',\n",
              "   \"'s\",\n",
              "   'hefty',\n",
              "   'tomes',\n",
              "   'are',\n",
              "   'being',\n",
              "   'donated',\n",
              "   'to',\n",
              "   'charity',\n",
              "   'by',\n",
              "   'readers',\n",
              "   'keen',\n",
              "   'to',\n",
              "   'make',\n",
              "   'some',\n",
              "   'room',\n",
              "   'on',\n",
              "   'their',\n",
              "   'shelves',\n",
              "   '.'],\n",
              "  ['Another',\n",
              "   'cult',\n",
              "   'crime',\n",
              "   'writer',\n",
              "   'responsible',\n",
              "   'to',\n",
              "   'heavy-weight',\n",
              "   'hardbacks',\n",
              "   ',',\n",
              "   'Stieg',\n",
              "   'Larsson',\n",
              "   ',',\n",
              "   'is',\n",
              "   'Oxfam',\n",
              "   \"'s\",\n",
              "   \"'most\",\n",
              "   'sold',\n",
              "   \"'\",\n",
              "   'author',\n",
              "   'for',\n",
              "   'the',\n",
              "   'second',\n",
              "   'time',\n",
              "   'in',\n",
              "   'a',\n",
              "   'row',\n",
              "   '.'],\n",
              "  ['Both',\n",
              "   'the',\n",
              "   \"'most\",\n",
              "   'donated',\n",
              "   \"'\",\n",
              "   'and',\n",
              "   \"'most\",\n",
              "   'sold',\n",
              "   \"'\",\n",
              "   'lists',\n",
              "   'are',\n",
              "   'dominated',\n",
              "   'by',\n",
              "   'crime',\n",
              "   'fiction',\n",
              "   ',',\n",
              "   'trilogies',\n",
              "   'and',\n",
              "   'fantasy',\n",
              "   ',',\n",
              "   'with',\n",
              "   'JK',\n",
              "   'Rowling',\n",
              "   'the',\n",
              "   'only',\n",
              "   'female',\n",
              "   'author',\n",
              "   'listed',\n",
              "   'in',\n",
              "   'either',\n",
              "   'of',\n",
              "   'the',\n",
              "   'Top',\n",
              "   'Fives',\n",
              "   '.'],\n",
              "  ['Click',\n",
              "   'here',\n",
              "   'or',\n",
              "   'on',\n",
              "   '``',\n",
              "   'View',\n",
              "   'Gallery',\n",
              "   \"''\",\n",
              "   'to',\n",
              "   'see',\n",
              "   'both',\n",
              "   'charts',\n",
              "   'in',\n",
              "   'pictures'],\n",
              "  ['REUTERS/Tim',\n",
              "   'Wimborne',\n",
              "   'SAN',\n",
              "   'FRANCISCO',\n",
              "   'The',\n",
              "   'latest',\n",
              "   'novel',\n",
              "   'from',\n",
              "   '``',\n",
              "   'Da',\n",
              "   'Vinci',\n",
              "   'Code',\n",
              "   \"''\",\n",
              "   'author',\n",
              "   'Dan',\n",
              "   'Brown',\n",
              "   ',',\n",
              "   '``',\n",
              "   'The',\n",
              "   'Lost',\n",
              "   'Symbol',\n",
              "   ',',\n",
              "   \"''\",\n",
              "   'broke',\n",
              "   'one-day',\n",
              "   'sales',\n",
              "   'records',\n",
              "   ',',\n",
              "   'its',\n",
              "   'publisher',\n",
              "   'and',\n",
              "   'booksellers',\n",
              "   'said',\n",
              "   '.'],\n",
              "  ['Readers',\n",
              "   'snapped',\n",
              "   'up',\n",
              "   'over',\n",
              "   'one',\n",
              "   'million',\n",
              "   'hardcover',\n",
              "   'copies',\n",
              "   'across',\n",
              "   'the',\n",
              "   'United',\n",
              "   'States',\n",
              "   ',',\n",
              "   'Canada',\n",
              "   'and',\n",
              "   'the',\n",
              "   'United',\n",
              "   'Kingdom',\n",
              "   'after',\n",
              "   'it',\n",
              "   'was',\n",
              "   'released',\n",
              "   'on',\n",
              "   'Tuesday',\n",
              "   ',',\n",
              "   'said',\n",
              "   'publisher',\n",
              "   'Knopf',\n",
              "   'Doubleday',\n",
              "   ',',\n",
              "   'a',\n",
              "   'division',\n",
              "   'of',\n",
              "   'Random',\n",
              "   'House',\n",
              "   'Inc.',\n",
              "   '``',\n",
              "   'We',\n",
              "   'are',\n",
              "   'seeing',\n",
              "   'historic',\n",
              "   ',',\n",
              "   'record-breaking',\n",
              "   'sales',\n",
              "   'across',\n",
              "   'all',\n",
              "   'types',\n",
              "   'of',\n",
              "   'our',\n",
              "   'accounts',\n",
              "   'in',\n",
              "   'North',\n",
              "   'America',\n",
              "   'for',\n",
              "   \"'The\",\n",
              "   'Lost',\n",
              "   'Symbol',\n",
              "   ',',\n",
              "   \"''\",\n",
              "   'said',\n",
              "   'Sonny',\n",
              "   'Mehta',\n",
              "   ',',\n",
              "   'editor',\n",
              "   'in',\n",
              "   'chief',\n",
              "   'of',\n",
              "   'Knopf',\n",
              "   'Doubleday',\n",
              "   'Publishing',\n",
              "   'Group',\n",
              "   '.'],\n",
              "  ['Knopf',\n",
              "   'Doubleday',\n",
              "   'is',\n",
              "   'a',\n",
              "   'division',\n",
              "   'of',\n",
              "   'Random',\n",
              "   'House',\n",
              "   'Inc.',\n",
              "   'Amazon.com',\n",
              "   'Inc',\n",
              "   ',',\n",
              "   'the',\n",
              "   'world',\n",
              "   \"'s\",\n",
              "   'largest',\n",
              "   'online',\n",
              "   'retailer',\n",
              "   ',',\n",
              "   'called',\n",
              "   'the',\n",
              "   'book',\n",
              "   'its',\n",
              "   'bestselling',\n",
              "   'first-day',\n",
              "   'adult',\n",
              "   'fiction',\n",
              "   'title',\n",
              "   'ever',\n",
              "   ',',\n",
              "   'including',\n",
              "   'pre-orders',\n",
              "   '.'],\n",
              "  ['The',\n",
              "   'success',\n",
              "   'of',\n",
              "   'the',\n",
              "   'Dan',\n",
              "   'Brown',\n",
              "   \"'s\",\n",
              "   'latest',\n",
              "   'is',\n",
              "   'a',\n",
              "   'boost',\n",
              "   'to',\n",
              "   'publisher',\n",
              "   'Knopf',\n",
              "   'Doubleday',\n",
              "   'and',\n",
              "   'booksellers',\n",
              "   ',',\n",
              "   'which',\n",
              "   'have',\n",
              "   'endured',\n",
              "   'sliding',\n",
              "   'sales',\n",
              "   'in',\n",
              "   'the',\n",
              "   'midst',\n",
              "   'of',\n",
              "   'the',\n",
              "   'recession',\n",
              "   '.'],\n",
              "  ['The',\n",
              "   'highly',\n",
              "   'anticipated',\n",
              "   'book',\n",
              "   'from',\n",
              "   'Brown',\n",
              "   'comes',\n",
              "   'six',\n",
              "   'years',\n",
              "   'after',\n",
              "   'the',\n",
              "   'release',\n",
              "   'of',\n",
              "   'the',\n",
              "   'American',\n",
              "   'novelist',\n",
              "   \"'s\",\n",
              "   'last',\n",
              "   'book',\n",
              "   '``',\n",
              "   'The',\n",
              "   'Da',\n",
              "   'Vinci',\n",
              "   'Code',\n",
              "   \"''\",\n",
              "   '.'],\n",
              "  ['Brown',\n",
              "   ',',\n",
              "   'who',\n",
              "   'has',\n",
              "   'sold',\n",
              "   'more',\n",
              "   'than',\n",
              "   '81m',\n",
              "   'copies',\n",
              "   'of',\n",
              "   'The',\n",
              "   'Da',\n",
              "   'Vinci',\n",
              "   'Code',\n",
              "   'worldwide',\n",
              "   ',',\n",
              "   'has',\n",
              "   'been',\n",
              "   'revealed',\n",
              "   'as',\n",
              "   'the',\n",
              "   'most',\n",
              "   'donated',\n",
              "   'author',\n",
              "   'to',\n",
              "   'Oxfam',\n",
              "   \"'s\",\n",
              "   '700',\n",
              "   'high',\n",
              "   'street',\n",
              "   'shops',\n",
              "   '.'],\n",
              "  ['With',\n",
              "   'just',\n",
              "   'four',\n",
              "   'books',\n",
              "   'to',\n",
              "   'his',\n",
              "   'name',\n",
              "   '–',\n",
              "   'although',\n",
              "   'his',\n",
              "   'long-awaited',\n",
              "   'fifth',\n",
              "   'The',\n",
              "   'Lost',\n",
              "   'Symbol',\n",
              "   'is',\n",
              "   'published',\n",
              "   'next',\n",
              "   'month',\n",
              "   '–',\n",
              "   'Brown',\n",
              "   'did',\n",
              "   'well',\n",
              "   'to',\n",
              "   'see',\n",
              "   'off',\n",
              "   'competition',\n",
              "   'from',\n",
              "   'John',\n",
              "   'Grisham',\n",
              "   ',',\n",
              "   'author',\n",
              "   'of',\n",
              "   'more',\n",
              "   'than',\n",
              "   '20',\n",
              "   'and',\n",
              "   'the',\n",
              "   'second-most',\n",
              "   'likely',\n",
              "   'writer',\n",
              "   'to',\n",
              "   'be',\n",
              "   'ditched',\n",
              "   'in',\n",
              "   'a',\n",
              "   'charity',\n",
              "   'shop',\n",
              "   'by',\n",
              "   'readers',\n",
              "   '.'],\n",
              "  ['But',\n",
              "   'as',\n",
              "   'secondhand',\n",
              "   'bookshop',\n",
              "   'shelves',\n",
              "   'flood',\n",
              "   'with',\n",
              "   'battered',\n",
              "   'editions',\n",
              "   'of',\n",
              "   'Angels',\n",
              "   'and',\n",
              "   'Demons',\n",
              "   'and',\n",
              "   'Digital',\n",
              "   'Fortress',\n",
              "   ',',\n",
              "   'Brown',\n",
              "   'can',\n",
              "   'comfort',\n",
              "   'himself',\n",
              "   'with',\n",
              "   'the',\n",
              "   'fact',\n",
              "   'that',\n",
              "   'he',\n",
              "   \"'s\",\n",
              "   'also',\n",
              "   'Oxfam',\n",
              "   \"'s\",\n",
              "   'second',\n",
              "   'most',\n",
              "   'bought',\n",
              "   'author',\n",
              "   ':',\n",
              "   'there',\n",
              "   'are',\n",
              "   ',',\n",
              "   'apparently',\n",
              "   ',',\n",
              "   'still',\n",
              "   'readers',\n",
              "   'out',\n",
              "   'there',\n",
              "   'who',\n",
              "   'have',\n",
              "   'yet',\n",
              "   'to',\n",
              "   'follow',\n",
              "   'the',\n",
              "   'adventures',\n",
              "   'of',\n",
              "   'the',\n",
              "   'dapper',\n",
              "   'symbologist',\n",
              "   'Robert',\n",
              "   'Langdon',\n",
              "   '.'],\n",
              "  ['``',\n",
              "   'There',\n",
              "   \"'s\",\n",
              "   'no',\n",
              "   'question',\n",
              "   'that',\n",
              "   'when',\n",
              "   'you',\n",
              "   'go',\n",
              "   'into',\n",
              "   'the',\n",
              "   'back',\n",
              "   'room',\n",
              "   'of',\n",
              "   'Oxfam',\n",
              "   'shops',\n",
              "   'there',\n",
              "   'are',\n",
              "   'many',\n",
              "   'Dan',\n",
              "   'Brown',\n",
              "   'books',\n",
              "   ',',\n",
              "   \"''\",\n",
              "   'said',\n",
              "   'Oxfam',\n",
              "   \"'s\",\n",
              "   'director',\n",
              "   'of',\n",
              "   'trading',\n",
              "   'David',\n",
              "   'McCullough',\n",
              "   '.'],\n",
              "  ['``',\n",
              "   'But',\n",
              "   'he',\n",
              "   \"'s\",\n",
              "   'also',\n",
              "   'very',\n",
              "   'high',\n",
              "   'on',\n",
              "   'the',\n",
              "   'bestseller',\n",
              "   'list',\n",
              "   'so',\n",
              "   'there',\n",
              "   'is',\n",
              "   'a',\n",
              "   'useful',\n",
              "   'recycling',\n",
              "   'exercise',\n",
              "   'going',\n",
              "   'on',\n",
              "   '–',\n",
              "   'it',\n",
              "   \"'s\",\n",
              "   'not',\n",
              "   'just',\n",
              "   'people',\n",
              "   'saying',\n",
              "   \"'I\",\n",
              "   \"'ve\",\n",
              "   'read',\n",
              "   'The',\n",
              "   'Da',\n",
              "   'Vinci',\n",
              "   'Code',\n",
              "   'and',\n",
              "   'now',\n",
              "   'I',\n",
              "   'must',\n",
              "   'get',\n",
              "   'rid',\n",
              "   'of',\n",
              "   'it',\n",
              "   \"'\",\n",
              "   '.',\n",
              "   \"''\"],\n",
              "  ['``',\n",
              "   'It',\n",
              "   \"'s\",\n",
              "   'always',\n",
              "   'good',\n",
              "   'for',\n",
              "   'an',\n",
              "   'author',\n",
              "   'to',\n",
              "   'know',\n",
              "   'that',\n",
              "   'their',\n",
              "   'books',\n",
              "   'are',\n",
              "   'popular',\n",
              "   ',',\n",
              "   \"''\",\n",
              "   'said',\n",
              "   'the',\n",
              "   'Scottish',\n",
              "   'author',\n",
              "   ',',\n",
              "   'who',\n",
              "   'will',\n",
              "   'unveil',\n",
              "   'a',\n",
              "   'new',\n",
              "   'policeman',\n",
              "   'hero',\n",
              "   ',',\n",
              "   'the',\n",
              "   'teetotal',\n",
              "   'Malcolm',\n",
              "   'Fox',\n",
              "   ',',\n",
              "   'next',\n",
              "   'month',\n",
              "   '.'],\n",
              "  ['A',\n",
              "   'charity',\n",
              "   'shop',\n",
              "   'is',\n",
              "   'urging',\n",
              "   'people',\n",
              "   'to',\n",
              "   'stop',\n",
              "   'donating',\n",
              "   'The',\n",
              "   'Da',\n",
              "   'Vinci',\n",
              "   'Code',\n",
              "   'after',\n",
              "   'becoming',\n",
              "   'overwhelmed',\n",
              "   'with',\n",
              "   'copies',\n",
              "   '.'],\n",
              "  ['The',\n",
              "   'Oxfam',\n",
              "   'shop',\n",
              "   'in',\n",
              "   'Swansea',\n",
              "   'has',\n",
              "   'been',\n",
              "   'receiving',\n",
              "   'an',\n",
              "   'average',\n",
              "   'of',\n",
              "   'one',\n",
              "   'copy',\n",
              "   'of',\n",
              "   'the',\n",
              "   'Dan',\n",
              "   'Brown',\n",
              "   'novel',\n",
              "   'a',\n",
              "   'week',\n",
              "   'for',\n",
              "   'months',\n",
              "   ',',\n",
              "   'leaving',\n",
              "   'them',\n",
              "   'with',\n",
              "   'little',\n",
              "   'room',\n",
              "   'for',\n",
              "   'any',\n",
              "   'other',\n",
              "   'books',\n",
              "   '.'],\n",
              "  ['Staff',\n",
              "   'who',\n",
              "   'are',\n",
              "   'struggling',\n",
              "   'to',\n",
              "   'sell',\n",
              "   'copies',\n",
              "   'of',\n",
              "   'the',\n",
              "   'book',\n",
              "   'have',\n",
              "   'put',\n",
              "   'a',\n",
              "   'note',\n",
              "   'up',\n",
              "   'in',\n",
              "   'the',\n",
              "   'store',\n",
              "   'saying',\n",
              "   'they',\n",
              "   'would',\n",
              "   'rather',\n",
              "   'donors',\n",
              "   'hand',\n",
              "   'in',\n",
              "   'their',\n",
              "   'vinyl',\n",
              "   'instead',\n",
              "   '.']],\n",
              " 'tgt_sent_list': [['–',\n",
              "   'The',\n",
              "   'Da',\n",
              "   'Vinci',\n",
              "   'Code',\n",
              "   'has',\n",
              "   'sold',\n",
              "   'so',\n",
              "   'many',\n",
              "   'copies—that',\n",
              "   'would',\n",
              "   'be',\n",
              "   'at',\n",
              "   'least',\n",
              "   '80',\n",
              "   'million—that',\n",
              "   'it',\n",
              "   \"'s\",\n",
              "   'bound',\n",
              "   'to',\n",
              "   'turn',\n",
              "   'up',\n",
              "   'in',\n",
              "   'book',\n",
              "   'donation',\n",
              "   'piles',\n",
              "   '.'],\n",
              "  ['But',\n",
              "   'at',\n",
              "   'one',\n",
              "   'charity',\n",
              "   'shop',\n",
              "   'in',\n",
              "   'the',\n",
              "   'UK',\n",
              "   ',',\n",
              "   'it',\n",
              "   \"'s\",\n",
              "   'been',\n",
              "   'donated',\n",
              "   'so',\n",
              "   'heavily',\n",
              "   'that',\n",
              "   'the',\n",
              "   'shop',\n",
              "   'has',\n",
              "   'posted',\n",
              "   'a',\n",
              "   'sign',\n",
              "   'propped',\n",
              "   'up',\n",
              "   'on',\n",
              "   'a',\n",
              "   'tower',\n",
              "   'of',\n",
              "   'Da',\n",
              "   'Vinci',\n",
              "   'Code',\n",
              "   'copies',\n",
              "   'that',\n",
              "   'reads',\n",
              "   ':',\n",
              "   '``',\n",
              "   'You',\n",
              "   'could',\n",
              "   'give',\n",
              "   'us',\n",
              "   'another',\n",
              "   'Da',\n",
              "   'Vinci',\n",
              "   'Code',\n",
              "   '...',\n",
              "   'but',\n",
              "   'we',\n",
              "   'would',\n",
              "   'rather',\n",
              "   'have',\n",
              "   'your',\n",
              "   'vinyl',\n",
              "   '!',\n",
              "   \"''\"],\n",
              "  ['The',\n",
              "   'manager',\n",
              "   'of',\n",
              "   'the',\n",
              "   'Oxfam',\n",
              "   'shop',\n",
              "   'in',\n",
              "   'Swansea',\n",
              "   'tells',\n",
              "   'the',\n",
              "   'Telegraph',\n",
              "   'that',\n",
              "   'people',\n",
              "   'are',\n",
              "   'laughing',\n",
              "   'and',\n",
              "   'taking',\n",
              "   'pictures',\n",
              "   'of',\n",
              "   'the',\n",
              "   'sizable',\n",
              "   'display',\n",
              "   ':',\n",
              "   '``',\n",
              "   'I',\n",
              "   'would',\n",
              "   'say',\n",
              "   'that',\n",
              "   'we',\n",
              "   'get',\n",
              "   'one',\n",
              "   'copy',\n",
              "   'of',\n",
              "   'the',\n",
              "   'book',\n",
              "   'every',\n",
              "   'day',\n",
              "   '.',\n",
              "   \"''\"],\n",
              "  ['He',\n",
              "   'says',\n",
              "   'people',\n",
              "   'buy',\n",
              "   'them',\n",
              "   '``',\n",
              "   'occasionally',\n",
              "   ',',\n",
              "   \"''\",\n",
              "   'but',\n",
              "   'with',\n",
              "   'vinyl',\n",
              "   'sales',\n",
              "   'up',\n",
              "   '25',\n",
              "   '%',\n",
              "   'in',\n",
              "   'the',\n",
              "   'past',\n",
              "   'year',\n",
              "   ',',\n",
              "   'they',\n",
              "   \"'d\",\n",
              "   'rather',\n",
              "   'take',\n",
              "   'records',\n",
              "   '.'],\n",
              "  ['Dan',\n",
              "   'Brown',\n",
              "   \"'s\",\n",
              "   'book',\n",
              "   'is',\n",
              "   \"n't\",\n",
              "   'the',\n",
              "   'only',\n",
              "   'one',\n",
              "   'that',\n",
              "   'shops',\n",
              "   'like',\n",
              "   'Oxfam',\n",
              "   'struggle',\n",
              "   'to',\n",
              "   're-sell',\n",
              "   '.'],\n",
              "  ['Last',\n",
              "   'year',\n",
              "   ',',\n",
              "   'Oxfam',\n",
              "   'was',\n",
              "   'hit',\n",
              "   'with',\n",
              "   'a',\n",
              "   'large',\n",
              "   'and',\n",
              "   'steady',\n",
              "   'supply',\n",
              "   'of',\n",
              "   'Fifty',\n",
              "   'Shades',\n",
              "   'of',\n",
              "   'Grey',\n",
              "   ',',\n",
              "   'and',\n",
              "   'it',\n",
              "   'similarly',\n",
              "   'begged',\n",
              "   'donors',\n",
              "   ':',\n",
              "   '``',\n",
              "   'Please—no',\n",
              "   'more',\n",
              "   '.',\n",
              "   \"''\"],\n",
              "  ['But',\n",
              "   'Brown',\n",
              "   'has',\n",
              "   'a',\n",
              "   'particular',\n",
              "   'kind',\n",
              "   'of',\n",
              "   'staying',\n",
              "   'power',\n",
              "   '.'],\n",
              "  ['The',\n",
              "   'Da',\n",
              "   'Vinci',\n",
              "   'Code',\n",
              "   'was',\n",
              "   'published',\n",
              "   'in',\n",
              "   '2003',\n",
              "   ',',\n",
              "   'and',\n",
              "   'within',\n",
              "   'six',\n",
              "   'years',\n",
              "   'Brown',\n",
              "   'had',\n",
              "   'booted',\n",
              "   'John',\n",
              "   'Grisham',\n",
              "   'from',\n",
              "   'the',\n",
              "   'No',\n",
              "   '.'],\n",
              "  ['1',\n",
              "   'slot',\n",
              "   'on',\n",
              "   'the',\n",
              "   'list',\n",
              "   'of',\n",
              "   'writers',\n",
              "   'whose',\n",
              "   'books',\n",
              "   'were',\n",
              "   'most',\n",
              "   'often',\n",
              "   'donated',\n",
              "   'to',\n",
              "   'Oxfam',\n",
              "   \"'s\",\n",
              "   '700',\n",
              "   'shops',\n",
              "   ',',\n",
              "   'reported',\n",
              "   'the',\n",
              "   'Guardian',\n",
              "   'at',\n",
              "   'the',\n",
              "   'time',\n",
              "   '.'],\n",
              "  ['The',\n",
              "   'Independent',\n",
              "   'in',\n",
              "   '2012',\n",
              "   'reported',\n",
              "   'Brown',\n",
              "   \"'s\",\n",
              "   'best-seller',\n",
              "   'was',\n",
              "   'the',\n",
              "   'most-donated',\n",
              "   'book',\n",
              "   'for',\n",
              "   'the',\n",
              "   'fourth',\n",
              "   'year',\n",
              "   'running',\n",
              "   '.'],\n",
              "  ['(',\n",
              "   'See',\n",
              "   'why',\n",
              "   'Dan',\n",
              "   'Brown',\n",
              "   'took',\n",
              "   'heat',\n",
              "   'from',\n",
              "   'the',\n",
              "   'Philippines',\n",
              "   '.',\n",
              "   ')']]}"
            ]
          },
          "metadata": {
            "tags": []
          },
          "execution_count": 54
        }
      ]
    },
    {
      "cell_type": "code",
      "metadata": {
        "id": "19S5uFKGKgcX"
      },
      "source": [
        "# with open('/content/bert_sum_format_multi_extract_val.json', 'w') as file:\n",
        "with open('/content/drive/MyDrive/Colab Notebooks/20202/data/bert_sum_format_multi_extract_test_seg.json', 'w') as file:\n",
        "    json.dump(bert_sum_format, file)"
      ],
      "execution_count": null,
      "outputs": []
    },
    {
      "cell_type": "markdown",
      "metadata": {
        "id": "7vlA3gxzLJ0K"
      },
      "source": [
        "### Rouge for label generated"
      ]
    },
    {
      "cell_type": "markdown",
      "metadata": {
        "id": "cMvAyYyYFC2m"
      },
      "source": [
        "#### Pyrouge"
      ]
    },
    {
      "cell_type": "code",
      "metadata": {
        "colab": {
          "base_uri": "https://localhost:8080/",
          "height": 953,
          "referenced_widgets": [
            "7ebc811178824c028b4198fa34ee34d5",
            "196b4ace5d62455e91f70f04d825fa54",
            "b179fea66e7548a1a38ffe092f151f66",
            "51d9c8bc0deb4fae93188c99ff6834de",
            "c84f6dfa0b9a4de295e8a327c590aca2",
            "a3548d6857fd4cddb79cbcf2111f5d54",
            "597364c4d3a94b32ac31c4fc56cdc6d8",
            "90acb83dd4df4aa19b7ac8876911ce76"
          ]
        },
        "id": "3N_ItipxE6JW",
        "outputId": "8b7f226c-5b7a-4f08-bbf7-49e71d522909"
      },
      "source": [
        "# for pyrouge test\n",
        "# processed_data[0].keys()\n",
        "file_cand = open('candidate.txt', 'w')\n",
        "file_ref = open('reference.txt', 'w')\n",
        "for pred, truth in tqdm(zip(mutidoc_extracted, data_multi_origin[:len(mutidoc_extracted)]),\\\n",
        "                        total=len(mutidoc_extracted)):\n",
        "    cand = ' '.join([' '.join(s) for s in pred])\n",
        "    ref = ' '.join([' '.join(s) for s in truth['tgt_sent_list']])\n",
        "    file_cand.write(cand+'\\n')\n",
        "    file_ref.write(ref+'\\n')\n",
        "file_cand.close()\n",
        "file_ref.close()\n",
        "!mkdir '/content/temp'\n",
        "test_rouge('/content/temp', '/content/candidate.txt', '/content/reference.txt')"
      ],
      "execution_count": null,
      "outputs": [
        {
          "output_type": "display_data",
          "data": {
            "application/vnd.jupyter.widget-view+json": {
              "model_id": "7ebc811178824c028b4198fa34ee34d5",
              "version_minor": 0,
              "version_major": 2
            },
            "text/plain": [
              "HBox(children=(FloatProgress(value=0.0, max=5604.0), HTML(value='')))"
            ]
          },
          "metadata": {
            "tags": []
          }
        },
        {
          "output_type": "stream",
          "text": [
            "\n",
            "mkdir: cannot create directory ‘/content/temp’: File exists\n",
            "5604\n",
            "5604\n"
          ],
          "name": "stdout"
        },
        {
          "output_type": "stream",
          "text": [
            "2021-05-07 09:06:39,377 [MainThread  ] [INFO ]  Writing summaries.\n",
            "2021-05-07 09:06:39,380 [MainThread  ] [INFO ]  Processing summaries. Saving system files to /content/temp/tmp27qcxpcg/system and model files to /content/temp/tmp27qcxpcg/model.\n",
            "2021-05-07 09:06:39,384 [MainThread  ] [INFO ]  Processing files in /content/temp/rouge-tmp-2021-05-07-09-06-38/candidate/.\n",
            "2021-05-07 09:06:40,121 [MainThread  ] [INFO ]  Saved processed files to /content/temp/tmp27qcxpcg/system.\n",
            "2021-05-07 09:06:40,124 [MainThread  ] [INFO ]  Processing files in /content/temp/rouge-tmp-2021-05-07-09-06-38/reference/.\n",
            "2021-05-07 09:06:41,282 [MainThread  ] [INFO ]  Saved processed files to /content/temp/tmp27qcxpcg/model.\n",
            "2021-05-07 09:06:41,370 [MainThread  ] [INFO ]  Written ROUGE configuration to /content/temp/tmpwdjbjln6/rouge_conf.xml\n",
            "2021-05-07 09:06:41,374 [MainThread  ] [INFO ]  Running ROUGE with command /content/pyrouge/tools/ROUGE-1.5.5/ROUGE-1.5.5.pl -e /content/pyrouge/tools/ROUGE-1.5.5/data -c 95 -m -r 1000 -n 2 -a /content/temp/tmpwdjbjln6/rouge_conf.xml\n"
          ],
          "name": "stderr"
        },
        {
          "output_type": "stream",
          "text": [
            "---------------------------------------------\n",
            "1 ROUGE-1 Average_R: 0.44831 (95%-conf.int. 0.44568 - 0.45108)\n",
            "1 ROUGE-1 Average_P: 0.61833 (95%-conf.int. 0.61512 - 0.62165)\n",
            "1 ROUGE-1 Average_F: 0.50920 (95%-conf.int. 0.50679 - 0.51170)\n",
            "---------------------------------------------\n",
            "1 ROUGE-2 Average_R: 0.20490 (95%-conf.int. 0.20195 - 0.20816)\n",
            "1 ROUGE-2 Average_P: 0.29213 (95%-conf.int. 0.28747 - 0.29711)\n",
            "1 ROUGE-2 Average_F: 0.23585 (95%-conf.int. 0.23233 - 0.23962)\n",
            "---------------------------------------------\n",
            "1 ROUGE-L Average_R: 0.22531 (95%-conf.int. 0.22286 - 0.22794)\n",
            "1 ROUGE-L Average_P: 0.31811 (95%-conf.int. 0.31430 - 0.32213)\n",
            "1 ROUGE-L Average_F: 0.25818 (95%-conf.int. 0.25541 - 0.26117)\n",
            "\n"
          ],
          "name": "stdout"
        },
        {
          "output_type": "execute_result",
          "data": {
            "text/plain": [
              "{'rouge_1_f_score': 0.5092,\n",
              " 'rouge_1_f_score_cb': 0.50679,\n",
              " 'rouge_1_f_score_ce': 0.5117,\n",
              " 'rouge_1_precision': 0.61833,\n",
              " 'rouge_1_precision_cb': 0.61512,\n",
              " 'rouge_1_precision_ce': 0.62165,\n",
              " 'rouge_1_recall': 0.44831,\n",
              " 'rouge_1_recall_cb': 0.44568,\n",
              " 'rouge_1_recall_ce': 0.45108,\n",
              " 'rouge_2_f_score': 0.23585,\n",
              " 'rouge_2_f_score_cb': 0.23233,\n",
              " 'rouge_2_f_score_ce': 0.23962,\n",
              " 'rouge_2_precision': 0.29213,\n",
              " 'rouge_2_precision_cb': 0.28747,\n",
              " 'rouge_2_precision_ce': 0.29711,\n",
              " 'rouge_2_recall': 0.2049,\n",
              " 'rouge_2_recall_cb': 0.20195,\n",
              " 'rouge_2_recall_ce': 0.20816,\n",
              " 'rouge_l_f_score': 0.25818,\n",
              " 'rouge_l_f_score_cb': 0.25541,\n",
              " 'rouge_l_f_score_ce': 0.26117,\n",
              " 'rouge_l_precision': 0.31811,\n",
              " 'rouge_l_precision_cb': 0.3143,\n",
              " 'rouge_l_precision_ce': 0.32213,\n",
              " 'rouge_l_recall': 0.22531,\n",
              " 'rouge_l_recall_cb': 0.22286,\n",
              " 'rouge_l_recall_ce': 0.22794}"
            ]
          },
          "metadata": {
            "tags": []
          },
          "execution_count": 57
        }
      ]
    },
    {
      "cell_type": "markdown",
      "metadata": {
        "id": "jDN_Xk2ILmDH"
      },
      "source": [
        "#### Rouge on origin"
      ]
    },
    {
      "cell_type": "code",
      "metadata": {
        "colab": {
          "base_uri": "https://localhost:8080/",
          "height": 117,
          "referenced_widgets": [
            "ebf3f79e550a4135999288a7c816ac2e",
            "c84431f610a2429a9a33f5aa98df53d5",
            "0ac12f40a1864c0fbb15ed9ddd2292bb",
            "b902ea4963b9440198f582177017377a",
            "de9dac8a7c2b4463bdbfa39b4af45027",
            "4e34b575ae8c4002abf6d3dd9ab567f5",
            "d7312832068d4949b501f4d059aebb26",
            "bf62430466754f5ea7b74bf53a91edf4"
          ]
        },
        "id": "sFy5q9B3Lj96",
        "outputId": "99dd8642-da96-44df-92d1-ec88f58779eb"
      },
      "source": [
        "f1 = []\n",
        "p = []\n",
        "r = []\n",
        "for pred, truth in tqdm(zip(mutidoc_extracted, data_multi_origin[:len(mutidoc_extracted)]),\\\n",
        "                        total=len(mutidoc_extracted)):\n",
        "    candidate = set.union(*map(set, pred))\n",
        "    gold = set.union(*map(set, truth['tgt_sent_list']))\n",
        "    rs_eval = abtract2extract.cal_rouge(candidate, gold)\n",
        "    f1.append(rs_eval['f'])\n",
        "    p.append(rs_eval['p'])\n",
        "    r.append(rs_eval['r'])\n",
        "    \n",
        "print(f'F1: {np.mean(f1)}\\nPrecidion: {np.mean(p)}\\nRecall: {np.mean(r)}')"
      ],
      "execution_count": null,
      "outputs": [
        {
          "output_type": "display_data",
          "data": {
            "application/vnd.jupyter.widget-view+json": {
              "model_id": "ebf3f79e550a4135999288a7c816ac2e",
              "version_minor": 0,
              "version_major": 2
            },
            "text/plain": [
              "HBox(children=(FloatProgress(value=0.0, max=5604.0), HTML(value='')))"
            ]
          },
          "metadata": {
            "tags": []
          }
        },
        {
          "output_type": "stream",
          "text": [
            "\n",
            "F1: 0.4695959018871691\n",
            "Precidion: 0.5557354117781445\n",
            "Recall: 0.41570517062124157\n"
          ],
          "name": "stdout"
        }
      ]
    },
    {
      "cell_type": "markdown",
      "metadata": {
        "id": "mm9mmL6qLo_0"
      },
      "source": [
        "#### Rouge after preprocess"
      ]
    },
    {
      "cell_type": "code",
      "metadata": {
        "colab": {
          "base_uri": "https://localhost:8080/",
          "height": 117,
          "referenced_widgets": [
            "d70e039605c943878d41a495462d2269",
            "d1cd2526bc4a47abbc3b7ad9028789cb",
            "f6ef27f80d1545a68b59a2e914ddd7c9",
            "21547ac82b12404ca7bb89fa629ed9d6",
            "0eb7eaac144b4d1195f35687fb8797ce",
            "e10729acd02f4b7ca7e0edd07659313c",
            "7833e12b55934ac8809e1236686f4f71",
            "fe255fef13bd4887a97511e25da1540b"
          ]
        },
        "id": "xEaGmYcjK-ha",
        "outputId": "58f61eb0-3c57-42d0-82b3-34528a52edb4"
      },
      "source": [
        "f1 = []\n",
        "p = []\n",
        "r = []\n",
        "for pred, truth in tqdm(zip(mutidoc_extracted, data_multi_origin[:len(mutidoc_extracted)]),\\\n",
        "                        total=len(mutidoc_extracted)):\n",
        "    candidate = set.union(*map(set, pred))\n",
        "    candidate = set([x.lower() for x in candidate if x.isalpha() or x.isdigit()])\n",
        "    \n",
        "    gold = set.union(*map(set, truth['tgt_sent_list']))\n",
        "    gold = set([x.lower() for x in gold if x.isalpha() or x.isdigit()])\n",
        "    rs_eval = abtract2extract.cal_rouge(candidate, gold)\n",
        "    f1.append(rs_eval['f'])\n",
        "    p.append(rs_eval['p'])\n",
        "    r.append(rs_eval['r'])\n",
        "\n",
        "print(f'F1: {np.mean(f1)}\\nPrecidion: {np.mean(p)}\\nRecall: {np.mean(r)}')"
      ],
      "execution_count": null,
      "outputs": [
        {
          "output_type": "display_data",
          "data": {
            "application/vnd.jupyter.widget-view+json": {
              "model_id": "d70e039605c943878d41a495462d2269",
              "version_minor": 0,
              "version_major": 2
            },
            "text/plain": [
              "HBox(children=(FloatProgress(value=0.0, max=5604.0), HTML(value='')))"
            ]
          },
          "metadata": {
            "tags": []
          }
        },
        {
          "output_type": "stream",
          "text": [
            "\n",
            "F1: 0.4802559558509837\n",
            "Precidion: 0.5698777121280286\n",
            "Recall: 0.4245048518290987\n"
          ],
          "name": "stdout"
        }
      ]
    },
    {
      "cell_type": "code",
      "metadata": {
        "id": "QXkkch_TL4D4"
      },
      "source": [
        ""
      ],
      "execution_count": null,
      "outputs": []
    },
    {
      "cell_type": "markdown",
      "metadata": {
        "id": "i-vWB-dpUXrV"
      },
      "source": [
        "# Check lại data multi xem sai j ko"
      ]
    },
    {
      "cell_type": "code",
      "metadata": {
        "id": "-zfnfQRqUbAY"
      },
      "source": [
        "with open('/content/drive/MyDrive/Colab Notebooks/20202/data/bert_sum_format_multi_extract_test.json', 'r') as file:\n",
        "    test_data = json.load(file)"
      ],
      "execution_count": null,
      "outputs": []
    },
    {
      "cell_type": "code",
      "metadata": {
        "id": "gqfWlKNBUoLo"
      },
      "source": [
        "from collections import Counter\n",
        "length = []\n",
        "for i in range(len(test_data)):\n",
        "    l = len(test_data[i]['src_doc_sent_list'])\n",
        "    length.append(l)\n",
        "freq = Counter(length)"
      ],
      "execution_count": null,
      "outputs": []
    },
    {
      "cell_type": "code",
      "metadata": {
        "colab": {
          "base_uri": "https://localhost:8080/",
          "height": 428
        },
        "id": "QfuZge3QUyfo",
        "outputId": "806f1716-2a5c-4707-c0ef-02edd0c7fdef"
      },
      "source": [
        "import matplotlib.pyplot as plt\n",
        "plt.figure(figsize=(12, 7))\n",
        "plt.bar(x=list(freq.keys()), height=list(freq.values()))\n",
        "plt.xticks(range(0, 50, 2))\n",
        "plt.show()"
      ],
      "execution_count": null,
      "outputs": [
        {
          "output_type": "display_data",
          "data": {
            "image/png": "[encoded data removed]",
            "text/plain": [
              "<Figure size 864x504 with 1 Axes>"
            ]
          },
          "metadata": {
            "tags": [],
            "needs_background": "light"
          }
        }
      ]
    },
    {
      "cell_type": "code",
      "metadata": {
        "colab": {
          "base_uri": "https://localhost:8080/"
        },
        "id": "iRjlM6ODVqCa",
        "outputId": "968606bc-37f8-44cc-e4c3-53b6c08e33a0"
      },
      "source": [
        "test_data[0].keys()"
      ],
      "execution_count": null,
      "outputs": [
        {
          "output_type": "execute_result",
          "data": {
            "text/plain": [
              "dict_keys(['src_doc_sent_list', 'tgt_sent_list', 'idx_extract'])"
            ]
          },
          "metadata": {
            "tags": []
          },
          "execution_count": 14
        }
      ]
    },
    {
      "cell_type": "code",
      "metadata": {
        "colab": {
          "base_uri": "https://localhost:8080/",
          "height": 117,
          "referenced_widgets": [
            "f7a389f0a69647708ca087590fb61bbf",
            "c9f054fe4f64429189479b2f00dcee1b",
            "4e69f3d2af4f43278ea08fa605f4448c",
            "77869a214ca94d24b5ca303e3d1a664c",
            "4f103f145516494c8694798d4d8ab3da",
            "7d4f8bb95a6440ada3316b6b1d98e9cd",
            "1588f72ce8514bd094f7babaffa2d3e9",
            "b5688124292642d49cb455dc1375ea7a"
          ]
        },
        "id": "sFuAfjxsVHZ3",
        "outputId": "81b5600d-2c1e-44d7-a1c8-b3b66b441f15"
      },
      "source": [
        "f1 = []\n",
        "p = []\n",
        "r = []\n",
        "for data in tqdm(test_data, total=len(test_data)):\n",
        "    pred = data['src_doc_sent_list']\n",
        "    candidate = set.union(*map(set, pred))\n",
        "    candidate = set([x.lower() for x in candidate if x.isalpha() or x.isdigit()])\n",
        "    \n",
        "    gold = set.union(*map(set, data['tgt_sent_list']))\n",
        "    gold = set([x.lower() for x in gold if x.isalpha() or x.isdigit()])\n",
        "    rs_eval = abtract2extract.cal_rouge(candidate, gold)\n",
        "    f1.append(rs_eval['f'])\n",
        "    p.append(rs_eval['p'])\n",
        "    r.append(rs_eval['r'])\n",
        "\n",
        "print(f'F1: {np.mean(f1)}\\nPrecidion: {np.mean(p)}\\nRecall: {np.mean(r)}')"
      ],
      "execution_count": null,
      "outputs": [
        {
          "output_type": "display_data",
          "data": {
            "application/vnd.jupyter.widget-view+json": {
              "model_id": "f7a389f0a69647708ca087590fb61bbf",
              "version_minor": 0,
              "version_major": 2
            },
            "text/plain": [
              "HBox(children=(FloatProgress(value=0.0, max=5609.0), HTML(value='')))"
            ]
          },
          "metadata": {
            "tags": []
          }
        },
        {
          "output_type": "stream",
          "text": [
            "\n",
            "F1: 0.4174422498104231\n",
            "Precidion: 0.3714610016167711\n",
            "Recall: 0.5046799997269951\n"
          ],
          "name": "stdout"
        }
      ]
    },
    {
      "cell_type": "code",
      "metadata": {
        "id": "HTpDx3IUV7zL"
      },
      "source": [
        ""
      ],
      "execution_count": null,
      "outputs": []
    }
  ]
}